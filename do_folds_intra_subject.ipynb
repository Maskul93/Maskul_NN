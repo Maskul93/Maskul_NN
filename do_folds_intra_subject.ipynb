{
 "cells": [
  {
   "cell_type": "code",
   "execution_count": 3,
   "metadata": {},
   "outputs": [
    {
     "name": "stdout",
     "output_type": "stream",
     "text": [
      "Subject 1 lines: 314101\n",
      "from 0 to 31410\n",
      "from 31410 to 62820\n",
      "from 62820 to 94230\n",
      "from 94230 to 125640\n",
      "from 125640 to 157050\n",
      "from 157050 to 188460\n",
      "from 188460 to 219870\n",
      "from 219870 to 251280\n",
      "from 251280 to 282690\n",
      "from 282690 to 314100\n",
      "Subject 2 lines: 316623\n",
      "from 0 to 31662\n",
      "from 31662 to 63324\n"
     ]
    },
    {
     "ename": "KeyboardInterrupt",
     "evalue": "",
     "output_type": "error",
     "traceback": [
      "\u001b[0;31m---------------------------------------------------------------\u001b[0m",
      "\u001b[0;31mKeyboardInterrupt\u001b[0m             Traceback (most recent call last)",
      "\u001b[0;32m<ipython-input-3-38cb7f35113d>\u001b[0m in \u001b[0;36m<module>\u001b[0;34m\u001b[0m\n\u001b[1;32m     43\u001b[0m             \u001b[0mcsv_writer_train\u001b[0m \u001b[0;34m=\u001b[0m \u001b[0mcsv\u001b[0m\u001b[0;34m.\u001b[0m\u001b[0mwriter\u001b[0m\u001b[0;34m(\u001b[0m\u001b[0mtrain_file\u001b[0m\u001b[0;34m)\u001b[0m\u001b[0;34m\u001b[0m\u001b[0;34m\u001b[0m\u001b[0m\n\u001b[1;32m     44\u001b[0m             \u001b[0;32mfor\u001b[0m \u001b[0mline\u001b[0m \u001b[0;32min\u001b[0m \u001b[0msubj_lines\u001b[0m\u001b[0;34m[\u001b[0m\u001b[0;34m:\u001b[0m\u001b[0mstartTest\u001b[0m\u001b[0;34m]\u001b[0m\u001b[0;34m:\u001b[0m\u001b[0;34m\u001b[0m\u001b[0;34m\u001b[0m\u001b[0m\n\u001b[0;32m---> 45\u001b[0;31m                 \u001b[0mcsv_writer_train\u001b[0m\u001b[0;34m.\u001b[0m\u001b[0mwriterow\u001b[0m\u001b[0;34m(\u001b[0m\u001b[0mline\u001b[0m\u001b[0;34m)\u001b[0m\u001b[0;34m\u001b[0m\u001b[0;34m\u001b[0m\u001b[0m\n\u001b[0m\u001b[1;32m     46\u001b[0m             \u001b[0;32mfor\u001b[0m \u001b[0mline\u001b[0m \u001b[0;32min\u001b[0m \u001b[0msubj_lines\u001b[0m\u001b[0;34m[\u001b[0m\u001b[0mendTest\u001b[0m\u001b[0;34m:\u001b[0m\u001b[0;34m]\u001b[0m\u001b[0;34m:\u001b[0m\u001b[0;34m\u001b[0m\u001b[0;34m\u001b[0m\u001b[0m\n\u001b[1;32m     47\u001b[0m                 \u001b[0mcsv_writer_train\u001b[0m\u001b[0;34m.\u001b[0m\u001b[0mwriterow\u001b[0m\u001b[0;34m(\u001b[0m\u001b[0mline\u001b[0m\u001b[0;34m)\u001b[0m\u001b[0;34m\u001b[0m\u001b[0;34m\u001b[0m\u001b[0m\n",
      "\u001b[0;31mKeyboardInterrupt\u001b[0m: "
     ]
    }
   ],
   "source": [
    "# Questa funzione crea le folds quando si considerano test INTRA-SUBJECT, cioè quando la rete viene allenata\n",
    "# e testata sullo stesso paziente.\n",
    "# L'idea è quella di \"far scorrere\" il segnale del paziente da foldare, prendendo:\n",
    "    # 90% per il TRAINFOLD\n",
    "    # 10% per il TESTFOLD\n",
    "\n",
    "import csv\n",
    "from random import shuffle\n",
    "import os\n",
    "\n",
    "total_patients = 5\n",
    "n_folds = 10\n",
    "\n",
    "random_assignment = True\n",
    "\n",
    "#subjects_path = \"../All_csv_subjects/Biphase_subjects/min-max/windows_20/no_transitions/\"\n",
    "subjects_path = \"../subjects/min-max/windows_20/tr-False_sliding_1_c-True/\"\n",
    "prefix = \"s\"\n",
    "suffix = \"_norm_windows_20.csv\"\n",
    "out_sub_folder = \"folds_intra\"\n",
    "\n",
    "log = subjects_path + out_sub_folder + \"/folds_info.txt\"\n",
    "\n",
    "if not os.path.exists(subjects_path + out_sub_folder):\n",
    "    os.mkdir(subjects_path + out_sub_folder)\n",
    "\n",
    "\n",
    "for subj in range(1,total_patients+1):\n",
    "    subj_lines = []\n",
    "    with open(subjects_path + prefix + str(subj) + suffix, mode='r') as csv_file:\n",
    "        csv_reader = csv.reader(csv_file)\n",
    "        for line in csv_reader:\n",
    "            subj_lines.append(line)\n",
    "    \n",
    "    out_path = subjects_path + out_sub_folder + \"/subject\" + str(subj)\n",
    "    if not os.path.exists(out_path):\n",
    "        os.mkdir(out_path)\n",
    "    \n",
    "    n_lines = len(subj_lines)\n",
    "    print(\"Subject \" + str(subj) + \" lines: \" + str(n_lines))\n",
    "    \n",
    "    pace = int(n_lines/n_folds)\n",
    "    fold = 0\n",
    "    for startTest in range(0,n_lines-pace,pace):\n",
    "        fold += 1\n",
    "        endTest = startTest + pace\n",
    "        print(\"from \" + str(startTest) + \" to \" + str(endTest))\n",
    "        with open(out_path + \"/TrainFold\" + str(fold) + \".csv\", mode='w') as train_file:\n",
    "            csv_writer_train = csv.writer(train_file)\n",
    "            for line in subj_lines[:startTest]:\n",
    "                csv_writer_train.writerow(line)\n",
    "            for line in subj_lines[endTest:]:\n",
    "                csv_writer_train.writerow(line)\n",
    "        with open(out_path + \"/TestFold\" + str(fold) + \".csv\", mode='w') as test_file:\n",
    "            csv_writer_test = csv.writer(test_file)\n",
    "            for line in subj_lines[startTest:endTest]:\n",
    "                csv_writer_test.writerow(line)"
   ]
  },
  {
   "cell_type": "code",
   "execution_count": null,
   "metadata": {
    "collapsed": true
   },
   "outputs": [],
   "source": []
  }
 ],
 "metadata": {
  "kernelspec": {
   "display_name": "Python 3",
   "language": "python",
   "name": "python3"
  },
  "language_info": {
   "codemirror_mode": {
    "name": "ipython",
    "version": 3
   },
   "file_extension": ".py",
   "mimetype": "text/x-python",
   "name": "python",
   "nbconvert_exporter": "python",
   "pygments_lexer": "ipython3",
   "version": "3.6.8"
  }
 },
 "nbformat": 4,
 "nbformat_minor": 2
}

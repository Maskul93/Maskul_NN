{
 "cells": [
  {
   "cell_type": "code",
   "execution_count": 55,
   "metadata": {},
   "outputs": [
    {
     "name": "stdout",
     "output_type": "stream",
     "text": [
      "NN predicitons on sliding wondows: \n",
      "[1, 1, 0, 0, 1, 1, 0, 0]\n",
      "Number of sliding windows: 8\n",
      "Number of samples in a window: 10\n",
      "Number of samples: 80\n",
      "\n",
      "Samples predictions:\n",
      "[ 1  1  1  1  1  1  1  1  1  1  1  1  1  1  1  1  1  1  1  1 -1 -1 -1 -1\n",
      " -1 -1 -1 -1 -1 -1 -1 -1 -1 -1 -1 -1 -1 -1 -1 -1  1  1  1  1  1  1  1  1\n",
      "  1  1  1  1  1  1  1  1  1  1  1  1 -1 -1 -1 -1 -1 -1 -1 -1 -1 -1 -1 -1\n",
      " -1 -1 -1 -1 -1 -1 -1 -1]\n",
      "\n",
      "Predicted Baso:\n",
      "[1 1 1 1 1 1 1 1 1 1 1 1 1 1 1 1 1 1 1 1 0 0 0 0 0 0 0 0 0 0 0 0 0 0 0 0 0\n",
      " 0 0 0 1 1 1 1 1 1 1 1 1 1 1 1 1 1 1 1 1 1 1 1 0 0 0 0 0 0 0 0 0 0 0 0 0 0\n",
      " 0 0 0 0 0 0]\n",
      "Number of samples: 80\n"
     ]
    }
   ],
   "source": [
    "import pandas as pd\n",
    "import numpy as np\n",
    "import os\n",
    "\n",
    "windows_length = 10\n",
    "pace = 10\n",
    "\n",
    "# Questa è l'uscita del classificatore a cui devi dare in pasto le sliding windows con passo uguale a 1\n",
    "# La sua lunghezza sarà:\n",
    "# il numero di campioni totale del segnale del soggetto - il numero di campioni in una finestra - 1 \n",
    "#predicted_baso_windowed = [1,1,1,1,1,1,1,1,1,1,0,0,0,0,0,0,0,0,0,0,1,1,1,1,1,1,1,1,1,1,0,0,0,0,0,0,0,0,0,0,1,1,1,1,1,1,1,1,1,1]\n",
    "#predicted_baso_windowed = [1,1,1,1,1,1,1,0,1,1,0,0,0,0,0,0,0,0,0,0,1,1,1,1,1,1,1,1,1,1,0,0,0,0,0,0,0,0,0,0,1,1,1,1,1,1,1,1,1,1]\n",
    "predicted_baso_windowed = [1,1,0,0,1,1,0,0]\n",
    "print(\"NN predicitons on sliding wondows: \")\n",
    "print(predicted_baso_windowed)\n",
    "limit = len(predicted_baso_windowed)\n",
    "number_of_samples = (limit-1)*pace+windows_length\n",
    "print(\"Number of sliding windows: \" + str(limit))\n",
    "print(\"Number of samples in a window: \" + str(windows_length))\n",
    "print(\"Number of samples: \" + str(number_of_samples))\n",
    "predicted_baso_windowed = pd.DataFrame(predicted_baso_windowed)    # Converto in DataFrame\n",
    "predicted_baso_windowed = predicted_baso_windowed.as_matrix()\n",
    "\n",
    "samples_predictions = np.zeros(number_of_samples, dtype = int)\n",
    "\n",
    "for w in range(0,limit):\n",
    "    if (predicted_baso_windowed[w]==0):\n",
    "        add = -1\n",
    "    elif (predicted_baso_windowed[w]==1):\n",
    "        add = 1    \n",
    "    for s in range(w*pace, w*pace + windows_length):\n",
    "        samples_predictions[s] += add\n",
    "\n",
    "print(\"\\nSamples predictions:\")\n",
    "print(samples_predictions)\n",
    "\n",
    "#Per ogni campione la predizione vincente sarà il massimo tra gli 1 e gli 0 predetti\n",
    "predicted_baso = np.zeros(number_of_samples, dtype = int)\n",
    "count = 0\n",
    "for sample_pred in samples_predictions:\n",
    "    if (sample_pred > 0):\n",
    "        predicted_baso[count] = 1\n",
    "    elif (sample_pred < 0): \n",
    "        predicted_baso[count] = 0\n",
    "    else:\n",
    "        predicted_baso[count] = predicted_baso[count-1]\n",
    "    #print(\"0:\" + str(zeros), \"1:\" + str(ones), str(predicted_baso[count]))\n",
    "    count += 1\n",
    " \n",
    "print(\"\\nPredicted Baso:\")    \n",
    "print(predicted_baso)\n",
    "print(\"Number of samples: \" + str(len(predicted_baso)))\n",
    "\n",
    "\n"
   ]
  },
  {
   "cell_type": "code",
   "execution_count": 18,
   "metadata": {},
   "outputs": [
    {
     "name": "stdout",
     "output_type": "stream",
     "text": [
      "[0. 0. 0. 0. 0. 0. 0. 0. 0. 0.]\n",
      "0 9\n",
      "1 10\n",
      "2 11\n",
      "3 12\n",
      "4 13\n",
      "5 14\n",
      "6 15\n",
      "7 16\n",
      "8 17\n",
      "9 18\n"
     ]
    }
   ],
   "source": [
    "samples_predictions = np.zeros(10)\n",
    "print(samples_predictions)\n",
    "pace = 1\n",
    "w_size = 10\n",
    "for w in range(0,w_size):\n",
    "    print(w*pace, w*pace + w_size-1)"
   ]
  },
  {
   "cell_type": "code",
   "execution_count": null,
   "metadata": {
    "collapsed": true
   },
   "outputs": [],
   "source": []
  }
 ],
 "metadata": {
  "kernelspec": {
   "display_name": "Python 3",
   "language": "python",
   "name": "python3"
  },
  "language_info": {
   "codemirror_mode": {
    "name": "ipython",
    "version": 3
   },
   "file_extension": ".py",
   "mimetype": "text/x-python",
   "name": "python",
   "nbconvert_exporter": "python",
   "pygments_lexer": "ipython3",
   "version": "3.6.8"
  }
 },
 "nbformat": 4,
 "nbformat_minor": 2
}

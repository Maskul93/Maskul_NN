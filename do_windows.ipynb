{
 "cells": [
  {
   "cell_type": "code",
   "execution_count": 4,
   "metadata": {},
   "outputs": [
    {
     "name": "stdout",
     "output_type": "stream",
     "text": [
      "Swing Onset at sample 6206\n"
     ]
    },
    {
     "name": "stderr",
     "output_type": "stream",
     "text": [
      "  0% (19 of 480195) |                    | Elapsed Time: 0:00:00 ETA:   0:42:35"
     ]
    },
    {
     "name": "stdout",
     "output_type": "stream",
     "text": [
      "Subject 1 rows: 486600\n"
     ]
    },
    {
     "name": "stderr",
     "output_type": "stream",
     "text": [
      "  0% (79 of 480195) |                    | Elapsed Time: 0:00:00 ETA:   0:41:43"
     ]
    },
    {
     "name": "stdout",
     "output_type": "stream",
     "text": [
      "Phases: 1\n"
     ]
    },
    {
     "name": "stderr",
     "output_type": "stream",
     "text": [
      "  0% (1250 of 480195) |                  | Elapsed Time: 0:00:06 ETA:   0:40:08"
     ]
    },
    {
     "name": "stdout",
     "output_type": "stream",
     "text": [
      "Phases: 2\n"
     ]
    },
    {
     "name": "stderr",
     "output_type": "stream",
     "text": [
      "  0% (2750 of 480195) |                  | Elapsed Time: 0:00:13 ETA:   0:40:11"
     ]
    },
    {
     "name": "stdout",
     "output_type": "stream",
     "text": [
      "Phases: 3\n",
      "Phases: 4\n"
     ]
    },
    {
     "name": "stderr",
     "output_type": "stream",
     "text": [
      "  0% (2828 of 480195) |                  | Elapsed Time: 0:00:14 ETA:   0:40:30"
     ]
    },
    {
     "name": "stdout",
     "output_type": "stream",
     "text": [
      "Phases: 5\n"
     ]
    },
    {
     "name": "stderr",
     "output_type": "stream",
     "text": [
      "  0% (3780 of 480195) |                  | Elapsed Time: 0:00:19 ETA:   0:42:21"
     ]
    },
    {
     "name": "stdout",
     "output_type": "stream",
     "text": [
      "Phases: 6\n"
     ]
    },
    {
     "name": "stderr",
     "output_type": "stream",
     "text": [
      "  1% (4969 of 480195) |                  | Elapsed Time: 0:00:25 ETA:   0:40:21"
     ]
    },
    {
     "name": "stdout",
     "output_type": "stream",
     "text": [
      "Phases: 7\n",
      "Phases: 8\n"
     ]
    },
    {
     "name": "stderr",
     "output_type": "stream",
     "text": [
      "  1% (5065 of 480195) |                  | Elapsed Time: 0:00:25 ETA:   0:40:48"
     ]
    },
    {
     "name": "stdout",
     "output_type": "stream",
     "text": [
      "Phases: 9\n"
     ]
    },
    {
     "name": "stderr",
     "output_type": "stream",
     "text": [
      "  1% (5937 of 480195) |                  | Elapsed Time: 0:00:30 ETA:   0:40:39"
     ]
    },
    {
     "name": "stdout",
     "output_type": "stream",
     "text": [
      "Phases: 10\n"
     ]
    },
    {
     "name": "stderr",
     "output_type": "stream",
     "text": [
      "  1% (7099 of 480195) |                  | Elapsed Time: 0:00:36 ETA:   0:40:06"
     ]
    },
    {
     "name": "stdout",
     "output_type": "stream",
     "text": [
      "Phases: 11\n",
      "Phases: 12\n"
     ]
    },
    {
     "name": "stderr",
     "output_type": "stream",
     "text": [
      "  1% (7218 of 480195) |                  | Elapsed Time: 0:00:36 ETA:   0:40:29"
     ]
    },
    {
     "name": "stdout",
     "output_type": "stream",
     "text": [
      "Phases: 13\n"
     ]
    },
    {
     "name": "stderr",
     "output_type": "stream",
     "text": [
      "  1% (8055 of 480195) |                  | Elapsed Time: 0:00:41 ETA:   0:39:22"
     ]
    },
    {
     "name": "stdout",
     "output_type": "stream",
     "text": [
      "Phases: 14\n"
     ]
    },
    {
     "name": "stderr",
     "output_type": "stream",
     "text": [
      "  1% (9157 of 480195) |                  | Elapsed Time: 0:00:46 ETA:   0:39:35"
     ]
    },
    {
     "name": "stdout",
     "output_type": "stream",
     "text": [
      "Phases: 15\n",
      "Phases: 16\n"
     ]
    },
    {
     "name": "stderr",
     "output_type": "stream",
     "text": [
      "  1% (9281 of 480195) |                  | Elapsed Time: 0:00:47 ETA:   0:39:23"
     ]
    },
    {
     "name": "stdout",
     "output_type": "stream",
     "text": [
      "Phases: 17\n"
     ]
    },
    {
     "name": "stderr",
     "output_type": "stream",
     "text": [
      "  2% (10118 of 480195) |                 | Elapsed Time: 0:00:51 ETA:   0:39:28"
     ]
    },
    {
     "name": "stdout",
     "output_type": "stream",
     "text": [
      "Phases: 18\n"
     ]
    },
    {
     "name": "stderr",
     "output_type": "stream",
     "text": [
      "  2% (11239 of 480195) |                 | Elapsed Time: 0:00:57 ETA:   0:39:34"
     ]
    },
    {
     "name": "stdout",
     "output_type": "stream",
     "text": [
      "Phases: 19\n",
      "Phases: 20\n"
     ]
    },
    {
     "name": "stderr",
     "output_type": "stream",
     "text": [
      "  2% (11381 of 480195) |                 | Elapsed Time: 0:00:57 ETA:   0:39:25"
     ]
    },
    {
     "name": "stdout",
     "output_type": "stream",
     "text": [
      "Phases: 21\n"
     ]
    },
    {
     "name": "stderr",
     "output_type": "stream",
     "text": [
      "  2% (12241 of 480195) |                 | Elapsed Time: 0:01:02 ETA:   0:38:58"
     ]
    },
    {
     "name": "stdout",
     "output_type": "stream",
     "text": [
      "Phases: 22\n"
     ]
    },
    {
     "name": "stderr",
     "output_type": "stream",
     "text": [
      "  2% (13382 of 480195) |                 | Elapsed Time: 0:01:08 ETA:   0:40:50"
     ]
    },
    {
     "name": "stdout",
     "output_type": "stream",
     "text": [
      "Phases: 23\n",
      "Phases: 24\n"
     ]
    },
    {
     "name": "stderr",
     "output_type": "stream",
     "text": [
      "  2% (13492 of 480195) |                 | Elapsed Time: 0:01:08 ETA:   0:41:42"
     ]
    },
    {
     "name": "stdout",
     "output_type": "stream",
     "text": [
      "Phases: 25\n"
     ]
    },
    {
     "name": "stderr",
     "output_type": "stream",
     "text": [
      "  2% (14324 of 480195) |                 | Elapsed Time: 0:01:13 ETA:   0:39:28"
     ]
    },
    {
     "name": "stdout",
     "output_type": "stream",
     "text": [
      "Phases: 26\n"
     ]
    },
    {
     "name": "stderr",
     "output_type": "stream",
     "text": [
      "  3% (15477 of 480195) |                 | Elapsed Time: 0:01:18 ETA:   0:38:21"
     ]
    },
    {
     "name": "stdout",
     "output_type": "stream",
     "text": [
      "Phases: 27\n",
      "Phases: 28\n"
     ]
    },
    {
     "name": "stderr",
     "output_type": "stream",
     "text": [
      "  3% (15580 of 480195) |                 | Elapsed Time: 0:01:19 ETA:   0:38:24"
     ]
    },
    {
     "name": "stdout",
     "output_type": "stream",
     "text": [
      "Phases: 29\n"
     ]
    },
    {
     "name": "stderr",
     "output_type": "stream",
     "text": [
      "  3% (16462 of 480195) |                 | Elapsed Time: 0:01:23 ETA:   0:38:56"
     ]
    },
    {
     "name": "stdout",
     "output_type": "stream",
     "text": [
      "Phases: 30\n"
     ]
    },
    {
     "name": "stderr",
     "output_type": "stream",
     "text": [
      "  3% (17694 of 480195) |                 | Elapsed Time: 0:01:30 ETA:   0:38:46"
     ]
    },
    {
     "name": "stdout",
     "output_type": "stream",
     "text": [
      "Phases: 31\n",
      "Phases: 32\n"
     ]
    },
    {
     "name": "stderr",
     "output_type": "stream",
     "text": [
      "  3% (17815 of 480195) |                 | Elapsed Time: 0:01:30 ETA:   0:38:45"
     ]
    },
    {
     "name": "stdout",
     "output_type": "stream",
     "text": [
      "Phases: 33\n"
     ]
    },
    {
     "name": "stderr",
     "output_type": "stream",
     "text": [
      "  3% (18549 of 480195) |                 | Elapsed Time: 0:01:34 ETA:   0:40:43"
     ]
    },
    {
     "name": "stdout",
     "output_type": "stream",
     "text": [
      "Phases: 34\n"
     ]
    },
    {
     "name": "stderr",
     "output_type": "stream",
     "text": [
      "  4% (20661 of 480195) |                 | Elapsed Time: 0:01:45 ETA:   0:38:31"
     ]
    },
    {
     "name": "stdout",
     "output_type": "stream",
     "text": [
      "Phases: 35\n"
     ]
    },
    {
     "name": "stderr",
     "output_type": "stream",
     "text": [
      "  4% (21798 of 480195) |                 | Elapsed Time: 0:01:50 ETA:   0:38:21"
     ]
    },
    {
     "name": "stdout",
     "output_type": "stream",
     "text": [
      "Phases: 36\n"
     ]
    },
    {
     "name": "stderr",
     "output_type": "stream",
     "text": [
      "  4% (23178 of 480195) |                 | Elapsed Time: 0:01:57 ETA:   0:37:51"
     ]
    },
    {
     "name": "stdout",
     "output_type": "stream",
     "text": [
      "Phases: 37\n",
      "Phases: 38\n",
      "Phases: 39\n"
     ]
    },
    {
     "name": "stderr",
     "output_type": "stream",
     "text": [
      "  5% (24128 of 480195) |                 | Elapsed Time: 0:02:02 ETA:   0:38:06"
     ]
    },
    {
     "name": "stdout",
     "output_type": "stream",
     "text": [
      "Phases: 40\n"
     ]
    },
    {
     "name": "stderr",
     "output_type": "stream",
     "text": [
      "  5% (25305 of 480195) |                 | Elapsed Time: 0:02:08 ETA:   0:38:53"
     ]
    },
    {
     "name": "stdout",
     "output_type": "stream",
     "text": [
      "Phases: 41\n",
      "Phases: 42\n"
     ]
    },
    {
     "name": "stderr",
     "output_type": "stream",
     "text": [
      "  5% (25402 of 480195) |                 | Elapsed Time: 0:02:09 ETA:   0:39:19"
     ]
    },
    {
     "name": "stdout",
     "output_type": "stream",
     "text": [
      "Phases: 43\n"
     ]
    },
    {
     "name": "stderr",
     "output_type": "stream",
     "text": [
      "  5% (26264 of 480195) |                 | Elapsed Time: 0:02:13 ETA:   0:38:10"
     ]
    },
    {
     "name": "stdout",
     "output_type": "stream",
     "text": [
      "Phases: 44\n"
     ]
    },
    {
     "name": "stderr",
     "output_type": "stream",
     "text": [
      "  5% (27410 of 480195) |                 | Elapsed Time: 0:02:19 ETA:   0:38:08"
     ]
    },
    {
     "name": "stdout",
     "output_type": "stream",
     "text": [
      "Phases: 45\n",
      "Phases: 46\n"
     ]
    },
    {
     "name": "stderr",
     "output_type": "stream",
     "text": [
      "  5% (27491 of 480195) |                 | Elapsed Time: 0:02:19 ETA:   0:38:08"
     ]
    },
    {
     "name": "stdout",
     "output_type": "stream",
     "text": [
      "Phases: 47\n"
     ]
    },
    {
     "name": "stderr",
     "output_type": "stream",
     "text": [
      "  5% (28360 of 480195) |#                | Elapsed Time: 0:02:24 ETA:   0:37:26"
     ]
    },
    {
     "name": "stdout",
     "output_type": "stream",
     "text": [
      "Phases: 48\n"
     ]
    },
    {
     "name": "stderr",
     "output_type": "stream",
     "text": [
      "  6% (29496 of 480195) |#                | Elapsed Time: 0:02:29 ETA:   0:37:29"
     ]
    },
    {
     "name": "stdout",
     "output_type": "stream",
     "text": [
      "Phases: 49\n",
      "Phases: 50\n"
     ]
    },
    {
     "name": "stderr",
     "output_type": "stream",
     "text": [
      "  6% (29599 of 480195) |#                | Elapsed Time: 0:02:30 ETA:   0:37:32"
     ]
    },
    {
     "name": "stdout",
     "output_type": "stream",
     "text": [
      "Phases: 51\n"
     ]
    },
    {
     "name": "stderr",
     "output_type": "stream",
     "text": [
      "  6% (30433 of 480195) |#                | Elapsed Time: 0:02:34 ETA:   0:37:36"
     ]
    },
    {
     "name": "stdout",
     "output_type": "stream",
     "text": [
      "Phases: 52\n"
     ]
    },
    {
     "name": "stderr",
     "output_type": "stream",
     "text": [
      "  6% (31592 of 480195) |#                | Elapsed Time: 0:02:40 ETA:   0:39:30"
     ]
    },
    {
     "name": "stdout",
     "output_type": "stream",
     "text": [
      "Phases: 53\n",
      "Phases: 54\n"
     ]
    },
    {
     "name": "stderr",
     "output_type": "stream",
     "text": [
      "  6% (31674 of 480195) |#                | Elapsed Time: 0:02:40 ETA:   0:38:21"
     ]
    },
    {
     "name": "stdout",
     "output_type": "stream",
     "text": [
      "Phases: 55\n"
     ]
    },
    {
     "name": "stderr",
     "output_type": "stream",
     "text": [
      "  6% (32523 of 480195) |#                | Elapsed Time: 0:02:44 ETA:   0:37:04"
     ]
    },
    {
     "name": "stdout",
     "output_type": "stream",
     "text": [
      "Phases: 56\n"
     ]
    },
    {
     "name": "stderr",
     "output_type": "stream",
     "text": [
      "  7% (33697 of 480195) |#                | Elapsed Time: 0:02:50 ETA:   0:37:02"
     ]
    },
    {
     "name": "stdout",
     "output_type": "stream",
     "text": [
      "Phases: 57\n",
      "Phases: 58\n"
     ]
    },
    {
     "name": "stderr",
     "output_type": "stream",
     "text": [
      "  7% (33758 of 480195) |#                | Elapsed Time: 0:02:51 ETA:   0:37:13"
     ]
    },
    {
     "name": "stdout",
     "output_type": "stream",
     "text": [
      "Phases: 59\n"
     ]
    },
    {
     "name": "stderr",
     "output_type": "stream",
     "text": [
      "  7% (34564 of 480195) |#                | Elapsed Time: 0:02:55 ETA:   0:36:48"
     ]
    },
    {
     "name": "stdout",
     "output_type": "stream",
     "text": [
      "Phases: 60\n",
      "Subject 1 windowed. Time elapsed: 0:03:00\n",
      "\n"
     ]
    }
   ],
   "source": [
    "## Ogni .csv è strutturato in questo modo:\n",
    "    # n x (12 + 4)\n",
    "    # [f1, f2, ..., f12, l0, l1, l2, l3]\n",
    "# dove f_i sono le features, mentre li sono le labels; n è il numero di righe, cioè di samples.\n",
    "    # l0 = BASO LEFT 2 LIVELLI\n",
    "    # l1 = BASO LEFT 4 LIVELLI\n",
    "    # l2 = BASO RIGHT 2 LIVELLI\n",
    "    # l3 = BASO RIGHT 4 LIVELLI\n",
    "\n",
    "import csv\n",
    "import statistics\n",
    "from statistics import mode\n",
    "import pandas as pd\n",
    "import os\n",
    "import datetime\n",
    "import time    # Per capire quanto tempo ci mette \n",
    "import progressbar\n",
    "\n",
    "sliding = True\n",
    "sliding_pace = 1\n",
    "predict_central_sample = True\n",
    "\n",
    "discard_transitions = False # Devo eliminare le finestre che contengono le transizioni\n",
    "discarded_windows = 0\n",
    "th = 1\n",
    "\n",
    "window_size = 200\n",
    "features_number = 12 # Tutto tranne il basografico\n",
    "label = 0    # Label da selezionare -> Se il .csv ne contiene una sola, label = 0\n",
    "label_count = 1    # Questa variabile serve per fargli capire fino a che riga deve prendere le features\n",
    "                   # Deve essere uguale al numero di labels presenti nel file .csv originale\n",
    "                   # Se ne hai 4 totali, allora devi eliminare dal computo delle features 4 labels\n",
    "label_column = 12    # Colonna da cui estrarre la feature - serve per calcolare il primo swing\n",
    "# row_count = 486600\n",
    "\n",
    "start = 1    # Subject from which the count starts\n",
    "end = 1  # Subject at which the count ends \n",
    "\n",
    "strides_limit = -1  #If set to -1 no limit, otherwise stop after processing N strides\n",
    "\n",
    "floating_point_precision = 3\n",
    "\n",
    "#in_path = \"subjects/min-max/clean/\"\n",
    "in_path = \"subjects/s_bpf-20-450_rect_env_allmus/\"\n",
    "#out_path = \"../subjects/min-max/windows_\" + str(window_size) +\"/tr-\" + str(discard_transitions) + \"_sliding_\" + str(sliding_pace) + \"_c-\" + str(predict_central_sample) + \"/\"\n",
    "#out_path = \"subjects/min-max/clean/windows_\" + str(window_size) + \"-del_tr-\" + str(discard_transitions) + \"-slide-\" + str(sliding) + \"-digits-\" + str(floating_point_precision)\n",
    "out_path = \"subjects/s_bpf-20-450_rect_env_allmus/windows_\" + str(window_size) + \"-del_tr-\" + str(discard_transitions) + \"-slide-\" + str(sliding) + \"-digits-\" + str(floating_point_precision)\n",
    "\n",
    "prefix = 's_bpf-20-450_rect_env_allmus_'\n",
    "suffix = ''\n",
    "out_suffix = '_windows_'\n",
    "\n",
    "#prefix = 's_bpf-20-450_rect_'\n",
    "#suffix = '_norm'\n",
    "#out_suffix = '_norm_windows_'\n",
    "\n",
    "if sliding:\n",
    "    out_path += \"-pace-\" + str(sliding_pace) \n",
    "out_path += \"/\"\n",
    "out_path_discarded = out_path + \"discarded/\"\n",
    "\n",
    "\n",
    "\n",
    "#create folders if not existing...\n",
    "if not os.path.exists(out_path):\n",
    "    os.makedirs(out_path)\n",
    "if not os.path.exists(out_path_discarded):\n",
    "    os.makedirs(out_path_discarded)\n",
    "\n",
    "for subj in range(start, end + 1):\n",
    "    \n",
    "    current_phase = -1\n",
    "    tot_phases = 0\n",
    "    \n",
    "    start_time = time.time()\n",
    "    #count rows in file\n",
    "    with open(in_path + prefix + str(subj) + suffix + '.csv') as csv_file:\n",
    "        csv_reader = csv.reader(csv_file, delimiter=',')\n",
    "        row_count = sum(1 for row in csv_reader)\n",
    "        \n",
    "    ## -- To find the first Swing\n",
    "    # Serve per far partire tutti i soggetti (e le finestre) dal primo swing registrato\n",
    "    csv_swing = []\n",
    "    found = False    # Flag per stoppare il ciclo quando trova il primo Swing\n",
    "    with open(in_path + prefix + str(subj) + suffix + '.csv') as csv_file:\n",
    "        csv_reader = csv.reader(csv_file, delimiter=',')\n",
    "        swing_onset = 0\n",
    "        for line in csv_reader: \n",
    "            if not found:\n",
    "                csv_swing.append(line)\n",
    "                swing_onset += 1\n",
    "                if float(line[label_column]) == 1:\n",
    "                    found = True\n",
    "    print('Swing Onset at sample ' + str(swing_onset))\n",
    "    \n",
    "    csv_in = []\n",
    "    with open(in_path + prefix + str(subj) + suffix + '.csv') as csv_file:\n",
    "        csv_reader = csv.reader(csv_file, delimiter=',')\n",
    "        for line in csv_reader: \n",
    "            csv_in.append(line)\n",
    "    \n",
    "    with open(out_path + prefix + str(subj) + out_suffix + str(window_size) + '.csv', mode='w') as csv_out_file:\n",
    "        with open(out_path_discarded + prefix + str(subj) + out_suffix + str(window_size) + '.txt', mode='w') as discarded_file:\n",
    "            csv_writer = csv.writer(csv_out_file, delimiter=',')\n",
    "\n",
    "            print(\"Subject \" + str(subj) + \" rows: \" + str(row_count))\n",
    "\n",
    "            discarded_windows = 0\n",
    "\n",
    "            if sliding:\n",
    "                pace = sliding_pace    \n",
    "                limit = row_count-window_size    # Questo serve per non superare i limiti del for \n",
    "            else:\n",
    "                pace = window_size\n",
    "                limit = row_count-window_size\n",
    "                \n",
    "            for k in progressbar.progressbar(range(swing_onset - 1, limit, pace)):    # Qui tira fuori la progressbar, per renderti conto di come cicla e di quanto tempo ci mette\n",
    "                #time.sleep(0.0001)    # Troppo grande rallenta il for!\n",
    "                window_rows = []\n",
    "                for i in range(k, k + window_size):\n",
    "                    window_rows.append(csv_in[i])\n",
    "                window_rows = pd.DataFrame(window_rows).astype(float)\n",
    "                bsx = window_rows[features_number + label]    \n",
    "                if predict_central_sample:\n",
    "                    m = bsx[int(len(bsx)/2)]\n",
    "                else:\n",
    "                    m = bsx.mode()[0]\n",
    "                    \n",
    "                if current_phase == -1:\n",
    "                    current_phase = m\n",
    "                if m != current_phase:\n",
    "                    tot_phases += 1\n",
    "                    current_phase = m\n",
    "                    print(\"Phases: \" + str(tot_phases))\n",
    "                    if strides_limit != -1 and tot_phases/2 >= strides_limit:\n",
    "                        break\n",
    "                \n",
    "                occ = len(window_rows[window_rows[features_number + label] == float(m)])    # Occorrenza della label nella finestra\n",
    "               \n",
    "                if not discard_transitions or occ/window_size >= th:       # Qua dobbiamo capire come scartarle le finestre (cioè che threshold usare!)\n",
    "                    single_row_window = window_rows.iloc[:, :-label_count].values.reshape(1,-label_count).flatten().tolist()\n",
    "                    single_row_window = [ round(elem, floating_point_precision) for elem in single_row_window ]\n",
    "                    single_row_window.append(int(m))\n",
    "                    csv_writer.writerow(single_row_window)\n",
    "                else:\n",
    "                    discarded_windows += 1\n",
    "                    discarded_file.write(\"Window starting at row \" + str(k) + \"\\n\")\n",
    "                    discarded_file.write(str(window_rows) + \"\\n\\n\\n\")\n",
    "                    #print(\"Discarded windows: \" + str(discarded_windows))\n",
    "            end_time = time.time()        \n",
    "            time_tot = int(end_time - start_time)\n",
    "            print('Subject ' + str(subj) + ' windowed. Time elapsed: ' + str(datetime.timedelta(seconds=time_tot)) + '\\n')"
   ]
  },
  {
   "cell_type": "code",
   "execution_count": 7,
   "metadata": {},
   "outputs": [
    {
     "data": {
      "text/plain": [
       "160"
      ]
     },
     "execution_count": 7,
     "metadata": {},
     "output_type": "execute_result"
    }
   ],
   "source": [
    "swing_on = 33\n",
    "row = 204\n",
    "windows_size = 20\n",
    "\n",
    "actual = row - swing_on\n",
    "actual\n",
    "delta = actual%windows_size\n",
    "\n",
    "actual-delta"
   ]
  }
 ],
 "metadata": {
  "kernelspec": {
   "display_name": "Python 3",
   "language": "python",
   "name": "python3"
  },
  "language_info": {
   "codemirror_mode": {
    "name": "ipython",
    "version": 3
   },
   "file_extension": ".py",
   "mimetype": "text/x-python",
   "name": "python",
   "nbconvert_exporter": "python",
   "pygments_lexer": "ipython3",
   "version": "3.6.8"
  }
 },
 "nbformat": 4,
 "nbformat_minor": 2
}

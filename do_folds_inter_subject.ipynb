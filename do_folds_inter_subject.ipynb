{
 "cells": [
  {
   "cell_type": "code",
   "execution_count": 1,
   "metadata": {},
   "outputs": [
    {
     "name": "stderr",
     "output_type": "stream",
     "text": [
      "\r",
      "                                                                               \r",
      "\r",
      "/ |#                                                  | 0 Elapsed Time: 0:00:00"
     ]
    },
    {
     "name": "stdout",
     "output_type": "stream",
     "text": [
      "[1, 2, 3, 4, 5, 6, 7, 8, 9, 10, 11, 12, 13, 14, 15, 16, 17, 18, 19, 20, 21, 22, 23, 24, 25, 26]\n",
      "[1, 2, 3, 5, 6, 7, 8, 9, 10, 11, 12, 13, 14, 15, 16, 17, 18, 19, 20, 21, 22, 23, 26]\n",
      "subjects_per_fold  1\n",
      "Fold: 1\n",
      "Train: [2, 3, 5, 6, 7, 8, 9, 10, 11, 12, 13, 14, 15, 16, 17, 18, 19, 20, 21, 22, 23, 26]\n",
      "Test: [1]\n",
      "Total Rows: 24265\n",
      "Train rows: 21838\n"
     ]
    },
    {
     "name": "stderr",
     "output_type": "stream",
     "text": [
      "| |    #                                          | 24264 Elapsed Time: 0:00:00\n",
      "- | #                                              | 5919 Elapsed Time: 0:00:00"
     ]
    },
    {
     "name": "stdout",
     "output_type": "stream",
     "text": [
      "Total Rows: 23996\n",
      "Train rows: 21596\n"
     ]
    },
    {
     "name": "stderr",
     "output_type": "stream",
     "text": [
      "| |   #                                           | 23995 Elapsed Time: 0:00:00\n",
      "- | #                                              | 6047 Elapsed Time: 0:00:00"
     ]
    },
    {
     "name": "stdout",
     "output_type": "stream",
     "text": [
      "Total Rows: 24131\n",
      "Train rows: 21717\n"
     ]
    },
    {
     "name": "stderr",
     "output_type": "stream",
     "text": [
      "| |   #                                           | 24130 Elapsed Time: 0:00:00\n",
      "- | #                                              | 6022 Elapsed Time: 0:00:00"
     ]
    },
    {
     "name": "stdout",
     "output_type": "stream",
     "text": [
      "Total Rows: 24117\n",
      "Train rows: 21705\n"
     ]
    },
    {
     "name": "stderr",
     "output_type": "stream",
     "text": [
      "| |   #                                           | 24116 Elapsed Time: 0:00:00\n",
      "- | #                                              | 6091 Elapsed Time: 0:00:00"
     ]
    },
    {
     "name": "stdout",
     "output_type": "stream",
     "text": [
      "Total Rows: 24198\n",
      "Train rows: 21778\n"
     ]
    },
    {
     "name": "stderr",
     "output_type": "stream",
     "text": [
      "| |   #                                           | 24197 Elapsed Time: 0:00:00\n",
      "- | #                                              | 6441 Elapsed Time: 0:00:00"
     ]
    },
    {
     "name": "stdout",
     "output_type": "stream",
     "text": [
      "Total Rows: 23989\n",
      "Train rows: 21590\n"
     ]
    },
    {
     "name": "stderr",
     "output_type": "stream",
     "text": [
      "| |   #                                           | 23988 Elapsed Time: 0:00:00\n",
      "- | #                                              | 6209 Elapsed Time: 0:00:00"
     ]
    },
    {
     "name": "stdout",
     "output_type": "stream",
     "text": [
      "Total Rows: 24108\n",
      "Train rows: 21697\n"
     ]
    },
    {
     "name": "stderr",
     "output_type": "stream",
     "text": [
      "| |   #                                           | 24107 Elapsed Time: 0:00:00\n",
      "- | #                                              | 6114 Elapsed Time: 0:00:00"
     ]
    },
    {
     "name": "stdout",
     "output_type": "stream",
     "text": [
      "Total Rows: 24046\n",
      "Train rows: 21641\n"
     ]
    },
    {
     "name": "stderr",
     "output_type": "stream",
     "text": [
      "| |    #                                          | 24045 Elapsed Time: 0:00:00\n",
      "- | #                                              | 6326 Elapsed Time: 0:00:00"
     ]
    },
    {
     "name": "stdout",
     "output_type": "stream",
     "text": [
      "Total Rows: 24035\n",
      "Train rows: 21631\n"
     ]
    },
    {
     "name": "stderr",
     "output_type": "stream",
     "text": [
      "| |   #                                           | 24034 Elapsed Time: 0:00:00\n",
      "- | #                                              | 6008 Elapsed Time: 0:00:00"
     ]
    },
    {
     "name": "stdout",
     "output_type": "stream",
     "text": [
      "Total Rows: 23998\n",
      "Train rows: 21598\n"
     ]
    },
    {
     "name": "stderr",
     "output_type": "stream",
     "text": [
      "| |   #                                           | 23997 Elapsed Time: 0:00:00\n",
      "- | #                                              | 6241 Elapsed Time: 0:00:00"
     ]
    },
    {
     "name": "stdout",
     "output_type": "stream",
     "text": [
      "Total Rows: 24218\n",
      "Train rows: 21796\n"
     ]
    },
    {
     "name": "stderr",
     "output_type": "stream",
     "text": [
      "| |   #                                           | 24217 Elapsed Time: 0:00:00\n",
      "- | #                                              | 6526 Elapsed Time: 0:00:00"
     ]
    },
    {
     "name": "stdout",
     "output_type": "stream",
     "text": [
      "Total Rows: 24078\n",
      "Train rows: 21670\n"
     ]
    },
    {
     "name": "stderr",
     "output_type": "stream",
     "text": [
      "| |   #                                           | 24077 Elapsed Time: 0:00:00\n",
      "- | #                                              | 6486 Elapsed Time: 0:00:00"
     ]
    },
    {
     "name": "stdout",
     "output_type": "stream",
     "text": [
      "Total Rows: 24005\n",
      "Train rows: 21604\n"
     ]
    },
    {
     "name": "stderr",
     "output_type": "stream",
     "text": [
      "| |   #                                           | 24004 Elapsed Time: 0:00:00\n",
      "- | #                                              | 6547 Elapsed Time: 0:00:00"
     ]
    },
    {
     "name": "stdout",
     "output_type": "stream",
     "text": [
      "Total Rows: 24010\n",
      "Train rows: 21609\n"
     ]
    },
    {
     "name": "stderr",
     "output_type": "stream",
     "text": [
      "| |   #                                           | 24009 Elapsed Time: 0:00:00\n",
      "- | #                                              | 6456 Elapsed Time: 0:00:00"
     ]
    },
    {
     "name": "stdout",
     "output_type": "stream",
     "text": [
      "Total Rows: 24042\n",
      "Train rows: 21637\n"
     ]
    },
    {
     "name": "stderr",
     "output_type": "stream",
     "text": [
      "| |   #                                           | 24041 Elapsed Time: 0:00:00\n",
      "- | #                                              | 6504 Elapsed Time: 0:00:00"
     ]
    },
    {
     "name": "stdout",
     "output_type": "stream",
     "text": [
      "Total Rows: 24319\n",
      "Train rows: 21887\n"
     ]
    },
    {
     "name": "stderr",
     "output_type": "stream",
     "text": [
      "| |   #                                           | 24318 Elapsed Time: 0:00:00\n",
      "- | #                                              | 6526 Elapsed Time: 0:00:00"
     ]
    },
    {
     "name": "stdout",
     "output_type": "stream",
     "text": [
      "Total Rows: 24002\n",
      "Train rows: 21601\n"
     ]
    },
    {
     "name": "stderr",
     "output_type": "stream",
     "text": [
      "| |   #                                           | 24001 Elapsed Time: 0:00:00\n",
      "- | #                                              | 5322 Elapsed Time: 0:00:00"
     ]
    },
    {
     "name": "stdout",
     "output_type": "stream",
     "text": [
      "Total Rows: 24265\n",
      "Train rows: 21838\n"
     ]
    },
    {
     "name": "stderr",
     "output_type": "stream",
     "text": [
      "| |   #                                           | 24264 Elapsed Time: 0:00:00\n",
      "- | #                                              | 6508 Elapsed Time: 0:00:00"
     ]
    },
    {
     "name": "stdout",
     "output_type": "stream",
     "text": [
      "Total Rows: 23996\n",
      "Train rows: 21596\n"
     ]
    },
    {
     "name": "stderr",
     "output_type": "stream",
     "text": [
      "| |   #                                           | 23995 Elapsed Time: 0:00:00\n",
      "- | #                                              | 6581 Elapsed Time: 0:00:00"
     ]
    },
    {
     "name": "stdout",
     "output_type": "stream",
     "text": [
      "Total Rows: 13573\n",
      "Train rows: 12215\n"
     ]
    },
    {
     "name": "stderr",
     "output_type": "stream",
     "text": [
      "| |  #                                            | 13572 Elapsed Time: 0:00:00\n",
      "- | #                                              | 6647 Elapsed Time: 0:00:00"
     ]
    },
    {
     "name": "stdout",
     "output_type": "stream",
     "text": [
      "Total Rows: 13730\n",
      "Train rows: 12357\n"
     ]
    },
    {
     "name": "stderr",
     "output_type": "stream",
     "text": [
      "| |  #                                            | 13729 Elapsed Time: 0:00:00\n",
      "- | #                                              | 6615 Elapsed Time: 0:00:00"
     ]
    },
    {
     "name": "stdout",
     "output_type": "stream",
     "text": [
      "Total Rows: 13583\n",
      "Train rows: 12224\n"
     ]
    },
    {
     "name": "stderr",
     "output_type": "stream",
     "text": [
      "| |  #                                            | 13582 Elapsed Time: 0:00:00\n",
      "/ |#                                                  | 0 Elapsed Time: 0:00:00"
     ]
    },
    {
     "name": "stdout",
     "output_type": "stream",
     "text": [
      "Fold 1 done!\n",
      "[1, 2, 3, 4, 5, 6, 7, 8, 9, 10, 11, 12, 13, 14, 15, 16, 17, 18, 19, 20, 21, 22, 23, 24, 25, 26]\n",
      "[1, 2, 3, 5, 6, 7, 8, 9, 10, 11, 12, 13, 14, 15, 16, 17, 18, 19, 20, 21, 22, 23, 26]\n",
      "subjects_per_fold  1\n",
      "Fold: 2\n",
      "Train: [1, 3, 5, 6, 7, 8, 9, 10, 11, 12, 13, 14, 15, 16, 17, 18, 19, 20, 21, 22, 23, 26]\n",
      "Test: [2]\n",
      "Total Rows: 24002\n",
      "Train rows: 21601\n"
     ]
    },
    {
     "name": "stderr",
     "output_type": "stream",
     "text": [
      "| |   #                                           | 24001 Elapsed Time: 0:00:00\n",
      "- | #                                              | 6406 Elapsed Time: 0:00:00"
     ]
    },
    {
     "name": "stdout",
     "output_type": "stream",
     "text": [
      "Total Rows: 23996\n",
      "Train rows: 21596\n"
     ]
    },
    {
     "name": "stderr",
     "output_type": "stream",
     "text": [
      "| |   #                                           | 23995 Elapsed Time: 0:00:00\n",
      "- | #                                              | 6578 Elapsed Time: 0:00:00"
     ]
    },
    {
     "name": "stdout",
     "output_type": "stream",
     "text": [
      "Total Rows: 24131\n",
      "Train rows: 21717\n"
     ]
    },
    {
     "name": "stderr",
     "output_type": "stream",
     "text": [
      "| |   #                                           | 24130 Elapsed Time: 0:00:00\n",
      "- | #                                              | 6576 Elapsed Time: 0:00:00"
     ]
    },
    {
     "name": "stdout",
     "output_type": "stream",
     "text": [
      "Total Rows: 24117\n",
      "Train rows: 21705\n"
     ]
    },
    {
     "name": "stderr",
     "output_type": "stream",
     "text": [
      "| |   #                                           | 24116 Elapsed Time: 0:00:00\n",
      "- | #                                              | 6295 Elapsed Time: 0:00:00"
     ]
    },
    {
     "name": "stdout",
     "output_type": "stream",
     "text": [
      "Total Rows: 24198\n",
      "Train rows: 21778\n"
     ]
    },
    {
     "name": "stderr",
     "output_type": "stream",
     "text": [
      "| |   #                                           | 24197 Elapsed Time: 0:00:00\n",
      "- | #                                              | 6270 Elapsed Time: 0:00:00"
     ]
    },
    {
     "name": "stdout",
     "output_type": "stream",
     "text": [
      "Total Rows: 23989\n",
      "Train rows: 21590\n"
     ]
    },
    {
     "name": "stderr",
     "output_type": "stream",
     "text": [
      "| |   #                                           | 23988 Elapsed Time: 0:00:00\n",
      "- | #                                              | 6457 Elapsed Time: 0:00:00"
     ]
    },
    {
     "name": "stdout",
     "output_type": "stream",
     "text": [
      "Total Rows: 24108\n",
      "Train rows: 21697\n"
     ]
    },
    {
     "name": "stderr",
     "output_type": "stream",
     "text": [
      "| |   #                                           | 24107 Elapsed Time: 0:00:00\n",
      "- | #                                              | 6622 Elapsed Time: 0:00:00"
     ]
    },
    {
     "name": "stdout",
     "output_type": "stream",
     "text": [
      "Total Rows: 24046\n",
      "Train rows: 21641\n"
     ]
    },
    {
     "name": "stderr",
     "output_type": "stream",
     "text": [
      "| |   #                                           | 24045 Elapsed Time: 0:00:00\n",
      "- | #                                              | 6619 Elapsed Time: 0:00:00"
     ]
    },
    {
     "name": "stdout",
     "output_type": "stream",
     "text": [
      "Total Rows: 24035\n",
      "Train rows: 21631\n"
     ]
    },
    {
     "name": "stderr",
     "output_type": "stream",
     "text": [
      "| |   #                                           | 24034 Elapsed Time: 0:00:00\n",
      "- | #                                              | 6617 Elapsed Time: 0:00:00"
     ]
    },
    {
     "name": "stdout",
     "output_type": "stream",
     "text": [
      "Total Rows: 23998\n",
      "Train rows: 21598\n"
     ]
    },
    {
     "name": "stderr",
     "output_type": "stream",
     "text": [
      "| |   #                                           | 23997 Elapsed Time: 0:00:00\n",
      "- | #                                              | 6593 Elapsed Time: 0:00:00"
     ]
    },
    {
     "name": "stdout",
     "output_type": "stream",
     "text": [
      "Total Rows: 24218\n",
      "Train rows: 21796\n"
     ]
    },
    {
     "name": "stderr",
     "output_type": "stream",
     "text": [
      "| |   #                                           | 24217 Elapsed Time: 0:00:00\n",
      "- | #                                              | 6646 Elapsed Time: 0:00:00"
     ]
    },
    {
     "name": "stdout",
     "output_type": "stream",
     "text": [
      "Total Rows: 24078\n",
      "Train rows: 21670\n"
     ]
    },
    {
     "name": "stderr",
     "output_type": "stream",
     "text": [
      "| |   #                                           | 24077 Elapsed Time: 0:00:00\n",
      "- | #                                              | 6310 Elapsed Time: 0:00:00"
     ]
    },
    {
     "name": "stdout",
     "output_type": "stream",
     "text": [
      "Total Rows: 24005\n",
      "Train rows: 21604\n"
     ]
    },
    {
     "name": "stderr",
     "output_type": "stream",
     "text": [
      "| |   #                                           | 24004 Elapsed Time: 0:00:00\n",
      "- | #                                              | 6578 Elapsed Time: 0:00:00"
     ]
    },
    {
     "name": "stdout",
     "output_type": "stream",
     "text": [
      "Total Rows: 24010\n",
      "Train rows: 21609\n"
     ]
    },
    {
     "name": "stderr",
     "output_type": "stream",
     "text": [
      "| |   #                                           | 24009 Elapsed Time: 0:00:00\n",
      "- | #                                              | 6521 Elapsed Time: 0:00:00"
     ]
    },
    {
     "name": "stdout",
     "output_type": "stream",
     "text": [
      "Total Rows: 24042\n",
      "Train rows: 21637\n"
     ]
    },
    {
     "name": "stderr",
     "output_type": "stream",
     "text": [
      "| |   #                                           | 24041 Elapsed Time: 0:00:00\n",
      "- | #                                              | 6528 Elapsed Time: 0:00:00"
     ]
    },
    {
     "name": "stdout",
     "output_type": "stream",
     "text": [
      "Total Rows: 24319\n",
      "Train rows: 21887\n"
     ]
    },
    {
     "name": "stderr",
     "output_type": "stream",
     "text": [
      "| |   #                                           | 24318 Elapsed Time: 0:00:00\n",
      "- | #                                              | 6558 Elapsed Time: 0:00:00"
     ]
    },
    {
     "name": "stdout",
     "output_type": "stream",
     "text": [
      "Total Rows: 24002\n",
      "Train rows: 21601\n"
     ]
    },
    {
     "name": "stderr",
     "output_type": "stream",
     "text": [
      "| |   #                                           | 24001 Elapsed Time: 0:00:00\n",
      "- | #                                              | 6543 Elapsed Time: 0:00:00"
     ]
    },
    {
     "name": "stdout",
     "output_type": "stream",
     "text": [
      "Total Rows: 24265\n",
      "Train rows: 21838\n"
     ]
    },
    {
     "name": "stderr",
     "output_type": "stream",
     "text": [
      "| |   #                                           | 24264 Elapsed Time: 0:00:00\n",
      "- | #                                              | 6421 Elapsed Time: 0:00:00"
     ]
    },
    {
     "name": "stdout",
     "output_type": "stream",
     "text": [
      "Total Rows: 23996\n",
      "Train rows: 21596\n"
     ]
    },
    {
     "name": "stderr",
     "output_type": "stream",
     "text": [
      "| |   #                                           | 23995 Elapsed Time: 0:00:00\n",
      "- | #                                              | 6602 Elapsed Time: 0:00:00"
     ]
    },
    {
     "name": "stdout",
     "output_type": "stream",
     "text": [
      "Total Rows: 13573\n",
      "Train rows: 12215\n"
     ]
    },
    {
     "name": "stderr",
     "output_type": "stream",
     "text": [
      "| |  #                                            | 13572 Elapsed Time: 0:00:00\n",
      "- | #                                              | 6626 Elapsed Time: 0:00:00"
     ]
    },
    {
     "name": "stdout",
     "output_type": "stream",
     "text": [
      "Total Rows: 13730\n",
      "Train rows: 12357\n"
     ]
    },
    {
     "name": "stderr",
     "output_type": "stream",
     "text": [
      "| |  #                                            | 13729 Elapsed Time: 0:00:00\n",
      "- | #                                              | 6515 Elapsed Time: 0:00:00"
     ]
    },
    {
     "name": "stdout",
     "output_type": "stream",
     "text": [
      "Total Rows: 13583\n",
      "Train rows: 12224\n"
     ]
    },
    {
     "name": "stderr",
     "output_type": "stream",
     "text": [
      "| |  #                                            | 13582 Elapsed Time: 0:00:00\n",
      "/ |#                                                  | 0 Elapsed Time: 0:00:00"
     ]
    },
    {
     "name": "stdout",
     "output_type": "stream",
     "text": [
      "Fold 2 done!\n",
      "[1, 2, 3, 4, 5, 6, 7, 8, 9, 10, 11, 12, 13, 14, 15, 16, 17, 18, 19, 20, 21, 22, 23, 24, 25, 26]\n",
      "[1, 2, 3, 5, 6, 7, 8, 9, 10, 11, 12, 13, 14, 15, 16, 17, 18, 19, 20, 21, 22, 23, 26]\n",
      "subjects_per_fold  1\n",
      "Fold: 3\n",
      "Train: [1, 2, 5, 6, 7, 8, 9, 10, 11, 12, 13, 14, 15, 16, 17, 18, 19, 20, 21, 22, 23, 26]\n",
      "Test: [3]\n",
      "Total Rows: 24002\n",
      "Train rows: 21601\n"
     ]
    },
    {
     "name": "stderr",
     "output_type": "stream",
     "text": [
      "| |   #                                           | 24001 Elapsed Time: 0:00:00\n",
      "- | #                                              | 6245 Elapsed Time: 0:00:00"
     ]
    },
    {
     "name": "stdout",
     "output_type": "stream",
     "text": [
      "Total Rows: 24265\n",
      "Train rows: 21838\n"
     ]
    },
    {
     "name": "stderr",
     "output_type": "stream",
     "text": [
      "| |   #                                           | 24264 Elapsed Time: 0:00:00\n",
      "- | #                                              | 6613 Elapsed Time: 0:00:00"
     ]
    },
    {
     "name": "stdout",
     "output_type": "stream",
     "text": [
      "Total Rows: 24131\n",
      "Train rows: 21717\n"
     ]
    },
    {
     "name": "stderr",
     "output_type": "stream",
     "text": [
      "| |   #                                           | 24130 Elapsed Time: 0:00:00\n",
      "- | #                                              | 6510 Elapsed Time: 0:00:00"
     ]
    },
    {
     "name": "stdout",
     "output_type": "stream",
     "text": [
      "Total Rows: 24117\n",
      "Train rows: 21705\n"
     ]
    },
    {
     "name": "stderr",
     "output_type": "stream",
     "text": [
      "| |   #                                           | 24116 Elapsed Time: 0:00:00\n",
      "- | #                                              | 6498 Elapsed Time: 0:00:00"
     ]
    },
    {
     "name": "stdout",
     "output_type": "stream",
     "text": [
      "Total Rows: 24198\n",
      "Train rows: 21778\n"
     ]
    },
    {
     "name": "stderr",
     "output_type": "stream",
     "text": [
      "| |   #                                           | 24197 Elapsed Time: 0:00:00\n",
      "- | #                                              | 6481 Elapsed Time: 0:00:00"
     ]
    },
    {
     "name": "stdout",
     "output_type": "stream",
     "text": [
      "Total Rows: 23989\n",
      "Train rows: 21590\n"
     ]
    },
    {
     "name": "stderr",
     "output_type": "stream",
     "text": [
      "| |    #                                          | 23988 Elapsed Time: 0:00:00\n",
      "- | #                                              | 6525 Elapsed Time: 0:00:00"
     ]
    },
    {
     "name": "stdout",
     "output_type": "stream",
     "text": [
      "Total Rows: 24108\n",
      "Train rows: 21697\n"
     ]
    },
    {
     "name": "stderr",
     "output_type": "stream",
     "text": [
      "| |   #                                           | 24107 Elapsed Time: 0:00:00\n",
      "- | #                                              | 6603 Elapsed Time: 0:00:00"
     ]
    },
    {
     "name": "stdout",
     "output_type": "stream",
     "text": [
      "Total Rows: 24046\n",
      "Train rows: 21641\n"
     ]
    },
    {
     "name": "stderr",
     "output_type": "stream",
     "text": [
      "| |   #                                           | 24045 Elapsed Time: 0:00:00\n",
      "- | #                                              | 6620 Elapsed Time: 0:00:00"
     ]
    },
    {
     "name": "stdout",
     "output_type": "stream",
     "text": [
      "Total Rows: 24035\n",
      "Train rows: 21631\n"
     ]
    },
    {
     "name": "stderr",
     "output_type": "stream",
     "text": [
      "| |   #                                           | 24034 Elapsed Time: 0:00:00\n",
      "- | #                                              | 6577 Elapsed Time: 0:00:00"
     ]
    },
    {
     "name": "stdout",
     "output_type": "stream",
     "text": [
      "Total Rows: 23998\n",
      "Train rows: 21598\n"
     ]
    },
    {
     "name": "stderr",
     "output_type": "stream",
     "text": [
      "| |   #                                           | 23997 Elapsed Time: 0:00:00\n",
      "- | #                                              | 6580 Elapsed Time: 0:00:00"
     ]
    },
    {
     "name": "stdout",
     "output_type": "stream",
     "text": [
      "Total Rows: 24218\n",
      "Train rows: 21796\n"
     ]
    },
    {
     "name": "stderr",
     "output_type": "stream",
     "text": [
      "| |   #                                           | 24217 Elapsed Time: 0:00:00\n",
      "- | #                                              | 6571 Elapsed Time: 0:00:00"
     ]
    },
    {
     "name": "stdout",
     "output_type": "stream",
     "text": [
      "Total Rows: 24078\n",
      "Train rows: 21670\n"
     ]
    },
    {
     "name": "stderr",
     "output_type": "stream",
     "text": [
      "| |   #                                           | 24077 Elapsed Time: 0:00:00\n",
      "- | #                                              | 6595 Elapsed Time: 0:00:00"
     ]
    },
    {
     "name": "stdout",
     "output_type": "stream",
     "text": [
      "Total Rows: 24005\n",
      "Train rows: 21604\n"
     ]
    },
    {
     "name": "stderr",
     "output_type": "stream",
     "text": [
      "| |   #                                           | 24004 Elapsed Time: 0:00:00\n",
      "- | #                                              | 6563 Elapsed Time: 0:00:00"
     ]
    },
    {
     "name": "stdout",
     "output_type": "stream",
     "text": [
      "Total Rows: 24010\n",
      "Train rows: 21609\n"
     ]
    },
    {
     "name": "stderr",
     "output_type": "stream",
     "text": [
      "| |   #                                           | 24009 Elapsed Time: 0:00:00\n",
      "- | #                                              | 6573 Elapsed Time: 0:00:00"
     ]
    },
    {
     "name": "stdout",
     "output_type": "stream",
     "text": [
      "Total Rows: 24042\n",
      "Train rows: 21637\n"
     ]
    },
    {
     "name": "stderr",
     "output_type": "stream",
     "text": [
      "| |   #                                           | 24041 Elapsed Time: 0:00:00\n",
      "- | #                                              | 6568 Elapsed Time: 0:00:00"
     ]
    },
    {
     "name": "stdout",
     "output_type": "stream",
     "text": [
      "Total Rows: 24319\n",
      "Train rows: 21887\n"
     ]
    },
    {
     "name": "stderr",
     "output_type": "stream",
     "text": [
      "| |   #                                           | 24318 Elapsed Time: 0:00:00\n",
      "- | #                                              | 6557 Elapsed Time: 0:00:00"
     ]
    },
    {
     "name": "stdout",
     "output_type": "stream",
     "text": [
      "Total Rows: 24002\n",
      "Train rows: 21601\n"
     ]
    },
    {
     "name": "stderr",
     "output_type": "stream",
     "text": [
      "| |   #                                           | 24001 Elapsed Time: 0:00:00\n",
      "- | #                                              | 6629 Elapsed Time: 0:00:00"
     ]
    },
    {
     "name": "stdout",
     "output_type": "stream",
     "text": [
      "Total Rows: 24265\n",
      "Train rows: 21838\n"
     ]
    },
    {
     "name": "stderr",
     "output_type": "stream",
     "text": [
      "| |   #                                           | 24264 Elapsed Time: 0:00:00\n",
      "- | #                                              | 6598 Elapsed Time: 0:00:00"
     ]
    },
    {
     "name": "stdout",
     "output_type": "stream",
     "text": [
      "Total Rows: 23996\n",
      "Train rows: 21596\n"
     ]
    },
    {
     "name": "stderr",
     "output_type": "stream",
     "text": [
      "| |   #                                           | 23995 Elapsed Time: 0:00:00\n",
      "- | #                                              | 6604 Elapsed Time: 0:00:00"
     ]
    },
    {
     "name": "stdout",
     "output_type": "stream",
     "text": [
      "Total Rows: 13573\n",
      "Train rows: 12215\n"
     ]
    },
    {
     "name": "stderr",
     "output_type": "stream",
     "text": [
      "| |  #                                            | 13572 Elapsed Time: 0:00:00\n",
      "- | #                                              | 6590 Elapsed Time: 0:00:00"
     ]
    },
    {
     "name": "stdout",
     "output_type": "stream",
     "text": [
      "Total Rows: 13730\n",
      "Train rows: 12357\n"
     ]
    },
    {
     "name": "stderr",
     "output_type": "stream",
     "text": [
      "| |  #                                            | 13729 Elapsed Time: 0:00:00\n",
      "- | #                                              | 6657 Elapsed Time: 0:00:00"
     ]
    },
    {
     "name": "stdout",
     "output_type": "stream",
     "text": [
      "Total Rows: 13583\n",
      "Train rows: 12224\n"
     ]
    },
    {
     "name": "stderr",
     "output_type": "stream",
     "text": [
      "| |  #                                            | 13582 Elapsed Time: 0:00:00\n",
      "/ |#                                                  | 0 Elapsed Time: 0:00:00"
     ]
    },
    {
     "name": "stdout",
     "output_type": "stream",
     "text": [
      "Fold 3 done!\n",
      "[1, 2, 3, 4, 5, 6, 7, 8, 9, 10, 11, 12, 13, 14, 15, 16, 17, 18, 19, 20, 21, 22, 23, 24, 25, 26]\n",
      "[1, 2, 3, 5, 6, 7, 8, 9, 10, 11, 12, 13, 14, 15, 16, 17, 18, 19, 20, 21, 22, 23, 26]\n",
      "subjects_per_fold  1\n",
      "Fold: 4\n",
      "Train: [1, 2, 3, 6, 7, 8, 9, 10, 11, 12, 13, 14, 15, 16, 17, 18, 19, 20, 21, 22, 23, 26]\n",
      "Test: [5]\n",
      "Total Rows: 24002\n",
      "Train rows: 21601\n"
     ]
    },
    {
     "name": "stderr",
     "output_type": "stream",
     "text": [
      "| |   #                                           | 24001 Elapsed Time: 0:00:00\n",
      "- | #                                              | 6357 Elapsed Time: 0:00:00"
     ]
    },
    {
     "name": "stdout",
     "output_type": "stream",
     "text": [
      "Total Rows: 24265\n",
      "Train rows: 21838\n"
     ]
    },
    {
     "name": "stderr",
     "output_type": "stream",
     "text": [
      "| |   #                                           | 24264 Elapsed Time: 0:00:00\n",
      "- | #                                              | 6562 Elapsed Time: 0:00:00"
     ]
    },
    {
     "name": "stdout",
     "output_type": "stream",
     "text": [
      "Total Rows: 23996\n",
      "Train rows: 21596\n"
     ]
    },
    {
     "name": "stderr",
     "output_type": "stream",
     "text": [
      "| |   #                                           | 23995 Elapsed Time: 0:00:00\n",
      "- | #                                              | 6437 Elapsed Time: 0:00:00"
     ]
    },
    {
     "name": "stdout",
     "output_type": "stream",
     "text": [
      "Total Rows: 24117\n",
      "Train rows: 21705\n"
     ]
    },
    {
     "name": "stderr",
     "output_type": "stream",
     "text": [
      "| |   #                                           | 24116 Elapsed Time: 0:00:00\n",
      "- | #                                              | 6495 Elapsed Time: 0:00:00"
     ]
    },
    {
     "name": "stdout",
     "output_type": "stream",
     "text": [
      "Total Rows: 24198\n",
      "Train rows: 21778\n"
     ]
    },
    {
     "name": "stderr",
     "output_type": "stream",
     "text": [
      "| |   #                                           | 24197 Elapsed Time: 0:00:00\n",
      "- | #                                              | 6213 Elapsed Time: 0:00:00"
     ]
    },
    {
     "name": "stdout",
     "output_type": "stream",
     "text": [
      "Total Rows: 23989\n",
      "Train rows: 21590\n"
     ]
    },
    {
     "name": "stderr",
     "output_type": "stream",
     "text": [
      "| |   #                                           | 23988 Elapsed Time: 0:00:00\n",
      "- | #                                              | 5917 Elapsed Time: 0:00:00"
     ]
    },
    {
     "name": "stdout",
     "output_type": "stream",
     "text": [
      "Total Rows: 24108\n",
      "Train rows: 21697\n"
     ]
    },
    {
     "name": "stderr",
     "output_type": "stream",
     "text": [
      "| |   #                                           | 24107 Elapsed Time: 0:00:00\n",
      "- | #                                              | 6578 Elapsed Time: 0:00:00"
     ]
    },
    {
     "name": "stdout",
     "output_type": "stream",
     "text": [
      "Total Rows: 24046\n",
      "Train rows: 21641\n"
     ]
    },
    {
     "name": "stderr",
     "output_type": "stream",
     "text": [
      "| |   #                                           | 24045 Elapsed Time: 0:00:00\n",
      "- | #                                              | 6622 Elapsed Time: 0:00:00"
     ]
    },
    {
     "name": "stdout",
     "output_type": "stream",
     "text": [
      "Total Rows: 24035\n",
      "Train rows: 21631\n"
     ]
    },
    {
     "name": "stderr",
     "output_type": "stream",
     "text": [
      "| |   #                                           | 24034 Elapsed Time: 0:00:00\n",
      "- | #                                              | 6491 Elapsed Time: 0:00:00"
     ]
    },
    {
     "name": "stdout",
     "output_type": "stream",
     "text": [
      "Total Rows: 23998\n",
      "Train rows: 21598\n"
     ]
    },
    {
     "name": "stderr",
     "output_type": "stream",
     "text": [
      "| |   #                                           | 23997 Elapsed Time: 0:00:00\n",
      "- | #                                              | 6357 Elapsed Time: 0:00:00"
     ]
    },
    {
     "name": "stdout",
     "output_type": "stream",
     "text": [
      "Total Rows: 24218\n",
      "Train rows: 21796\n"
     ]
    },
    {
     "name": "stderr",
     "output_type": "stream",
     "text": [
      "| |   #                                           | 24217 Elapsed Time: 0:00:00\n",
      "- | #                                              | 6610 Elapsed Time: 0:00:00"
     ]
    },
    {
     "name": "stdout",
     "output_type": "stream",
     "text": [
      "Total Rows: 24078\n",
      "Train rows: 21670\n"
     ]
    },
    {
     "name": "stderr",
     "output_type": "stream",
     "text": [
      "| |   #                                           | 24077 Elapsed Time: 0:00:00\n",
      "- | #                                              | 6552 Elapsed Time: 0:00:00"
     ]
    },
    {
     "name": "stdout",
     "output_type": "stream",
     "text": [
      "Total Rows: 24005\n",
      "Train rows: 21604\n"
     ]
    },
    {
     "name": "stderr",
     "output_type": "stream",
     "text": [
      "| |   #                                           | 24004 Elapsed Time: 0:00:00\n",
      "- | #                                              | 6637 Elapsed Time: 0:00:00"
     ]
    },
    {
     "name": "stdout",
     "output_type": "stream",
     "text": [
      "Total Rows: 24010\n",
      "Train rows: 21609\n"
     ]
    },
    {
     "name": "stderr",
     "output_type": "stream",
     "text": [
      "| |   #                                           | 24009 Elapsed Time: 0:00:00\n",
      "- | #                                              | 6604 Elapsed Time: 0:00:00"
     ]
    },
    {
     "name": "stdout",
     "output_type": "stream",
     "text": [
      "Total Rows: 24042\n",
      "Train rows: 21637\n"
     ]
    },
    {
     "name": "stderr",
     "output_type": "stream",
     "text": [
      "| |   #                                           | 24041 Elapsed Time: 0:00:00\n",
      "- | #                                              | 6638 Elapsed Time: 0:00:00"
     ]
    },
    {
     "name": "stdout",
     "output_type": "stream",
     "text": [
      "Total Rows: 24319\n",
      "Train rows: 21887\n"
     ]
    },
    {
     "name": "stderr",
     "output_type": "stream",
     "text": [
      "| |   #                                           | 24318 Elapsed Time: 0:00:00\n",
      "- | #                                              | 6614 Elapsed Time: 0:00:00"
     ]
    },
    {
     "name": "stdout",
     "output_type": "stream",
     "text": [
      "Total Rows: 24002\n",
      "Train rows: 21601\n"
     ]
    },
    {
     "name": "stderr",
     "output_type": "stream",
     "text": [
      "| |   #                                           | 24001 Elapsed Time: 0:00:00\n",
      "- | #                                              | 6649 Elapsed Time: 0:00:00"
     ]
    },
    {
     "name": "stdout",
     "output_type": "stream",
     "text": [
      "Total Rows: 24265\n",
      "Train rows: 21838\n"
     ]
    },
    {
     "name": "stderr",
     "output_type": "stream",
     "text": [
      "| |   #                                           | 24264 Elapsed Time: 0:00:00\n",
      "- | #                                              | 6509 Elapsed Time: 0:00:00"
     ]
    },
    {
     "name": "stdout",
     "output_type": "stream",
     "text": [
      "Total Rows: 23996\n",
      "Train rows: 21596\n"
     ]
    },
    {
     "name": "stderr",
     "output_type": "stream",
     "text": [
      "| |   #                                           | 23995 Elapsed Time: 0:00:00\n",
      "- | #                                              | 6554 Elapsed Time: 0:00:00"
     ]
    },
    {
     "name": "stdout",
     "output_type": "stream",
     "text": [
      "Total Rows: 13573\n",
      "Train rows: 12215\n"
     ]
    },
    {
     "name": "stderr",
     "output_type": "stream",
     "text": [
      "| |  #                                            | 13572 Elapsed Time: 0:00:00\n",
      "- | #                                              | 6617 Elapsed Time: 0:00:00"
     ]
    },
    {
     "name": "stdout",
     "output_type": "stream",
     "text": [
      "Total Rows: 13730\n",
      "Train rows: 12357\n"
     ]
    },
    {
     "name": "stderr",
     "output_type": "stream",
     "text": [
      "| |  #                                            | 13729 Elapsed Time: 0:00:00\n",
      "- | #                                              | 6647 Elapsed Time: 0:00:00"
     ]
    },
    {
     "name": "stdout",
     "output_type": "stream",
     "text": [
      "Total Rows: 13583\n",
      "Train rows: 12224\n"
     ]
    },
    {
     "name": "stderr",
     "output_type": "stream",
     "text": [
      "| |  #                                            | 13582 Elapsed Time: 0:00:00\n",
      "/ |#                                                  | 0 Elapsed Time: 0:00:00"
     ]
    },
    {
     "name": "stdout",
     "output_type": "stream",
     "text": [
      "Fold 4 done!\n",
      "[1, 2, 3, 4, 5, 6, 7, 8, 9, 10, 11, 12, 13, 14, 15, 16, 17, 18, 19, 20, 21, 22, 23, 24, 25, 26]\n",
      "[1, 2, 3, 5, 6, 7, 8, 9, 10, 11, 12, 13, 14, 15, 16, 17, 18, 19, 20, 21, 22, 23, 26]\n",
      "subjects_per_fold  1\n",
      "Fold: 5\n",
      "Train: [1, 2, 3, 5, 7, 8, 9, 10, 11, 12, 13, 14, 15, 16, 17, 18, 19, 20, 21, 22, 23, 26]\n",
      "Test: [6]\n",
      "Total Rows: 24002\n",
      "Train rows: 21601\n"
     ]
    },
    {
     "name": "stderr",
     "output_type": "stream",
     "text": [
      "| |   #                                           | 24001 Elapsed Time: 0:00:00\n",
      "- | #                                              | 6375 Elapsed Time: 0:00:00"
     ]
    },
    {
     "name": "stdout",
     "output_type": "stream",
     "text": [
      "Total Rows: 24265\n",
      "Train rows: 21838\n"
     ]
    },
    {
     "name": "stderr",
     "output_type": "stream",
     "text": [
      "| |   #                                           | 24264 Elapsed Time: 0:00:00\n",
      "- | #                                              | 6521 Elapsed Time: 0:00:00"
     ]
    },
    {
     "name": "stdout",
     "output_type": "stream",
     "text": [
      "Total Rows: 23996\n",
      "Train rows: 21596\n"
     ]
    },
    {
     "name": "stderr",
     "output_type": "stream",
     "text": [
      "| |   #                                           | 23995 Elapsed Time: 0:00:00\n",
      "- | #                                              | 6536 Elapsed Time: 0:00:00"
     ]
    },
    {
     "name": "stdout",
     "output_type": "stream",
     "text": [
      "Total Rows: 24131\n",
      "Train rows: 21717\n"
     ]
    },
    {
     "name": "stderr",
     "output_type": "stream",
     "text": [
      "| |   #                                           | 24130 Elapsed Time: 0:00:00\n",
      "- | #                                              | 6471 Elapsed Time: 0:00:00"
     ]
    },
    {
     "name": "stdout",
     "output_type": "stream",
     "text": [
      "Total Rows: 24198\n",
      "Train rows: 21778\n"
     ]
    },
    {
     "name": "stderr",
     "output_type": "stream",
     "text": [
      "| |   #                                           | 24197 Elapsed Time: 0:00:00\n",
      "- | #                                              | 6532 Elapsed Time: 0:00:00"
     ]
    },
    {
     "name": "stdout",
     "output_type": "stream",
     "text": [
      "Total Rows: 23989\n",
      "Train rows: 21590\n"
     ]
    },
    {
     "name": "stderr",
     "output_type": "stream",
     "text": [
      "| |   #                                           | 23988 Elapsed Time: 0:00:00\n",
      "- | #                                              | 6531 Elapsed Time: 0:00:00"
     ]
    },
    {
     "name": "stdout",
     "output_type": "stream",
     "text": [
      "Total Rows: 24108\n",
      "Train rows: 21697\n"
     ]
    },
    {
     "name": "stderr",
     "output_type": "stream",
     "text": [
      "| |   #                                           | 24107 Elapsed Time: 0:00:00\n",
      "- | #                                              | 6586 Elapsed Time: 0:00:00"
     ]
    },
    {
     "name": "stdout",
     "output_type": "stream",
     "text": [
      "Total Rows: 24046\n",
      "Train rows: 21641\n"
     ]
    },
    {
     "name": "stderr",
     "output_type": "stream",
     "text": [
      "| |   #                                           | 24045 Elapsed Time: 0:00:00\n",
      "- | #                                              | 6632 Elapsed Time: 0:00:00"
     ]
    },
    {
     "name": "stdout",
     "output_type": "stream",
     "text": [
      "Total Rows: 24035\n",
      "Train rows: 21631\n"
     ]
    },
    {
     "name": "stderr",
     "output_type": "stream",
     "text": [
      "| |   #                                           | 24034 Elapsed Time: 0:00:00\n",
      "- | #                                              | 6460 Elapsed Time: 0:00:00"
     ]
    },
    {
     "name": "stdout",
     "output_type": "stream",
     "text": [
      "Total Rows: 23998\n",
      "Train rows: 21598\n"
     ]
    },
    {
     "name": "stderr",
     "output_type": "stream",
     "text": [
      "| |   #                                           | 23997 Elapsed Time: 0:00:00\n",
      "- | #                                              | 6568 Elapsed Time: 0:00:00"
     ]
    },
    {
     "name": "stdout",
     "output_type": "stream",
     "text": [
      "Total Rows: 24218\n",
      "Train rows: 21796\n"
     ]
    },
    {
     "name": "stderr",
     "output_type": "stream",
     "text": [
      "| |   #                                           | 24217 Elapsed Time: 0:00:00\n",
      "- | #                                              | 6597 Elapsed Time: 0:00:00"
     ]
    },
    {
     "name": "stdout",
     "output_type": "stream",
     "text": [
      "Total Rows: 24078\n",
      "Train rows: 21670\n"
     ]
    },
    {
     "name": "stderr",
     "output_type": "stream",
     "text": [
      "| |   #                                           | 24077 Elapsed Time: 0:00:00\n",
      "- | #                                              | 6524 Elapsed Time: 0:00:00"
     ]
    },
    {
     "name": "stdout",
     "output_type": "stream",
     "text": [
      "Total Rows: 24005\n",
      "Train rows: 21604\n"
     ]
    },
    {
     "name": "stderr",
     "output_type": "stream",
     "text": [
      "| |   #                                           | 24004 Elapsed Time: 0:00:00\n",
      "- | #                                              | 6559 Elapsed Time: 0:00:00"
     ]
    },
    {
     "name": "stdout",
     "output_type": "stream",
     "text": [
      "Total Rows: 24010\n",
      "Train rows: 21609\n"
     ]
    },
    {
     "name": "stderr",
     "output_type": "stream",
     "text": [
      "| |   #                                           | 24009 Elapsed Time: 0:00:00\n",
      "- | #                                              | 6523 Elapsed Time: 0:00:00"
     ]
    },
    {
     "name": "stdout",
     "output_type": "stream",
     "text": [
      "Total Rows: 24042\n",
      "Train rows: 21637\n"
     ]
    },
    {
     "name": "stderr",
     "output_type": "stream",
     "text": [
      "| |   #                                           | 24041 Elapsed Time: 0:00:00\n",
      "- | #                                              | 6604 Elapsed Time: 0:00:00"
     ]
    },
    {
     "name": "stdout",
     "output_type": "stream",
     "text": [
      "Total Rows: 24319\n",
      "Train rows: 21887\n"
     ]
    },
    {
     "name": "stderr",
     "output_type": "stream",
     "text": [
      "| |   #                                           | 24318 Elapsed Time: 0:00:00\n",
      "- | #                                              | 6419 Elapsed Time: 0:00:00"
     ]
    },
    {
     "name": "stdout",
     "output_type": "stream",
     "text": [
      "Total Rows: 24002\n",
      "Train rows: 21601\n"
     ]
    },
    {
     "name": "stderr",
     "output_type": "stream",
     "text": [
      "| |   #                                           | 24001 Elapsed Time: 0:00:00\n",
      "- | #                                              | 6580 Elapsed Time: 0:00:00"
     ]
    },
    {
     "name": "stdout",
     "output_type": "stream",
     "text": [
      "Total Rows: 24265\n",
      "Train rows: 21838\n"
     ]
    },
    {
     "name": "stderr",
     "output_type": "stream",
     "text": [
      "| |   #                                           | 24264 Elapsed Time: 0:00:00\n",
      "- | #                                              | 6569 Elapsed Time: 0:00:00"
     ]
    },
    {
     "name": "stdout",
     "output_type": "stream",
     "text": [
      "Total Rows: 23996\n",
      "Train rows: 21596\n"
     ]
    },
    {
     "name": "stderr",
     "output_type": "stream",
     "text": [
      "| |   #                                           | 23995 Elapsed Time: 0:00:00\n",
      "- | #                                              | 6615 Elapsed Time: 0:00:00"
     ]
    },
    {
     "name": "stdout",
     "output_type": "stream",
     "text": [
      "Total Rows: 13573\n",
      "Train rows: 12215\n"
     ]
    },
    {
     "name": "stderr",
     "output_type": "stream",
     "text": [
      "| |  #                                            | 13572 Elapsed Time: 0:00:00\n",
      "- | #                                              | 6571 Elapsed Time: 0:00:00"
     ]
    },
    {
     "name": "stdout",
     "output_type": "stream",
     "text": [
      "Total Rows: 13730\n",
      "Train rows: 12357\n"
     ]
    },
    {
     "name": "stderr",
     "output_type": "stream",
     "text": [
      "| |  #                                            | 13729 Elapsed Time: 0:00:00\n",
      "- | #                                              | 6602 Elapsed Time: 0:00:00"
     ]
    },
    {
     "name": "stdout",
     "output_type": "stream",
     "text": [
      "Total Rows: 13583\n",
      "Train rows: 12224\n"
     ]
    },
    {
     "name": "stderr",
     "output_type": "stream",
     "text": [
      "| |  #                                            | 13582 Elapsed Time: 0:00:00\n",
      "/ |#                                                  | 0 Elapsed Time: 0:00:00"
     ]
    },
    {
     "name": "stdout",
     "output_type": "stream",
     "text": [
      "Fold 5 done!\n",
      "[1, 2, 3, 4, 5, 6, 7, 8, 9, 10, 11, 12, 13, 14, 15, 16, 17, 18, 19, 20, 21, 22, 23, 24, 25, 26]\n",
      "[1, 2, 3, 5, 6, 7, 8, 9, 10, 11, 12, 13, 14, 15, 16, 17, 18, 19, 20, 21, 22, 23, 26]\n",
      "subjects_per_fold  1\n",
      "Fold: 6\n",
      "Train: [1, 2, 3, 5, 6, 8, 9, 10, 11, 12, 13, 14, 15, 16, 17, 18, 19, 20, 21, 22, 23, 26]\n",
      "Test: [7]\n",
      "Total Rows: 24002\n",
      "Train rows: 21601\n"
     ]
    },
    {
     "name": "stderr",
     "output_type": "stream",
     "text": [
      "| |   #                                           | 24001 Elapsed Time: 0:00:00\n",
      "- | #                                              | 6191 Elapsed Time: 0:00:00"
     ]
    },
    {
     "name": "stdout",
     "output_type": "stream",
     "text": [
      "Total Rows: 24265\n",
      "Train rows: 21838\n"
     ]
    },
    {
     "name": "stderr",
     "output_type": "stream",
     "text": [
      "| |    #                                          | 24264 Elapsed Time: 0:00:00\n",
      "- | #                                              | 6508 Elapsed Time: 0:00:00"
     ]
    },
    {
     "name": "stdout",
     "output_type": "stream",
     "text": [
      "Total Rows: 23996\n",
      "Train rows: 21596\n"
     ]
    },
    {
     "name": "stderr",
     "output_type": "stream",
     "text": [
      "| |   #                                           | 23995 Elapsed Time: 0:00:00\n",
      "- | #                                              | 6549 Elapsed Time: 0:00:00"
     ]
    },
    {
     "name": "stdout",
     "output_type": "stream",
     "text": [
      "Total Rows: 24131\n",
      "Train rows: 21717\n"
     ]
    },
    {
     "name": "stderr",
     "output_type": "stream",
     "text": [
      "| |   #                                           | 24130 Elapsed Time: 0:00:00\n",
      "- | #                                              | 6455 Elapsed Time: 0:00:00"
     ]
    },
    {
     "name": "stdout",
     "output_type": "stream",
     "text": [
      "Total Rows: 24117\n",
      "Train rows: 21705\n"
     ]
    },
    {
     "name": "stderr",
     "output_type": "stream",
     "text": [
      "| |   #                                           | 24116 Elapsed Time: 0:00:00\n",
      "- | #                                              | 6523 Elapsed Time: 0:00:00"
     ]
    },
    {
     "name": "stdout",
     "output_type": "stream",
     "text": [
      "Total Rows: 23989\n",
      "Train rows: 21590\n"
     ]
    },
    {
     "name": "stderr",
     "output_type": "stream",
     "text": [
      "| |   #                                           | 23988 Elapsed Time: 0:00:00\n",
      "- | #                                              | 6510 Elapsed Time: 0:00:00"
     ]
    },
    {
     "name": "stdout",
     "output_type": "stream",
     "text": [
      "Total Rows: 24108\n",
      "Train rows: 21697\n"
     ]
    },
    {
     "name": "stderr",
     "output_type": "stream",
     "text": [
      "| |   #                                           | 24107 Elapsed Time: 0:00:00\n",
      "- | #                                              | 6608 Elapsed Time: 0:00:00"
     ]
    },
    {
     "name": "stdout",
     "output_type": "stream",
     "text": [
      "Total Rows: 24046\n",
      "Train rows: 21641\n"
     ]
    },
    {
     "name": "stderr",
     "output_type": "stream",
     "text": [
      "| |   #                                           | 24045 Elapsed Time: 0:00:00\n",
      "- | #                                              | 6457 Elapsed Time: 0:00:00"
     ]
    },
    {
     "name": "stdout",
     "output_type": "stream",
     "text": [
      "Total Rows: 24035\n",
      "Train rows: 21631\n"
     ]
    },
    {
     "name": "stderr",
     "output_type": "stream",
     "text": [
      "| |   #                                           | 24034 Elapsed Time: 0:00:00\n",
      "- | #                                              | 6564 Elapsed Time: 0:00:00"
     ]
    },
    {
     "name": "stdout",
     "output_type": "stream",
     "text": [
      "Total Rows: 23998\n",
      "Train rows: 21598\n"
     ]
    },
    {
     "name": "stderr",
     "output_type": "stream",
     "text": [
      "| |   #                                           | 23997 Elapsed Time: 0:00:00\n",
      "- | #                                              | 6530 Elapsed Time: 0:00:00"
     ]
    },
    {
     "name": "stdout",
     "output_type": "stream",
     "text": [
      "Total Rows: 24218\n",
      "Train rows: 21796\n"
     ]
    },
    {
     "name": "stderr",
     "output_type": "stream",
     "text": [
      "| |   #                                           | 24217 Elapsed Time: 0:00:00\n",
      "- | #                                              | 6642 Elapsed Time: 0:00:00"
     ]
    },
    {
     "name": "stdout",
     "output_type": "stream",
     "text": [
      "Total Rows: 24078\n",
      "Train rows: 21670\n"
     ]
    },
    {
     "name": "stderr",
     "output_type": "stream",
     "text": [
      "| |   #                                           | 24077 Elapsed Time: 0:00:00\n",
      "- | #                                              | 6608 Elapsed Time: 0:00:00"
     ]
    },
    {
     "name": "stdout",
     "output_type": "stream",
     "text": [
      "Total Rows: 24005\n",
      "Train rows: 21604\n"
     ]
    },
    {
     "name": "stderr",
     "output_type": "stream",
     "text": [
      "| |   #                                           | 24004 Elapsed Time: 0:00:00\n",
      "- | #                                              | 6655 Elapsed Time: 0:00:00"
     ]
    },
    {
     "name": "stdout",
     "output_type": "stream",
     "text": [
      "Total Rows: 24010\n",
      "Train rows: 21609\n"
     ]
    },
    {
     "name": "stderr",
     "output_type": "stream",
     "text": [
      "| |   #                                           | 24009 Elapsed Time: 0:00:00\n",
      "- | #                                              | 6599 Elapsed Time: 0:00:00"
     ]
    },
    {
     "name": "stdout",
     "output_type": "stream",
     "text": [
      "Total Rows: 24042\n",
      "Train rows: 21637\n"
     ]
    },
    {
     "name": "stderr",
     "output_type": "stream",
     "text": [
      "| |   #                                           | 24041 Elapsed Time: 0:00:00\n",
      "- | #                                              | 6521 Elapsed Time: 0:00:00"
     ]
    },
    {
     "name": "stdout",
     "output_type": "stream",
     "text": [
      "Total Rows: 24319\n",
      "Train rows: 21887\n"
     ]
    },
    {
     "name": "stderr",
     "output_type": "stream",
     "text": [
      "| |   #                                           | 24318 Elapsed Time: 0:00:00\n",
      "- | #                                              | 6589 Elapsed Time: 0:00:00"
     ]
    },
    {
     "name": "stdout",
     "output_type": "stream",
     "text": [
      "Total Rows: 24002\n",
      "Train rows: 21601\n"
     ]
    },
    {
     "name": "stderr",
     "output_type": "stream",
     "text": [
      "| |   #                                           | 24001 Elapsed Time: 0:00:00\n",
      "- | #                                              | 6621 Elapsed Time: 0:00:00"
     ]
    },
    {
     "name": "stdout",
     "output_type": "stream",
     "text": [
      "Total Rows: 24265\n",
      "Train rows: 21838\n"
     ]
    },
    {
     "name": "stderr",
     "output_type": "stream",
     "text": [
      "| |   #                                           | 24264 Elapsed Time: 0:00:00\n",
      "- | #                                              | 6486 Elapsed Time: 0:00:00"
     ]
    },
    {
     "name": "stdout",
     "output_type": "stream",
     "text": [
      "Total Rows: 23996\n",
      "Train rows: 21596\n"
     ]
    },
    {
     "name": "stderr",
     "output_type": "stream",
     "text": [
      "| |   #                                           | 23995 Elapsed Time: 0:00:00\n",
      "- | #                                              | 6606 Elapsed Time: 0:00:00"
     ]
    },
    {
     "name": "stdout",
     "output_type": "stream",
     "text": [
      "Total Rows: 13573\n",
      "Train rows: 12215\n"
     ]
    },
    {
     "name": "stderr",
     "output_type": "stream",
     "text": [
      "| |  #                                            | 13572 Elapsed Time: 0:00:00\n",
      "- | #                                              | 6592 Elapsed Time: 0:00:00"
     ]
    },
    {
     "name": "stdout",
     "output_type": "stream",
     "text": [
      "Total Rows: 13730\n",
      "Train rows: 12357\n"
     ]
    },
    {
     "name": "stderr",
     "output_type": "stream",
     "text": [
      "| |  #                                            | 13729 Elapsed Time: 0:00:00\n",
      "- | #                                              | 6464 Elapsed Time: 0:00:00"
     ]
    },
    {
     "name": "stdout",
     "output_type": "stream",
     "text": [
      "Total Rows: 13583\n",
      "Train rows: 12224\n"
     ]
    },
    {
     "name": "stderr",
     "output_type": "stream",
     "text": [
      "| |  #                                            | 13582 Elapsed Time: 0:00:00\n",
      "/ |#                                                  | 0 Elapsed Time: 0:00:00"
     ]
    },
    {
     "name": "stdout",
     "output_type": "stream",
     "text": [
      "Fold 6 done!\n",
      "[1, 2, 3, 4, 5, 6, 7, 8, 9, 10, 11, 12, 13, 14, 15, 16, 17, 18, 19, 20, 21, 22, 23, 24, 25, 26]\n",
      "[1, 2, 3, 5, 6, 7, 8, 9, 10, 11, 12, 13, 14, 15, 16, 17, 18, 19, 20, 21, 22, 23, 26]\n",
      "subjects_per_fold  1\n",
      "Fold: 7\n",
      "Train: [1, 2, 3, 5, 6, 7, 9, 10, 11, 12, 13, 14, 15, 16, 17, 18, 19, 20, 21, 22, 23, 26]\n",
      "Test: [8]\n",
      "Total Rows: 24002\n",
      "Train rows: 21601\n"
     ]
    },
    {
     "name": "stderr",
     "output_type": "stream",
     "text": [
      "| |   #                                           | 24001 Elapsed Time: 0:00:00\n",
      "- | #                                              | 6335 Elapsed Time: 0:00:00"
     ]
    },
    {
     "name": "stdout",
     "output_type": "stream",
     "text": [
      "Total Rows: 24265\n",
      "Train rows: 21838\n"
     ]
    },
    {
     "name": "stderr",
     "output_type": "stream",
     "text": [
      "| |   #                                           | 24264 Elapsed Time: 0:00:00\n",
      "- | #                                              | 6439 Elapsed Time: 0:00:00"
     ]
    },
    {
     "name": "stdout",
     "output_type": "stream",
     "text": [
      "Total Rows: 23996\n",
      "Train rows: 21596\n"
     ]
    },
    {
     "name": "stderr",
     "output_type": "stream",
     "text": [
      "| |   #                                           | 23995 Elapsed Time: 0:00:00\n",
      "- | #                                              | 6528 Elapsed Time: 0:00:00"
     ]
    },
    {
     "name": "stdout",
     "output_type": "stream",
     "text": [
      "Total Rows: 24131\n",
      "Train rows: 21717\n"
     ]
    },
    {
     "name": "stderr",
     "output_type": "stream",
     "text": [
      "| |   #                                           | 24130 Elapsed Time: 0:00:00\n",
      "- | #                                              | 6218 Elapsed Time: 0:00:00"
     ]
    },
    {
     "name": "stdout",
     "output_type": "stream",
     "text": [
      "Total Rows: 24117\n",
      "Train rows: 21705\n"
     ]
    },
    {
     "name": "stderr",
     "output_type": "stream",
     "text": [
      "| |   #                                           | 24116 Elapsed Time: 0:00:00\n",
      "- | #                                              | 6433 Elapsed Time: 0:00:00"
     ]
    },
    {
     "name": "stdout",
     "output_type": "stream",
     "text": [
      "Total Rows: 24198\n",
      "Train rows: 21778\n"
     ]
    },
    {
     "name": "stderr",
     "output_type": "stream",
     "text": [
      "| |   #                                           | 24197 Elapsed Time: 0:00:00\n",
      "- | #                                              | 5985 Elapsed Time: 0:00:00"
     ]
    },
    {
     "name": "stdout",
     "output_type": "stream",
     "text": [
      "Total Rows: 24108\n",
      "Train rows: 21697\n"
     ]
    },
    {
     "name": "stderr",
     "output_type": "stream",
     "text": [
      "| |   #                                           | 24107 Elapsed Time: 0:00:00\n",
      "- | #                                              | 6265 Elapsed Time: 0:00:00"
     ]
    },
    {
     "name": "stdout",
     "output_type": "stream",
     "text": [
      "Total Rows: 24046\n",
      "Train rows: 21641\n"
     ]
    },
    {
     "name": "stderr",
     "output_type": "stream",
     "text": [
      "| |   #                                           | 24045 Elapsed Time: 0:00:00\n",
      "- | #                                              | 6527 Elapsed Time: 0:00:00"
     ]
    },
    {
     "name": "stdout",
     "output_type": "stream",
     "text": [
      "Total Rows: 24035\n",
      "Train rows: 21631\n"
     ]
    },
    {
     "name": "stderr",
     "output_type": "stream",
     "text": [
      "| |   #                                           | 24034 Elapsed Time: 0:00:00\n",
      "- | #                                              | 6382 Elapsed Time: 0:00:00"
     ]
    },
    {
     "name": "stdout",
     "output_type": "stream",
     "text": [
      "Total Rows: 23998\n",
      "Train rows: 21598\n"
     ]
    },
    {
     "name": "stderr",
     "output_type": "stream",
     "text": [
      "| |   #                                           | 23997 Elapsed Time: 0:00:00\n",
      "- | #                                              | 6237 Elapsed Time: 0:00:00"
     ]
    },
    {
     "name": "stdout",
     "output_type": "stream",
     "text": [
      "Total Rows: 24218\n",
      "Train rows: 21796\n"
     ]
    },
    {
     "name": "stderr",
     "output_type": "stream",
     "text": [
      "| |   #                                           | 24217 Elapsed Time: 0:00:00\n",
      "- | #                                              | 6541 Elapsed Time: 0:00:00"
     ]
    },
    {
     "name": "stdout",
     "output_type": "stream",
     "text": [
      "Total Rows: 24078\n",
      "Train rows: 21670\n"
     ]
    },
    {
     "name": "stderr",
     "output_type": "stream",
     "text": [
      "| |   #                                           | 24077 Elapsed Time: 0:00:00\n",
      "- | #                                              | 6391 Elapsed Time: 0:00:00"
     ]
    },
    {
     "name": "stdout",
     "output_type": "stream",
     "text": [
      "Total Rows: 24005\n",
      "Train rows: 21604\n"
     ]
    },
    {
     "name": "stderr",
     "output_type": "stream",
     "text": [
      "| |   #                                           | 24004 Elapsed Time: 0:00:00\n",
      "- | #                                              | 6525 Elapsed Time: 0:00:00"
     ]
    },
    {
     "name": "stdout",
     "output_type": "stream",
     "text": [
      "Total Rows: 24010\n",
      "Train rows: 21609\n"
     ]
    },
    {
     "name": "stderr",
     "output_type": "stream",
     "text": [
      "| |   #                                           | 24009 Elapsed Time: 0:00:00\n",
      "- | #                                              | 6523 Elapsed Time: 0:00:00"
     ]
    },
    {
     "name": "stdout",
     "output_type": "stream",
     "text": [
      "Total Rows: 24042\n",
      "Train rows: 21637\n"
     ]
    },
    {
     "name": "stderr",
     "output_type": "stream",
     "text": [
      "| |   #                                           | 24041 Elapsed Time: 0:00:00\n",
      "- | #                                              | 6599 Elapsed Time: 0:00:00"
     ]
    },
    {
     "name": "stdout",
     "output_type": "stream",
     "text": [
      "Total Rows: 24319\n",
      "Train rows: 21887\n"
     ]
    },
    {
     "name": "stderr",
     "output_type": "stream",
     "text": [
      "| |   #                                           | 24318 Elapsed Time: 0:00:00\n",
      "- | #                                              | 6613 Elapsed Time: 0:00:00"
     ]
    },
    {
     "name": "stdout",
     "output_type": "stream",
     "text": [
      "Total Rows: 24002\n",
      "Train rows: 21601\n"
     ]
    },
    {
     "name": "stderr",
     "output_type": "stream",
     "text": [
      "| |   #                                           | 24001 Elapsed Time: 0:00:00\n",
      "- | #                                              | 6377 Elapsed Time: 0:00:00"
     ]
    },
    {
     "name": "stdout",
     "output_type": "stream",
     "text": [
      "Total Rows: 24265\n",
      "Train rows: 21838\n"
     ]
    },
    {
     "name": "stderr",
     "output_type": "stream",
     "text": [
      "| |   #                                           | 24264 Elapsed Time: 0:00:00\n",
      "- | #                                              | 6021 Elapsed Time: 0:00:00"
     ]
    },
    {
     "name": "stdout",
     "output_type": "stream",
     "text": [
      "Total Rows: 23996\n",
      "Train rows: 21596\n"
     ]
    },
    {
     "name": "stderr",
     "output_type": "stream",
     "text": [
      "| |   #                                           | 23995 Elapsed Time: 0:00:00\n",
      "- | #                                              | 6055 Elapsed Time: 0:00:00"
     ]
    },
    {
     "name": "stdout",
     "output_type": "stream",
     "text": [
      "Total Rows: 13573\n",
      "Train rows: 12215\n"
     ]
    },
    {
     "name": "stderr",
     "output_type": "stream",
     "text": [
      "| |  #                                            | 13572 Elapsed Time: 0:00:00\n",
      "- | #                                              | 5999 Elapsed Time: 0:00:00"
     ]
    },
    {
     "name": "stdout",
     "output_type": "stream",
     "text": [
      "Total Rows: 13730\n",
      "Train rows: 12357\n"
     ]
    },
    {
     "name": "stderr",
     "output_type": "stream",
     "text": [
      "| |  #                                            | 13729 Elapsed Time: 0:00:00\n",
      "- | #                                              | 6362 Elapsed Time: 0:00:00"
     ]
    },
    {
     "name": "stdout",
     "output_type": "stream",
     "text": [
      "Total Rows: 13583\n",
      "Train rows: 12224\n"
     ]
    },
    {
     "name": "stderr",
     "output_type": "stream",
     "text": [
      "| |  #                                            | 13582 Elapsed Time: 0:00:00\n",
      "/ |#                                                  | 0 Elapsed Time: 0:00:00"
     ]
    },
    {
     "name": "stdout",
     "output_type": "stream",
     "text": [
      "Fold 7 done!\n",
      "[1, 2, 3, 4, 5, 6, 7, 8, 9, 10, 11, 12, 13, 14, 15, 16, 17, 18, 19, 20, 21, 22, 23, 24, 25, 26]\n",
      "[1, 2, 3, 5, 6, 7, 8, 9, 10, 11, 12, 13, 14, 15, 16, 17, 18, 19, 20, 21, 22, 23, 26]\n",
      "subjects_per_fold  1\n",
      "Fold: 8\n",
      "Train: [1, 2, 3, 5, 6, 7, 8, 10, 11, 12, 13, 14, 15, 16, 17, 18, 19, 20, 21, 22, 23, 26]\n",
      "Test: [9]\n",
      "Total Rows: 24002\n",
      "Train rows: 21601\n"
     ]
    },
    {
     "name": "stderr",
     "output_type": "stream",
     "text": [
      "| |    #                                          | 24001 Elapsed Time: 0:00:00\n",
      "- | #                                              | 6118 Elapsed Time: 0:00:00"
     ]
    },
    {
     "name": "stdout",
     "output_type": "stream",
     "text": [
      "Total Rows: 24265\n",
      "Train rows: 21838\n"
     ]
    },
    {
     "name": "stderr",
     "output_type": "stream",
     "text": [
      "| |   #                                           | 24264 Elapsed Time: 0:00:00\n",
      "- | #                                              | 5779 Elapsed Time: 0:00:00"
     ]
    },
    {
     "name": "stdout",
     "output_type": "stream",
     "text": [
      "Total Rows: 23996\n",
      "Train rows: 21596\n"
     ]
    },
    {
     "name": "stderr",
     "output_type": "stream",
     "text": [
      "| |   #                                           | 23995 Elapsed Time: 0:00:00\n",
      "- | #                                              | 5095 Elapsed Time: 0:00:00"
     ]
    },
    {
     "name": "stdout",
     "output_type": "stream",
     "text": [
      "Total Rows: 24131\n",
      "Train rows: 21717\n"
     ]
    },
    {
     "name": "stderr",
     "output_type": "stream",
     "text": [
      "| |    #                                          | 24130 Elapsed Time: 0:00:00\n",
      "- | #                                              | 6068 Elapsed Time: 0:00:00"
     ]
    },
    {
     "name": "stdout",
     "output_type": "stream",
     "text": [
      "Total Rows: 24117\n",
      "Train rows: 21705\n"
     ]
    },
    {
     "name": "stderr",
     "output_type": "stream",
     "text": [
      "| |   #                                           | 24116 Elapsed Time: 0:00:00\n",
      "- | #                                              | 6258 Elapsed Time: 0:00:00"
     ]
    },
    {
     "name": "stdout",
     "output_type": "stream",
     "text": [
      "Total Rows: 24198\n",
      "Train rows: 21778\n"
     ]
    },
    {
     "name": "stderr",
     "output_type": "stream",
     "text": [
      "| |   #                                           | 24197 Elapsed Time: 0:00:00\n",
      "- | #                                              | 6316 Elapsed Time: 0:00:00"
     ]
    },
    {
     "name": "stdout",
     "output_type": "stream",
     "text": [
      "Total Rows: 23989\n",
      "Train rows: 21590\n"
     ]
    },
    {
     "name": "stderr",
     "output_type": "stream",
     "text": [
      "| |   #                                           | 23988 Elapsed Time: 0:00:00\n",
      "- | #                                              | 6246 Elapsed Time: 0:00:00"
     ]
    },
    {
     "name": "stdout",
     "output_type": "stream",
     "text": [
      "Total Rows: 24046\n",
      "Train rows: 21641\n"
     ]
    },
    {
     "name": "stderr",
     "output_type": "stream",
     "text": [
      "| |   #                                           | 24045 Elapsed Time: 0:00:00\n",
      "- | #                                              | 6626 Elapsed Time: 0:00:00"
     ]
    },
    {
     "name": "stdout",
     "output_type": "stream",
     "text": [
      "Total Rows: 24035\n",
      "Train rows: 21631\n"
     ]
    },
    {
     "name": "stderr",
     "output_type": "stream",
     "text": [
      "| |   #                                           | 24034 Elapsed Time: 0:00:00\n",
      "- | #                                              | 6310 Elapsed Time: 0:00:00"
     ]
    },
    {
     "name": "stdout",
     "output_type": "stream",
     "text": [
      "Total Rows: 23998\n",
      "Train rows: 21598\n"
     ]
    },
    {
     "name": "stderr",
     "output_type": "stream",
     "text": [
      "| |   #                                           | 23997 Elapsed Time: 0:00:00\n",
      "- | #                                              | 5933 Elapsed Time: 0:00:00"
     ]
    },
    {
     "name": "stdout",
     "output_type": "stream",
     "text": [
      "Total Rows: 24218\n",
      "Train rows: 21796\n"
     ]
    },
    {
     "name": "stderr",
     "output_type": "stream",
     "text": [
      "| |   #                                           | 24217 Elapsed Time: 0:00:00\n",
      "- | #                                              | 6435 Elapsed Time: 0:00:00"
     ]
    },
    {
     "name": "stdout",
     "output_type": "stream",
     "text": [
      "Total Rows: 24078\n",
      "Train rows: 21670\n"
     ]
    },
    {
     "name": "stderr",
     "output_type": "stream",
     "text": [
      "| |   #                                           | 24077 Elapsed Time: 0:00:00\n",
      "- | #                                              | 5763 Elapsed Time: 0:00:00"
     ]
    },
    {
     "name": "stdout",
     "output_type": "stream",
     "text": [
      "Total Rows: 24005\n",
      "Train rows: 21604\n"
     ]
    },
    {
     "name": "stderr",
     "output_type": "stream",
     "text": [
      "| |    #                                          | 24004 Elapsed Time: 0:00:00\n",
      "- | #                                              | 6290 Elapsed Time: 0:00:00"
     ]
    },
    {
     "name": "stdout",
     "output_type": "stream",
     "text": [
      "Total Rows: 24010\n",
      "Train rows: 21609\n"
     ]
    },
    {
     "name": "stderr",
     "output_type": "stream",
     "text": [
      "| |   #                                           | 24009 Elapsed Time: 0:00:00\n",
      "- | #                                              | 6443 Elapsed Time: 0:00:00"
     ]
    },
    {
     "name": "stdout",
     "output_type": "stream",
     "text": [
      "Total Rows: 24042\n",
      "Train rows: 21637\n"
     ]
    },
    {
     "name": "stderr",
     "output_type": "stream",
     "text": [
      "| |   #                                           | 24041 Elapsed Time: 0:00:00\n",
      "- | #                                              | 6370 Elapsed Time: 0:00:00"
     ]
    },
    {
     "name": "stdout",
     "output_type": "stream",
     "text": [
      "Total Rows: 24319\n",
      "Train rows: 21887\n"
     ]
    },
    {
     "name": "stderr",
     "output_type": "stream",
     "text": [
      "| |   #                                           | 24318 Elapsed Time: 0:00:00\n",
      "- | #                                              | 6403 Elapsed Time: 0:00:00"
     ]
    },
    {
     "name": "stdout",
     "output_type": "stream",
     "text": [
      "Total Rows: 24002\n",
      "Train rows: 21601\n"
     ]
    },
    {
     "name": "stderr",
     "output_type": "stream",
     "text": [
      "| |   #                                           | 24001 Elapsed Time: 0:00:00\n",
      "- | #                                              | 6643 Elapsed Time: 0:00:00"
     ]
    },
    {
     "name": "stdout",
     "output_type": "stream",
     "text": [
      "Total Rows: 24265\n",
      "Train rows: 21838\n"
     ]
    },
    {
     "name": "stderr",
     "output_type": "stream",
     "text": [
      "| |   #                                           | 24264 Elapsed Time: 0:00:00\n",
      "- | #                                              | 5461 Elapsed Time: 0:00:00"
     ]
    },
    {
     "name": "stdout",
     "output_type": "stream",
     "text": [
      "Total Rows: 23996\n",
      "Train rows: 21596\n"
     ]
    },
    {
     "name": "stderr",
     "output_type": "stream",
     "text": [
      "| |    #                                          | 23995 Elapsed Time: 0:00:00\n",
      "- | #                                              | 6482 Elapsed Time: 0:00:00"
     ]
    },
    {
     "name": "stdout",
     "output_type": "stream",
     "text": [
      "Total Rows: 13573\n",
      "Train rows: 12215\n"
     ]
    },
    {
     "name": "stderr",
     "output_type": "stream",
     "text": [
      "| |  #                                            | 13572 Elapsed Time: 0:00:00\n",
      "- | #                                              | 6455 Elapsed Time: 0:00:00"
     ]
    },
    {
     "name": "stdout",
     "output_type": "stream",
     "text": [
      "Total Rows: 13730\n",
      "Train rows: 12357\n"
     ]
    },
    {
     "name": "stderr",
     "output_type": "stream",
     "text": [
      "| |  #                                            | 13729 Elapsed Time: 0:00:00\n",
      "- | #                                              | 6505 Elapsed Time: 0:00:00"
     ]
    },
    {
     "name": "stdout",
     "output_type": "stream",
     "text": [
      "Total Rows: 13583\n",
      "Train rows: 12224\n"
     ]
    },
    {
     "name": "stderr",
     "output_type": "stream",
     "text": [
      "| |  #                                            | 13582 Elapsed Time: 0:00:00\n",
      "/ |#                                                  | 0 Elapsed Time: 0:00:00"
     ]
    },
    {
     "name": "stdout",
     "output_type": "stream",
     "text": [
      "Fold 8 done!\n",
      "[1, 2, 3, 4, 5, 6, 7, 8, 9, 10, 11, 12, 13, 14, 15, 16, 17, 18, 19, 20, 21, 22, 23, 24, 25, 26]\n",
      "[1, 2, 3, 5, 6, 7, 8, 9, 10, 11, 12, 13, 14, 15, 16, 17, 18, 19, 20, 21, 22, 23, 26]\n",
      "subjects_per_fold  1\n",
      "Fold: 9\n",
      "Train: [1, 2, 3, 5, 6, 7, 8, 9, 11, 12, 13, 14, 15, 16, 17, 18, 19, 20, 21, 22, 23, 26]\n",
      "Test: [10]\n",
      "Total Rows: 24002\n",
      "Train rows: 21601\n"
     ]
    },
    {
     "name": "stderr",
     "output_type": "stream",
     "text": [
      "| |   #                                           | 24001 Elapsed Time: 0:00:00\n",
      "- | #                                              | 6194 Elapsed Time: 0:00:00"
     ]
    },
    {
     "name": "stdout",
     "output_type": "stream",
     "text": [
      "Total Rows: 24265\n",
      "Train rows: 21838\n"
     ]
    },
    {
     "name": "stderr",
     "output_type": "stream",
     "text": [
      "| |   #                                           | 24264 Elapsed Time: 0:00:00\n",
      "- | #                                              | 6439 Elapsed Time: 0:00:00"
     ]
    },
    {
     "name": "stdout",
     "output_type": "stream",
     "text": [
      "Total Rows: 23996\n",
      "Train rows: 21596\n"
     ]
    },
    {
     "name": "stderr",
     "output_type": "stream",
     "text": [
      "| |   #                                           | 23995 Elapsed Time: 0:00:00\n",
      "- | #                                              | 6307 Elapsed Time: 0:00:00"
     ]
    },
    {
     "name": "stdout",
     "output_type": "stream",
     "text": [
      "Total Rows: 24131\n",
      "Train rows: 21717\n"
     ]
    },
    {
     "name": "stderr",
     "output_type": "stream",
     "text": [
      "| |   #                                           | 24130 Elapsed Time: 0:00:00\n",
      "- | #                                              | 6431 Elapsed Time: 0:00:00"
     ]
    },
    {
     "name": "stdout",
     "output_type": "stream",
     "text": [
      "Total Rows: 24117\n",
      "Train rows: 21705\n"
     ]
    },
    {
     "name": "stderr",
     "output_type": "stream",
     "text": [
      "| |   #                                           | 24116 Elapsed Time: 0:00:00\n",
      "- | #                                              | 6602 Elapsed Time: 0:00:00"
     ]
    },
    {
     "name": "stdout",
     "output_type": "stream",
     "text": [
      "Total Rows: 24198\n",
      "Train rows: 21778\n"
     ]
    },
    {
     "name": "stderr",
     "output_type": "stream",
     "text": [
      "| |   #                                           | 24197 Elapsed Time: 0:00:00\n",
      "- | #                                              | 6444 Elapsed Time: 0:00:00"
     ]
    },
    {
     "name": "stdout",
     "output_type": "stream",
     "text": [
      "Total Rows: 23989\n",
      "Train rows: 21590\n"
     ]
    },
    {
     "name": "stderr",
     "output_type": "stream",
     "text": [
      "| |   #                                           | 23988 Elapsed Time: 0:00:00\n",
      "- | #                                              | 6295 Elapsed Time: 0:00:00"
     ]
    },
    {
     "name": "stdout",
     "output_type": "stream",
     "text": [
      "Total Rows: 24108\n",
      "Train rows: 21697\n"
     ]
    },
    {
     "name": "stderr",
     "output_type": "stream",
     "text": [
      "| |   #                                           | 24107 Elapsed Time: 0:00:00\n",
      "- | #                                              | 6515 Elapsed Time: 0:00:00"
     ]
    },
    {
     "name": "stdout",
     "output_type": "stream",
     "text": [
      "Total Rows: 24035\n",
      "Train rows: 21631\n"
     ]
    },
    {
     "name": "stderr",
     "output_type": "stream",
     "text": [
      "| |   #                                           | 24034 Elapsed Time: 0:00:00\n",
      "- | #                                              | 6371 Elapsed Time: 0:00:00"
     ]
    },
    {
     "name": "stdout",
     "output_type": "stream",
     "text": [
      "Total Rows: 23998\n",
      "Train rows: 21598\n"
     ]
    },
    {
     "name": "stderr",
     "output_type": "stream",
     "text": [
      "| |   #                                           | 23997 Elapsed Time: 0:00:00\n",
      "- | #                                              | 6537 Elapsed Time: 0:00:00"
     ]
    },
    {
     "name": "stdout",
     "output_type": "stream",
     "text": [
      "Total Rows: 24218\n",
      "Train rows: 21796\n"
     ]
    },
    {
     "name": "stderr",
     "output_type": "stream",
     "text": [
      "| |   #                                           | 24217 Elapsed Time: 0:00:00\n",
      "- | #                                              | 6282 Elapsed Time: 0:00:00"
     ]
    },
    {
     "name": "stdout",
     "output_type": "stream",
     "text": [
      "Total Rows: 24078\n",
      "Train rows: 21670\n"
     ]
    },
    {
     "name": "stderr",
     "output_type": "stream",
     "text": [
      "| |   #                                           | 24077 Elapsed Time: 0:00:00\n",
      "- | #                                              | 6482 Elapsed Time: 0:00:00"
     ]
    },
    {
     "name": "stdout",
     "output_type": "stream",
     "text": [
      "Total Rows: 24005\n",
      "Train rows: 21604\n"
     ]
    },
    {
     "name": "stderr",
     "output_type": "stream",
     "text": [
      "| |   #                                           | 24004 Elapsed Time: 0:00:00\n",
      "- | #                                              | 6492 Elapsed Time: 0:00:00"
     ]
    },
    {
     "name": "stdout",
     "output_type": "stream",
     "text": [
      "Total Rows: 24010\n",
      "Train rows: 21609\n"
     ]
    },
    {
     "name": "stderr",
     "output_type": "stream",
     "text": [
      "| |   #                                           | 24009 Elapsed Time: 0:00:00\n",
      "- | #                                              | 6351 Elapsed Time: 0:00:00"
     ]
    },
    {
     "name": "stdout",
     "output_type": "stream",
     "text": [
      "Total Rows: 24042\n",
      "Train rows: 21637\n"
     ]
    },
    {
     "name": "stderr",
     "output_type": "stream",
     "text": [
      "| |   #                                           | 24041 Elapsed Time: 0:00:00\n",
      "- | #                                              | 6583 Elapsed Time: 0:00:00"
     ]
    },
    {
     "name": "stdout",
     "output_type": "stream",
     "text": [
      "Total Rows: 24319\n",
      "Train rows: 21887\n"
     ]
    },
    {
     "name": "stderr",
     "output_type": "stream",
     "text": [
      "| |   #                                           | 24318 Elapsed Time: 0:00:00\n",
      "- | #                                              | 6459 Elapsed Time: 0:00:00"
     ]
    },
    {
     "name": "stdout",
     "output_type": "stream",
     "text": [
      "Total Rows: 24002\n",
      "Train rows: 21601\n"
     ]
    },
    {
     "name": "stderr",
     "output_type": "stream",
     "text": [
      "| |   #                                           | 24001 Elapsed Time: 0:00:00\n",
      "- | #                                              | 6406 Elapsed Time: 0:00:00"
     ]
    },
    {
     "name": "stdout",
     "output_type": "stream",
     "text": [
      "Total Rows: 24265\n",
      "Train rows: 21838\n"
     ]
    },
    {
     "name": "stderr",
     "output_type": "stream",
     "text": [
      "| |   #                                           | 24264 Elapsed Time: 0:00:00\n",
      "- | #                                              | 6223 Elapsed Time: 0:00:00"
     ]
    },
    {
     "name": "stdout",
     "output_type": "stream",
     "text": [
      "Total Rows: 23996\n",
      "Train rows: 21596\n"
     ]
    },
    {
     "name": "stderr",
     "output_type": "stream",
     "text": [
      "| |   #                                           | 23995 Elapsed Time: 0:00:00\n",
      "- | #                                              | 6331 Elapsed Time: 0:00:00"
     ]
    },
    {
     "name": "stdout",
     "output_type": "stream",
     "text": [
      "Total Rows: 13573\n",
      "Train rows: 12215\n"
     ]
    },
    {
     "name": "stderr",
     "output_type": "stream",
     "text": [
      "| |  #                                            | 13572 Elapsed Time: 0:00:00\n",
      "- | #                                              | 6460 Elapsed Time: 0:00:00"
     ]
    },
    {
     "name": "stdout",
     "output_type": "stream",
     "text": [
      "Total Rows: 13730\n",
      "Train rows: 12357\n"
     ]
    },
    {
     "name": "stderr",
     "output_type": "stream",
     "text": [
      "| |  #                                            | 13729 Elapsed Time: 0:00:00\n",
      "- | #                                              | 6373 Elapsed Time: 0:00:00"
     ]
    },
    {
     "name": "stdout",
     "output_type": "stream",
     "text": [
      "Total Rows: 13583\n",
      "Train rows: 12224\n"
     ]
    },
    {
     "name": "stderr",
     "output_type": "stream",
     "text": [
      "| |  #                                            | 13582 Elapsed Time: 0:00:00\n",
      "/ |#                                                  | 0 Elapsed Time: 0:00:00"
     ]
    },
    {
     "name": "stdout",
     "output_type": "stream",
     "text": [
      "Fold 9 done!\n",
      "[1, 2, 3, 4, 5, 6, 7, 8, 9, 10, 11, 12, 13, 14, 15, 16, 17, 18, 19, 20, 21, 22, 23, 24, 25, 26]\n",
      "[1, 2, 3, 5, 6, 7, 8, 9, 10, 11, 12, 13, 14, 15, 16, 17, 18, 19, 20, 21, 22, 23, 26]\n",
      "subjects_per_fold  1\n",
      "Fold: 10\n",
      "Train: [1, 2, 3, 5, 6, 7, 8, 9, 10, 12, 13, 14, 15, 16, 17, 18, 19, 20, 21, 22, 23, 26]\n",
      "Test: [11]\n",
      "Total Rows: 24002\n",
      "Train rows: 21601\n"
     ]
    },
    {
     "name": "stderr",
     "output_type": "stream",
     "text": [
      "| |   #                                           | 24001 Elapsed Time: 0:00:00\n",
      "- | #                                              | 6291 Elapsed Time: 0:00:00"
     ]
    },
    {
     "name": "stdout",
     "output_type": "stream",
     "text": [
      "Total Rows: 24265\n",
      "Train rows: 21838\n"
     ]
    },
    {
     "name": "stderr",
     "output_type": "stream",
     "text": [
      "| |   #                                           | 24264 Elapsed Time: 0:00:00\n",
      "- | #                                              | 6655 Elapsed Time: 0:00:00"
     ]
    },
    {
     "name": "stdout",
     "output_type": "stream",
     "text": [
      "Total Rows: 23996\n",
      "Train rows: 21596\n"
     ]
    },
    {
     "name": "stderr",
     "output_type": "stream",
     "text": [
      "| |   #                                           | 23995 Elapsed Time: 0:00:00\n",
      "- | #                                              | 6408 Elapsed Time: 0:00:00"
     ]
    },
    {
     "name": "stdout",
     "output_type": "stream",
     "text": [
      "Total Rows: 24131\n",
      "Train rows: 21717\n"
     ]
    },
    {
     "name": "stderr",
     "output_type": "stream",
     "text": [
      "| |   #                                           | 24130 Elapsed Time: 0:00:00\n",
      "- | #                                              | 6262 Elapsed Time: 0:00:00"
     ]
    },
    {
     "name": "stdout",
     "output_type": "stream",
     "text": [
      "Total Rows: 24117\n",
      "Train rows: 21705\n"
     ]
    },
    {
     "name": "stderr",
     "output_type": "stream",
     "text": [
      "| |   #                                           | 24116 Elapsed Time: 0:00:00\n",
      "- | #                                              | 6452 Elapsed Time: 0:00:00"
     ]
    },
    {
     "name": "stdout",
     "output_type": "stream",
     "text": [
      "Total Rows: 24198\n",
      "Train rows: 21778\n"
     ]
    },
    {
     "name": "stderr",
     "output_type": "stream",
     "text": [
      "| |   #                                           | 24197 Elapsed Time: 0:00:00\n",
      "- | #                                              | 6525 Elapsed Time: 0:00:00"
     ]
    },
    {
     "name": "stdout",
     "output_type": "stream",
     "text": [
      "Total Rows: 23989\n",
      "Train rows: 21590\n"
     ]
    },
    {
     "name": "stderr",
     "output_type": "stream",
     "text": [
      "| |   #                                           | 23988 Elapsed Time: 0:00:00\n",
      "- | #                                              | 6511 Elapsed Time: 0:00:00"
     ]
    },
    {
     "name": "stdout",
     "output_type": "stream",
     "text": [
      "Total Rows: 24108\n",
      "Train rows: 21697\n"
     ]
    },
    {
     "name": "stderr",
     "output_type": "stream",
     "text": [
      "| |   #                                           | 24107 Elapsed Time: 0:00:00\n",
      "- | #                                              | 6406 Elapsed Time: 0:00:00"
     ]
    },
    {
     "name": "stdout",
     "output_type": "stream",
     "text": [
      "Total Rows: 24046\n",
      "Train rows: 21641\n"
     ]
    },
    {
     "name": "stderr",
     "output_type": "stream",
     "text": [
      "| |   #                                           | 24045 Elapsed Time: 0:00:00\n",
      "- | #                                              | 6424 Elapsed Time: 0:00:00"
     ]
    },
    {
     "name": "stdout",
     "output_type": "stream",
     "text": [
      "Total Rows: 23998\n",
      "Train rows: 21598\n"
     ]
    },
    {
     "name": "stderr",
     "output_type": "stream",
     "text": [
      "| |   #                                           | 23997 Elapsed Time: 0:00:00\n",
      "- | #                                              | 6523 Elapsed Time: 0:00:00"
     ]
    },
    {
     "name": "stdout",
     "output_type": "stream",
     "text": [
      "Total Rows: 24218\n",
      "Train rows: 21796\n"
     ]
    },
    {
     "name": "stderr",
     "output_type": "stream",
     "text": [
      "| |   #                                           | 24217 Elapsed Time: 0:00:00\n",
      "- | #                                              | 6551 Elapsed Time: 0:00:00"
     ]
    },
    {
     "name": "stdout",
     "output_type": "stream",
     "text": [
      "Total Rows: 24078\n",
      "Train rows: 21670\n"
     ]
    },
    {
     "name": "stderr",
     "output_type": "stream",
     "text": [
      "| |   #                                           | 24077 Elapsed Time: 0:00:00\n",
      "- | #                                              | 6458 Elapsed Time: 0:00:00"
     ]
    },
    {
     "name": "stdout",
     "output_type": "stream",
     "text": [
      "Total Rows: 24005\n",
      "Train rows: 21604\n"
     ]
    },
    {
     "name": "stderr",
     "output_type": "stream",
     "text": [
      "| |   #                                           | 24004 Elapsed Time: 0:00:00\n",
      "- | #                                              | 6463 Elapsed Time: 0:00:00"
     ]
    },
    {
     "name": "stdout",
     "output_type": "stream",
     "text": [
      "Total Rows: 24010\n",
      "Train rows: 21609\n"
     ]
    },
    {
     "name": "stderr",
     "output_type": "stream",
     "text": [
      "| |   #                                           | 24009 Elapsed Time: 0:00:00\n",
      "- | #                                              | 6541 Elapsed Time: 0:00:00"
     ]
    },
    {
     "name": "stdout",
     "output_type": "stream",
     "text": [
      "Total Rows: 24042\n",
      "Train rows: 21637\n"
     ]
    },
    {
     "name": "stderr",
     "output_type": "stream",
     "text": [
      "| |   #                                           | 24041 Elapsed Time: 0:00:00\n",
      "- | #                                              | 6144 Elapsed Time: 0:00:00"
     ]
    },
    {
     "name": "stdout",
     "output_type": "stream",
     "text": [
      "Total Rows: 24319\n",
      "Train rows: 21887\n"
     ]
    },
    {
     "name": "stderr",
     "output_type": "stream",
     "text": [
      "| |   #                                           | 24318 Elapsed Time: 0:00:00\n",
      "- | #                                              | 6438 Elapsed Time: 0:00:00"
     ]
    },
    {
     "name": "stdout",
     "output_type": "stream",
     "text": [
      "Total Rows: 24002\n",
      "Train rows: 21601\n"
     ]
    },
    {
     "name": "stderr",
     "output_type": "stream",
     "text": [
      "| |   #                                           | 24001 Elapsed Time: 0:00:00\n",
      "- | #                                              | 6503 Elapsed Time: 0:00:00"
     ]
    },
    {
     "name": "stdout",
     "output_type": "stream",
     "text": [
      "Total Rows: 24265\n",
      "Train rows: 21838\n"
     ]
    },
    {
     "name": "stderr",
     "output_type": "stream",
     "text": [
      "| |   #                                           | 24264 Elapsed Time: 0:00:00\n",
      "- | #                                              | 6368 Elapsed Time: 0:00:00"
     ]
    },
    {
     "name": "stdout",
     "output_type": "stream",
     "text": [
      "Total Rows: 23996\n",
      "Train rows: 21596\n"
     ]
    },
    {
     "name": "stderr",
     "output_type": "stream",
     "text": [
      "| |   #                                           | 23995 Elapsed Time: 0:00:00\n",
      "- | #                                              | 6425 Elapsed Time: 0:00:00"
     ]
    },
    {
     "name": "stdout",
     "output_type": "stream",
     "text": [
      "Total Rows: 13573\n",
      "Train rows: 12215\n"
     ]
    },
    {
     "name": "stderr",
     "output_type": "stream",
     "text": [
      "| |  #                                            | 13572 Elapsed Time: 0:00:00\n",
      "- | #                                              | 6578 Elapsed Time: 0:00:00"
     ]
    },
    {
     "name": "stdout",
     "output_type": "stream",
     "text": [
      "Total Rows: 13730\n",
      "Train rows: 12357\n"
     ]
    },
    {
     "name": "stderr",
     "output_type": "stream",
     "text": [
      "| |  #                                            | 13729 Elapsed Time: 0:00:00\n",
      "- | #                                              | 6591 Elapsed Time: 0:00:00"
     ]
    },
    {
     "name": "stdout",
     "output_type": "stream",
     "text": [
      "Total Rows: 13583\n",
      "Train rows: 12224\n"
     ]
    },
    {
     "name": "stderr",
     "output_type": "stream",
     "text": [
      "| |  #                                            | 13582 Elapsed Time: 0:00:00\n",
      "/ |#                                                  | 0 Elapsed Time: 0:00:00"
     ]
    },
    {
     "name": "stdout",
     "output_type": "stream",
     "text": [
      "Fold 10 done!\n",
      "[1, 2, 3, 4, 5, 6, 7, 8, 9, 10, 11, 12, 13, 14, 15, 16, 17, 18, 19, 20, 21, 22, 23, 24, 25, 26]\n",
      "[1, 2, 3, 5, 6, 7, 8, 9, 10, 11, 12, 13, 14, 15, 16, 17, 18, 19, 20, 21, 22, 23, 26]\n",
      "subjects_per_fold  1\n",
      "Fold: 11\n",
      "Train: [1, 2, 3, 5, 6, 7, 8, 9, 10, 11, 13, 14, 15, 16, 17, 18, 19, 20, 21, 22, 23, 26]\n",
      "Test: [12]\n",
      "Total Rows: 24002\n",
      "Train rows: 21601\n"
     ]
    },
    {
     "name": "stderr",
     "output_type": "stream",
     "text": [
      "| |   #                                           | 24001 Elapsed Time: 0:00:00\n",
      "- | #                                              | 6104 Elapsed Time: 0:00:00"
     ]
    },
    {
     "name": "stdout",
     "output_type": "stream",
     "text": [
      "Total Rows: 24265\n",
      "Train rows: 21838\n"
     ]
    },
    {
     "name": "stderr",
     "output_type": "stream",
     "text": [
      "| |   #                                           | 24264 Elapsed Time: 0:00:00\n",
      "- | #                                              | 6168 Elapsed Time: 0:00:00"
     ]
    },
    {
     "name": "stdout",
     "output_type": "stream",
     "text": [
      "Total Rows: 23996\n",
      "Train rows: 21596\n"
     ]
    },
    {
     "name": "stderr",
     "output_type": "stream",
     "text": [
      "| |   #                                           | 23995 Elapsed Time: 0:00:00\n",
      "- | #                                              | 6470 Elapsed Time: 0:00:00"
     ]
    },
    {
     "name": "stdout",
     "output_type": "stream",
     "text": [
      "Total Rows: 24131\n",
      "Train rows: 21717\n"
     ]
    },
    {
     "name": "stderr",
     "output_type": "stream",
     "text": [
      "| |   #                                           | 24130 Elapsed Time: 0:00:00\n",
      "- | #                                              | 6077 Elapsed Time: 0:00:00"
     ]
    },
    {
     "name": "stdout",
     "output_type": "stream",
     "text": [
      "Total Rows: 24117\n",
      "Train rows: 21705\n"
     ]
    },
    {
     "name": "stderr",
     "output_type": "stream",
     "text": [
      "| |   #                                           | 24116 Elapsed Time: 0:00:00\n",
      "- | #                                              | 6408 Elapsed Time: 0:00:00"
     ]
    },
    {
     "name": "stdout",
     "output_type": "stream",
     "text": [
      "Total Rows: 24198\n",
      "Train rows: 21778\n"
     ]
    },
    {
     "name": "stderr",
     "output_type": "stream",
     "text": [
      "| |   #                                           | 24197 Elapsed Time: 0:00:00\n",
      "- | #                                              | 6221 Elapsed Time: 0:00:00"
     ]
    },
    {
     "name": "stdout",
     "output_type": "stream",
     "text": [
      "Total Rows: 23989\n",
      "Train rows: 21590\n"
     ]
    },
    {
     "name": "stderr",
     "output_type": "stream",
     "text": [
      "| |   #                                           | 23988 Elapsed Time: 0:00:00\n",
      "- | #                                              | 6401 Elapsed Time: 0:00:00"
     ]
    },
    {
     "name": "stdout",
     "output_type": "stream",
     "text": [
      "Total Rows: 24108\n",
      "Train rows: 21697\n"
     ]
    },
    {
     "name": "stderr",
     "output_type": "stream",
     "text": [
      "| |   #                                           | 24107 Elapsed Time: 0:00:00\n",
      "- | #                                              | 5856 Elapsed Time: 0:00:00"
     ]
    },
    {
     "name": "stdout",
     "output_type": "stream",
     "text": [
      "Total Rows: 24046\n",
      "Train rows: 21641\n"
     ]
    },
    {
     "name": "stderr",
     "output_type": "stream",
     "text": [
      "| |    #                                          | 24045 Elapsed Time: 0:00:00\n",
      "- | #                                              | 5975 Elapsed Time: 0:00:00"
     ]
    },
    {
     "name": "stdout",
     "output_type": "stream",
     "text": [
      "Total Rows: 24035\n",
      "Train rows: 21631\n"
     ]
    },
    {
     "name": "stderr",
     "output_type": "stream",
     "text": [
      "| |   #                                           | 24034 Elapsed Time: 0:00:00\n",
      "- | #                                              | 5558 Elapsed Time: 0:00:00"
     ]
    },
    {
     "name": "stdout",
     "output_type": "stream",
     "text": [
      "Total Rows: 24218\n",
      "Train rows: 21796\n"
     ]
    },
    {
     "name": "stderr",
     "output_type": "stream",
     "text": [
      "| |    #                                          | 24217 Elapsed Time: 0:00:00\n",
      "- | #                                              | 6494 Elapsed Time: 0:00:00"
     ]
    },
    {
     "name": "stdout",
     "output_type": "stream",
     "text": [
      "Total Rows: 24078\n",
      "Train rows: 21670\n"
     ]
    },
    {
     "name": "stderr",
     "output_type": "stream",
     "text": [
      "| |   #                                           | 24077 Elapsed Time: 0:00:00\n",
      "- | #                                              | 6503 Elapsed Time: 0:00:00"
     ]
    },
    {
     "name": "stdout",
     "output_type": "stream",
     "text": [
      "Total Rows: 24005\n",
      "Train rows: 21604\n"
     ]
    },
    {
     "name": "stderr",
     "output_type": "stream",
     "text": [
      "| |   #                                           | 24004 Elapsed Time: 0:00:00\n",
      "- | #                                              | 5419 Elapsed Time: 0:00:00"
     ]
    },
    {
     "name": "stdout",
     "output_type": "stream",
     "text": [
      "Total Rows: 24010\n",
      "Train rows: 21609\n"
     ]
    },
    {
     "name": "stderr",
     "output_type": "stream",
     "text": [
      "| |    #                                          | 24009 Elapsed Time: 0:00:00\n",
      "- | #                                              | 6409 Elapsed Time: 0:00:00"
     ]
    },
    {
     "name": "stdout",
     "output_type": "stream",
     "text": [
      "Total Rows: 24042\n",
      "Train rows: 21637\n"
     ]
    },
    {
     "name": "stderr",
     "output_type": "stream",
     "text": [
      "| |   #                                           | 24041 Elapsed Time: 0:00:00\n",
      "- | #                                              | 6549 Elapsed Time: 0:00:00"
     ]
    },
    {
     "name": "stdout",
     "output_type": "stream",
     "text": [
      "Total Rows: 24319\n",
      "Train rows: 21887\n"
     ]
    },
    {
     "name": "stderr",
     "output_type": "stream",
     "text": [
      "| |   #                                           | 24318 Elapsed Time: 0:00:00\n",
      "- | #                                              | 6437 Elapsed Time: 0:00:00"
     ]
    },
    {
     "name": "stdout",
     "output_type": "stream",
     "text": [
      "Total Rows: 24002\n",
      "Train rows: 21601\n"
     ]
    },
    {
     "name": "stderr",
     "output_type": "stream",
     "text": [
      "| |   #                                           | 24001 Elapsed Time: 0:00:00\n",
      "- | #                                              | 6540 Elapsed Time: 0:00:00"
     ]
    },
    {
     "name": "stdout",
     "output_type": "stream",
     "text": [
      "Total Rows: 24265\n",
      "Train rows: 21838\n"
     ]
    },
    {
     "name": "stderr",
     "output_type": "stream",
     "text": [
      "| |   #                                           | 24264 Elapsed Time: 0:00:00\n",
      "- | #                                              | 6496 Elapsed Time: 0:00:00"
     ]
    },
    {
     "name": "stdout",
     "output_type": "stream",
     "text": [
      "Total Rows: 23996\n",
      "Train rows: 21596\n"
     ]
    },
    {
     "name": "stderr",
     "output_type": "stream",
     "text": [
      "| |   #                                           | 23995 Elapsed Time: 0:00:00\n",
      "- | #                                              | 6550 Elapsed Time: 0:00:00"
     ]
    },
    {
     "name": "stdout",
     "output_type": "stream",
     "text": [
      "Total Rows: 13573\n",
      "Train rows: 12215\n"
     ]
    },
    {
     "name": "stderr",
     "output_type": "stream",
     "text": [
      "| |  #                                            | 13572 Elapsed Time: 0:00:00\n",
      "- | #                                              | 6548 Elapsed Time: 0:00:00"
     ]
    },
    {
     "name": "stdout",
     "output_type": "stream",
     "text": [
      "Total Rows: 13730\n",
      "Train rows: 12357\n"
     ]
    },
    {
     "name": "stderr",
     "output_type": "stream",
     "text": [
      "| |  #                                            | 13729 Elapsed Time: 0:00:00\n",
      "- | #                                              | 6519 Elapsed Time: 0:00:00"
     ]
    },
    {
     "name": "stdout",
     "output_type": "stream",
     "text": [
      "Total Rows: 13583\n",
      "Train rows: 12224\n"
     ]
    },
    {
     "name": "stderr",
     "output_type": "stream",
     "text": [
      "| |  #                                            | 13582 Elapsed Time: 0:00:00\n",
      "/ |#                                                  | 0 Elapsed Time: 0:00:00"
     ]
    },
    {
     "name": "stdout",
     "output_type": "stream",
     "text": [
      "Fold 11 done!\n",
      "[1, 2, 3, 4, 5, 6, 7, 8, 9, 10, 11, 12, 13, 14, 15, 16, 17, 18, 19, 20, 21, 22, 23, 24, 25, 26]\n",
      "[1, 2, 3, 5, 6, 7, 8, 9, 10, 11, 12, 13, 14, 15, 16, 17, 18, 19, 20, 21, 22, 23, 26]\n",
      "subjects_per_fold  1\n",
      "Fold: 12\n",
      "Train: [1, 2, 3, 5, 6, 7, 8, 9, 10, 11, 12, 14, 15, 16, 17, 18, 19, 20, 21, 22, 23, 26]\n",
      "Test: [13]\n",
      "Total Rows: 24002\n",
      "Train rows: 21601\n"
     ]
    },
    {
     "name": "stderr",
     "output_type": "stream",
     "text": [
      "| |   #                                           | 24001 Elapsed Time: 0:00:00\n",
      "- | #                                              | 6425 Elapsed Time: 0:00:00"
     ]
    },
    {
     "name": "stdout",
     "output_type": "stream",
     "text": [
      "Total Rows: 24265\n",
      "Train rows: 21838\n"
     ]
    },
    {
     "name": "stderr",
     "output_type": "stream",
     "text": [
      "| |   #                                           | 24264 Elapsed Time: 0:00:00\n",
      "- | #                                              | 6461 Elapsed Time: 0:00:00"
     ]
    },
    {
     "name": "stdout",
     "output_type": "stream",
     "text": [
      "Total Rows: 23996\n",
      "Train rows: 21596\n"
     ]
    },
    {
     "name": "stderr",
     "output_type": "stream",
     "text": [
      "| |   #                                           | 23995 Elapsed Time: 0:00:00\n",
      "- | #                                              | 6024 Elapsed Time: 0:00:00"
     ]
    },
    {
     "name": "stdout",
     "output_type": "stream",
     "text": [
      "Total Rows: 24131\n",
      "Train rows: 21717\n"
     ]
    },
    {
     "name": "stderr",
     "output_type": "stream",
     "text": [
      "| |    #                                          | 24130 Elapsed Time: 0:00:00\n",
      "- | #                                              | 6427 Elapsed Time: 0:00:00"
     ]
    },
    {
     "name": "stdout",
     "output_type": "stream",
     "text": [
      "Total Rows: 24117\n",
      "Train rows: 21705\n"
     ]
    },
    {
     "name": "stderr",
     "output_type": "stream",
     "text": [
      "| |   #                                           | 24116 Elapsed Time: 0:00:00\n",
      "- | #                                              | 6502 Elapsed Time: 0:00:00"
     ]
    },
    {
     "name": "stdout",
     "output_type": "stream",
     "text": [
      "Total Rows: 24198\n",
      "Train rows: 21778\n"
     ]
    },
    {
     "name": "stderr",
     "output_type": "stream",
     "text": [
      "| |   #                                           | 24197 Elapsed Time: 0:00:00\n",
      "- | #                                              | 6554 Elapsed Time: 0:00:00"
     ]
    },
    {
     "name": "stdout",
     "output_type": "stream",
     "text": [
      "Total Rows: 23989\n",
      "Train rows: 21590\n"
     ]
    },
    {
     "name": "stderr",
     "output_type": "stream",
     "text": [
      "| |   #                                           | 23988 Elapsed Time: 0:00:00\n",
      "- | #                                              | 6607 Elapsed Time: 0:00:00"
     ]
    },
    {
     "name": "stdout",
     "output_type": "stream",
     "text": [
      "Total Rows: 24108\n",
      "Train rows: 21697\n"
     ]
    },
    {
     "name": "stderr",
     "output_type": "stream",
     "text": [
      "| |   #                                           | 24107 Elapsed Time: 0:00:00\n",
      "- | #                                              | 6655 Elapsed Time: 0:00:00"
     ]
    },
    {
     "name": "stdout",
     "output_type": "stream",
     "text": [
      "Total Rows: 24046\n",
      "Train rows: 21641\n"
     ]
    },
    {
     "name": "stderr",
     "output_type": "stream",
     "text": [
      "| |   #                                           | 24045 Elapsed Time: 0:00:00\n",
      "- | #                                              | 6536 Elapsed Time: 0:00:00"
     ]
    },
    {
     "name": "stdout",
     "output_type": "stream",
     "text": [
      "Total Rows: 24035\n",
      "Train rows: 21631\n"
     ]
    },
    {
     "name": "stderr",
     "output_type": "stream",
     "text": [
      "| |   #                                           | 24034 Elapsed Time: 0:00:00\n",
      "- | #                                              | 6434 Elapsed Time: 0:00:00"
     ]
    },
    {
     "name": "stdout",
     "output_type": "stream",
     "text": [
      "Total Rows: 23998\n",
      "Train rows: 21598\n"
     ]
    },
    {
     "name": "stderr",
     "output_type": "stream",
     "text": [
      "| |   #                                           | 23997 Elapsed Time: 0:00:00\n",
      "- | #                                              | 6623 Elapsed Time: 0:00:00"
     ]
    },
    {
     "name": "stdout",
     "output_type": "stream",
     "text": [
      "Total Rows: 24078\n",
      "Train rows: 21670\n"
     ]
    },
    {
     "name": "stderr",
     "output_type": "stream",
     "text": [
      "| |   #                                           | 24077 Elapsed Time: 0:00:00\n",
      "- | #                                              | 6546 Elapsed Time: 0:00:00"
     ]
    },
    {
     "name": "stdout",
     "output_type": "stream",
     "text": [
      "Total Rows: 24005\n",
      "Train rows: 21604\n"
     ]
    },
    {
     "name": "stderr",
     "output_type": "stream",
     "text": [
      "| |   #                                           | 24004 Elapsed Time: 0:00:00\n",
      "- | #                                              | 6502 Elapsed Time: 0:00:00"
     ]
    },
    {
     "name": "stdout",
     "output_type": "stream",
     "text": [
      "Total Rows: 24010\n",
      "Train rows: 21609\n"
     ]
    },
    {
     "name": "stderr",
     "output_type": "stream",
     "text": [
      "| |   #                                           | 24009 Elapsed Time: 0:00:00\n",
      "- | #                                              | 6593 Elapsed Time: 0:00:00"
     ]
    },
    {
     "name": "stdout",
     "output_type": "stream",
     "text": [
      "Total Rows: 24042\n",
      "Train rows: 21637\n"
     ]
    },
    {
     "name": "stderr",
     "output_type": "stream",
     "text": [
      "| |   #                                           | 24041 Elapsed Time: 0:00:00\n",
      "- | #                                              | 6594 Elapsed Time: 0:00:00"
     ]
    },
    {
     "name": "stdout",
     "output_type": "stream",
     "text": [
      "Total Rows: 24319\n",
      "Train rows: 21887\n"
     ]
    },
    {
     "name": "stderr",
     "output_type": "stream",
     "text": [
      "| |   #                                           | 24318 Elapsed Time: 0:00:00\n",
      "- | #                                              | 6367 Elapsed Time: 0:00:00"
     ]
    },
    {
     "name": "stdout",
     "output_type": "stream",
     "text": [
      "Total Rows: 24002\n",
      "Train rows: 21601\n"
     ]
    },
    {
     "name": "stderr",
     "output_type": "stream",
     "text": [
      "| |   #                                           | 24001 Elapsed Time: 0:00:00\n",
      "- | #                                              | 6243 Elapsed Time: 0:00:00"
     ]
    },
    {
     "name": "stdout",
     "output_type": "stream",
     "text": [
      "Total Rows: 24265\n",
      "Train rows: 21838\n"
     ]
    },
    {
     "name": "stderr",
     "output_type": "stream",
     "text": [
      "| |   #                                           | 24264 Elapsed Time: 0:00:00\n",
      "- | #                                              | 6427 Elapsed Time: 0:00:00"
     ]
    },
    {
     "name": "stdout",
     "output_type": "stream",
     "text": [
      "Total Rows: 23996\n",
      "Train rows: 21596\n"
     ]
    },
    {
     "name": "stderr",
     "output_type": "stream",
     "text": [
      "| |   #                                           | 23995 Elapsed Time: 0:00:00\n",
      "- | #                                              | 6141 Elapsed Time: 0:00:00"
     ]
    },
    {
     "name": "stdout",
     "output_type": "stream",
     "text": [
      "Total Rows: 13573\n",
      "Train rows: 12215\n"
     ]
    },
    {
     "name": "stderr",
     "output_type": "stream",
     "text": [
      "| |  #                                            | 13572 Elapsed Time: 0:00:00\n",
      "- | #                                              | 6451 Elapsed Time: 0:00:00"
     ]
    },
    {
     "name": "stdout",
     "output_type": "stream",
     "text": [
      "Total Rows: 13730\n",
      "Train rows: 12357\n"
     ]
    },
    {
     "name": "stderr",
     "output_type": "stream",
     "text": [
      "| |  #                                            | 13729 Elapsed Time: 0:00:00\n",
      "- | #                                              | 6252 Elapsed Time: 0:00:00"
     ]
    },
    {
     "name": "stdout",
     "output_type": "stream",
     "text": [
      "Total Rows: 13583\n",
      "Train rows: 12224\n"
     ]
    },
    {
     "name": "stderr",
     "output_type": "stream",
     "text": [
      "| |  #                                            | 13582 Elapsed Time: 0:00:00\n",
      "/ |#                                                  | 0 Elapsed Time: 0:00:00"
     ]
    },
    {
     "name": "stdout",
     "output_type": "stream",
     "text": [
      "Fold 12 done!\n",
      "[1, 2, 3, 4, 5, 6, 7, 8, 9, 10, 11, 12, 13, 14, 15, 16, 17, 18, 19, 20, 21, 22, 23, 24, 25, 26]\n",
      "[1, 2, 3, 5, 6, 7, 8, 9, 10, 11, 12, 13, 14, 15, 16, 17, 18, 19, 20, 21, 22, 23, 26]\n",
      "subjects_per_fold  1\n",
      "Fold: 13\n",
      "Train: [1, 2, 3, 5, 6, 7, 8, 9, 10, 11, 12, 13, 15, 16, 17, 18, 19, 20, 21, 22, 23, 26]\n",
      "Test: [14]\n",
      "Total Rows: 24002\n",
      "Train rows: 21601\n"
     ]
    },
    {
     "name": "stderr",
     "output_type": "stream",
     "text": [
      "| |   #                                           | 24001 Elapsed Time: 0:00:00\n",
      "- | #                                              | 6219 Elapsed Time: 0:00:00"
     ]
    },
    {
     "name": "stdout",
     "output_type": "stream",
     "text": [
      "Total Rows: 24265\n",
      "Train rows: 21838\n"
     ]
    },
    {
     "name": "stderr",
     "output_type": "stream",
     "text": [
      "| |   #                                           | 24264 Elapsed Time: 0:00:00\n",
      "- | #                                              | 6376 Elapsed Time: 0:00:00"
     ]
    },
    {
     "name": "stdout",
     "output_type": "stream",
     "text": [
      "Total Rows: 23996\n",
      "Train rows: 21596\n"
     ]
    },
    {
     "name": "stderr",
     "output_type": "stream",
     "text": [
      "| |   #                                           | 23995 Elapsed Time: 0:00:00\n",
      "- | #                                              | 6549 Elapsed Time: 0:00:00"
     ]
    },
    {
     "name": "stdout",
     "output_type": "stream",
     "text": [
      "Total Rows: 24131\n",
      "Train rows: 21717\n"
     ]
    },
    {
     "name": "stderr",
     "output_type": "stream",
     "text": [
      "| |   #                                           | 24130 Elapsed Time: 0:00:00\n",
      "- | #                                              | 6188 Elapsed Time: 0:00:00"
     ]
    },
    {
     "name": "stdout",
     "output_type": "stream",
     "text": [
      "Total Rows: 24117\n",
      "Train rows: 21705\n"
     ]
    },
    {
     "name": "stderr",
     "output_type": "stream",
     "text": [
      "| |   #                                           | 24116 Elapsed Time: 0:00:00\n",
      "- | #                                              | 6529 Elapsed Time: 0:00:00"
     ]
    },
    {
     "name": "stdout",
     "output_type": "stream",
     "text": [
      "Total Rows: 24198\n",
      "Train rows: 21778\n"
     ]
    },
    {
     "name": "stderr",
     "output_type": "stream",
     "text": [
      "| |   #                                           | 24197 Elapsed Time: 0:00:00\n",
      "- | #                                              | 6455 Elapsed Time: 0:00:00"
     ]
    },
    {
     "name": "stdout",
     "output_type": "stream",
     "text": [
      "Total Rows: 23989\n",
      "Train rows: 21590\n"
     ]
    },
    {
     "name": "stderr",
     "output_type": "stream",
     "text": [
      "| |   #                                           | 23988 Elapsed Time: 0:00:00\n",
      "- | #                                              | 6384 Elapsed Time: 0:00:00"
     ]
    },
    {
     "name": "stdout",
     "output_type": "stream",
     "text": [
      "Total Rows: 24108\n",
      "Train rows: 21697\n"
     ]
    },
    {
     "name": "stderr",
     "output_type": "stream",
     "text": [
      "| |   #                                           | 24107 Elapsed Time: 0:00:00\n",
      "- | #                                              | 6299 Elapsed Time: 0:00:00"
     ]
    },
    {
     "name": "stdout",
     "output_type": "stream",
     "text": [
      "Total Rows: 24046\n",
      "Train rows: 21641\n"
     ]
    },
    {
     "name": "stderr",
     "output_type": "stream",
     "text": [
      "| |   #                                           | 24045 Elapsed Time: 0:00:00\n",
      "- | #                                              | 5636 Elapsed Time: 0:00:00"
     ]
    },
    {
     "name": "stdout",
     "output_type": "stream",
     "text": [
      "Total Rows: 24035\n",
      "Train rows: 21631\n"
     ]
    },
    {
     "name": "stderr",
     "output_type": "stream",
     "text": [
      "| |    #                                          | 24034 Elapsed Time: 0:00:00\n",
      "- | #                                              | 6183 Elapsed Time: 0:00:00"
     ]
    },
    {
     "name": "stdout",
     "output_type": "stream",
     "text": [
      "Total Rows: 23998\n",
      "Train rows: 21598\n"
     ]
    },
    {
     "name": "stderr",
     "output_type": "stream",
     "text": [
      "| |   #                                           | 23997 Elapsed Time: 0:00:00\n",
      "- | #                                              | 6605 Elapsed Time: 0:00:00"
     ]
    },
    {
     "name": "stdout",
     "output_type": "stream",
     "text": [
      "Total Rows: 24218\n",
      "Train rows: 21796\n"
     ]
    },
    {
     "name": "stderr",
     "output_type": "stream",
     "text": [
      "| |   #                                           | 24217 Elapsed Time: 0:00:00\n",
      "- | #                                              | 6598 Elapsed Time: 0:00:00"
     ]
    },
    {
     "name": "stdout",
     "output_type": "stream",
     "text": [
      "Total Rows: 24005\n",
      "Train rows: 21604\n"
     ]
    },
    {
     "name": "stderr",
     "output_type": "stream",
     "text": [
      "| |   #                                           | 24004 Elapsed Time: 0:00:00\n",
      "- | #                                              | 6399 Elapsed Time: 0:00:00"
     ]
    },
    {
     "name": "stdout",
     "output_type": "stream",
     "text": [
      "Total Rows: 24010\n",
      "Train rows: 21609\n"
     ]
    },
    {
     "name": "stderr",
     "output_type": "stream",
     "text": [
      "| |   #                                           | 24009 Elapsed Time: 0:00:00\n",
      "- | #                                              | 6604 Elapsed Time: 0:00:00"
     ]
    },
    {
     "name": "stdout",
     "output_type": "stream",
     "text": [
      "Total Rows: 24042\n",
      "Train rows: 21637\n"
     ]
    },
    {
     "name": "stderr",
     "output_type": "stream",
     "text": [
      "| |   #                                           | 24041 Elapsed Time: 0:00:00\n",
      "- | #                                              | 6509 Elapsed Time: 0:00:00"
     ]
    },
    {
     "name": "stdout",
     "output_type": "stream",
     "text": [
      "Total Rows: 24319\n",
      "Train rows: 21887\n"
     ]
    },
    {
     "name": "stderr",
     "output_type": "stream",
     "text": [
      "| |   #                                           | 24318 Elapsed Time: 0:00:00\n",
      "- | #                                              | 6585 Elapsed Time: 0:00:00"
     ]
    },
    {
     "name": "stdout",
     "output_type": "stream",
     "text": [
      "Total Rows: 24002\n",
      "Train rows: 21601\n"
     ]
    },
    {
     "name": "stderr",
     "output_type": "stream",
     "text": [
      "| |   #                                           | 24001 Elapsed Time: 0:00:00\n",
      "- | #                                              | 6449 Elapsed Time: 0:00:00"
     ]
    },
    {
     "name": "stdout",
     "output_type": "stream",
     "text": [
      "Total Rows: 24265\n",
      "Train rows: 21838\n"
     ]
    },
    {
     "name": "stderr",
     "output_type": "stream",
     "text": [
      "| |   #                                           | 24264 Elapsed Time: 0:00:00\n",
      "- | #                                              | 6573 Elapsed Time: 0:00:00"
     ]
    },
    {
     "name": "stdout",
     "output_type": "stream",
     "text": [
      "Total Rows: 23996\n",
      "Train rows: 21596\n"
     ]
    },
    {
     "name": "stderr",
     "output_type": "stream",
     "text": [
      "| |   #                                           | 23995 Elapsed Time: 0:00:00\n",
      "- | #                                              | 6471 Elapsed Time: 0:00:00"
     ]
    },
    {
     "name": "stdout",
     "output_type": "stream",
     "text": [
      "Total Rows: 13573\n",
      "Train rows: 12215\n"
     ]
    },
    {
     "name": "stderr",
     "output_type": "stream",
     "text": [
      "| |  #                                            | 13572 Elapsed Time: 0:00:00\n",
      "- | #                                              | 6618 Elapsed Time: 0:00:00"
     ]
    },
    {
     "name": "stdout",
     "output_type": "stream",
     "text": [
      "Total Rows: 13730\n",
      "Train rows: 12357\n"
     ]
    },
    {
     "name": "stderr",
     "output_type": "stream",
     "text": [
      "| |  #                                            | 13729 Elapsed Time: 0:00:00\n",
      "- | #                                              | 6419 Elapsed Time: 0:00:00"
     ]
    },
    {
     "name": "stdout",
     "output_type": "stream",
     "text": [
      "Total Rows: 13583\n",
      "Train rows: 12224\n"
     ]
    },
    {
     "name": "stderr",
     "output_type": "stream",
     "text": [
      "| |  #                                            | 13582 Elapsed Time: 0:00:00\n",
      "/ |#                                                  | 0 Elapsed Time: 0:00:00"
     ]
    },
    {
     "name": "stdout",
     "output_type": "stream",
     "text": [
      "Fold 13 done!\n",
      "[1, 2, 3, 4, 5, 6, 7, 8, 9, 10, 11, 12, 13, 14, 15, 16, 17, 18, 19, 20, 21, 22, 23, 24, 25, 26]\n",
      "[1, 2, 3, 5, 6, 7, 8, 9, 10, 11, 12, 13, 14, 15, 16, 17, 18, 19, 20, 21, 22, 23, 26]\n",
      "subjects_per_fold  1\n",
      "Fold: 14\n",
      "Train: [1, 2, 3, 5, 6, 7, 8, 9, 10, 11, 12, 13, 14, 16, 17, 18, 19, 20, 21, 22, 23, 26]\n",
      "Test: [15]\n",
      "Total Rows: 24002\n",
      "Train rows: 21601\n"
     ]
    },
    {
     "name": "stderr",
     "output_type": "stream",
     "text": [
      "| |   #                                           | 24001 Elapsed Time: 0:00:00\n",
      "- | #                                              | 6393 Elapsed Time: 0:00:00"
     ]
    },
    {
     "name": "stdout",
     "output_type": "stream",
     "text": [
      "Total Rows: 24265\n",
      "Train rows: 21838\n"
     ]
    },
    {
     "name": "stderr",
     "output_type": "stream",
     "text": [
      "| |   #                                           | 24264 Elapsed Time: 0:00:00\n",
      "- | #                                              | 6593 Elapsed Time: 0:00:00"
     ]
    },
    {
     "name": "stdout",
     "output_type": "stream",
     "text": [
      "Total Rows: 23996\n",
      "Train rows: 21596\n"
     ]
    },
    {
     "name": "stderr",
     "output_type": "stream",
     "text": [
      "| |   #                                           | 23995 Elapsed Time: 0:00:00\n",
      "- | #                                              | 6376 Elapsed Time: 0:00:00"
     ]
    },
    {
     "name": "stdout",
     "output_type": "stream",
     "text": [
      "Total Rows: 24131\n",
      "Train rows: 21717\n"
     ]
    },
    {
     "name": "stderr",
     "output_type": "stream",
     "text": [
      "| |   #                                           | 24130 Elapsed Time: 0:00:00\n",
      "- | #                                              | 6521 Elapsed Time: 0:00:00"
     ]
    },
    {
     "name": "stdout",
     "output_type": "stream",
     "text": [
      "Total Rows: 24117\n",
      "Train rows: 21705\n"
     ]
    },
    {
     "name": "stderr",
     "output_type": "stream",
     "text": [
      "| |   #                                           | 24116 Elapsed Time: 0:00:00\n",
      "- | #                                              | 6422 Elapsed Time: 0:00:00"
     ]
    },
    {
     "name": "stdout",
     "output_type": "stream",
     "text": [
      "Total Rows: 24198\n",
      "Train rows: 21778\n"
     ]
    },
    {
     "name": "stderr",
     "output_type": "stream",
     "text": [
      "| |   #                                           | 24197 Elapsed Time: 0:00:00\n",
      "- | #                                              | 6421 Elapsed Time: 0:00:00"
     ]
    },
    {
     "name": "stdout",
     "output_type": "stream",
     "text": [
      "Total Rows: 23989\n",
      "Train rows: 21590\n"
     ]
    },
    {
     "name": "stderr",
     "output_type": "stream",
     "text": [
      "| |   #                                           | 23988 Elapsed Time: 0:00:00\n",
      "- | #                                              | 6436 Elapsed Time: 0:00:00"
     ]
    },
    {
     "name": "stdout",
     "output_type": "stream",
     "text": [
      "Total Rows: 24108\n",
      "Train rows: 21697\n"
     ]
    },
    {
     "name": "stderr",
     "output_type": "stream",
     "text": [
      "| |   #                                           | 24107 Elapsed Time: 0:00:00\n",
      "- | #                                              | 6642 Elapsed Time: 0:00:00"
     ]
    },
    {
     "name": "stdout",
     "output_type": "stream",
     "text": [
      "Total Rows: 24046\n",
      "Train rows: 21641\n"
     ]
    },
    {
     "name": "stderr",
     "output_type": "stream",
     "text": [
      "| |   #                                           | 24045 Elapsed Time: 0:00:00\n",
      "- | #                                              | 5839 Elapsed Time: 0:00:00"
     ]
    },
    {
     "name": "stdout",
     "output_type": "stream",
     "text": [
      "Total Rows: 24035\n",
      "Train rows: 21631\n"
     ]
    },
    {
     "name": "stderr",
     "output_type": "stream",
     "text": [
      "| |   #                                           | 24034 Elapsed Time: 0:00:00\n",
      "- | #                                              | 6555 Elapsed Time: 0:00:00"
     ]
    },
    {
     "name": "stdout",
     "output_type": "stream",
     "text": [
      "Total Rows: 23998\n",
      "Train rows: 21598\n"
     ]
    },
    {
     "name": "stderr",
     "output_type": "stream",
     "text": [
      "| |   #                                           | 23997 Elapsed Time: 0:00:00\n",
      "- | #                                              | 6536 Elapsed Time: 0:00:00"
     ]
    },
    {
     "name": "stdout",
     "output_type": "stream",
     "text": [
      "Total Rows: 24218\n",
      "Train rows: 21796\n"
     ]
    },
    {
     "name": "stderr",
     "output_type": "stream",
     "text": [
      "| |   #                                           | 24217 Elapsed Time: 0:00:00\n",
      "- | #                                              | 6379 Elapsed Time: 0:00:00"
     ]
    },
    {
     "name": "stdout",
     "output_type": "stream",
     "text": [
      "Total Rows: 24078\n",
      "Train rows: 21670\n"
     ]
    },
    {
     "name": "stderr",
     "output_type": "stream",
     "text": [
      "| |   #                                           | 24077 Elapsed Time: 0:00:00\n",
      "- | #                                              | 6496 Elapsed Time: 0:00:00"
     ]
    },
    {
     "name": "stdout",
     "output_type": "stream",
     "text": [
      "Total Rows: 24010\n",
      "Train rows: 21609\n"
     ]
    },
    {
     "name": "stderr",
     "output_type": "stream",
     "text": [
      "| |   #                                           | 24009 Elapsed Time: 0:00:00\n",
      "- | #                                              | 6129 Elapsed Time: 0:00:00"
     ]
    },
    {
     "name": "stdout",
     "output_type": "stream",
     "text": [
      "Total Rows: 24042\n",
      "Train rows: 21637\n"
     ]
    },
    {
     "name": "stderr",
     "output_type": "stream",
     "text": [
      "| |   #                                           | 24041 Elapsed Time: 0:00:00\n",
      "- | #                                              | 5632 Elapsed Time: 0:00:00"
     ]
    },
    {
     "name": "stdout",
     "output_type": "stream",
     "text": [
      "Total Rows: 24319\n",
      "Train rows: 21887\n"
     ]
    },
    {
     "name": "stderr",
     "output_type": "stream",
     "text": [
      "| |    #                                          | 24318 Elapsed Time: 0:00:00\n",
      "- | #                                              | 6503 Elapsed Time: 0:00:00"
     ]
    },
    {
     "name": "stdout",
     "output_type": "stream",
     "text": [
      "Total Rows: 24002\n",
      "Train rows: 21601\n"
     ]
    },
    {
     "name": "stderr",
     "output_type": "stream",
     "text": [
      "| |   #                                           | 24001 Elapsed Time: 0:00:00\n",
      "- | #                                              | 5755 Elapsed Time: 0:00:00"
     ]
    },
    {
     "name": "stdout",
     "output_type": "stream",
     "text": [
      "Total Rows: 24265\n",
      "Train rows: 21838\n"
     ]
    },
    {
     "name": "stderr",
     "output_type": "stream",
     "text": [
      "| |    #                                          | 24264 Elapsed Time: 0:00:00\n",
      "- | #                                              | 6071 Elapsed Time: 0:00:00"
     ]
    },
    {
     "name": "stdout",
     "output_type": "stream",
     "text": [
      "Total Rows: 23996\n",
      "Train rows: 21596\n"
     ]
    },
    {
     "name": "stderr",
     "output_type": "stream",
     "text": [
      "| |   #                                           | 23995 Elapsed Time: 0:00:00\n",
      "- | #                                              | 6504 Elapsed Time: 0:00:00"
     ]
    },
    {
     "name": "stdout",
     "output_type": "stream",
     "text": [
      "Total Rows: 13573\n",
      "Train rows: 12215\n"
     ]
    },
    {
     "name": "stderr",
     "output_type": "stream",
     "text": [
      "| |  #                                            | 13572 Elapsed Time: 0:00:00\n",
      "- | #                                              | 6511 Elapsed Time: 0:00:00"
     ]
    },
    {
     "name": "stdout",
     "output_type": "stream",
     "text": [
      "Total Rows: 13730\n",
      "Train rows: 12357\n"
     ]
    },
    {
     "name": "stderr",
     "output_type": "stream",
     "text": [
      "| |  #                                            | 13729 Elapsed Time: 0:00:00\n",
      "- | #                                              | 6564 Elapsed Time: 0:00:00"
     ]
    },
    {
     "name": "stdout",
     "output_type": "stream",
     "text": [
      "Total Rows: 13583\n",
      "Train rows: 12224\n"
     ]
    },
    {
     "name": "stderr",
     "output_type": "stream",
     "text": [
      "| |  #                                            | 13582 Elapsed Time: 0:00:00\n",
      "/ |#                                                  | 0 Elapsed Time: 0:00:00"
     ]
    },
    {
     "name": "stdout",
     "output_type": "stream",
     "text": [
      "Fold 14 done!\n",
      "[1, 2, 3, 4, 5, 6, 7, 8, 9, 10, 11, 12, 13, 14, 15, 16, 17, 18, 19, 20, 21, 22, 23, 24, 25, 26]\n",
      "[1, 2, 3, 5, 6, 7, 8, 9, 10, 11, 12, 13, 14, 15, 16, 17, 18, 19, 20, 21, 22, 23, 26]\n",
      "subjects_per_fold  1\n",
      "Fold: 15\n",
      "Train: [1, 2, 3, 5, 6, 7, 8, 9, 10, 11, 12, 13, 14, 15, 17, 18, 19, 20, 21, 22, 23, 26]\n",
      "Test: [16]\n",
      "Total Rows: 24002\n",
      "Train rows: 21601\n"
     ]
    },
    {
     "name": "stderr",
     "output_type": "stream",
     "text": [
      "| |   #                                           | 24001 Elapsed Time: 0:00:00\n",
      "- | #                                              | 5769 Elapsed Time: 0:00:00"
     ]
    },
    {
     "name": "stdout",
     "output_type": "stream",
     "text": [
      "Total Rows: 24265\n",
      "Train rows: 21838\n"
     ]
    },
    {
     "name": "stderr",
     "output_type": "stream",
     "text": [
      "| |    #                                          | 24264 Elapsed Time: 0:00:00\n",
      "- | #                                              | 5863 Elapsed Time: 0:00:00"
     ]
    },
    {
     "name": "stdout",
     "output_type": "stream",
     "text": [
      "Total Rows: 23996\n",
      "Train rows: 21596\n"
     ]
    },
    {
     "name": "stderr",
     "output_type": "stream",
     "text": [
      "| |   #                                           | 23995 Elapsed Time: 0:00:00\n",
      "- | #                                              | 6452 Elapsed Time: 0:00:00"
     ]
    },
    {
     "name": "stdout",
     "output_type": "stream",
     "text": [
      "Total Rows: 24131\n",
      "Train rows: 21717\n"
     ]
    },
    {
     "name": "stderr",
     "output_type": "stream",
     "text": [
      "| |   #                                           | 24130 Elapsed Time: 0:00:00\n",
      "- | #                                              | 6524 Elapsed Time: 0:00:00"
     ]
    },
    {
     "name": "stdout",
     "output_type": "stream",
     "text": [
      "Total Rows: 24117\n",
      "Train rows: 21705\n"
     ]
    },
    {
     "name": "stderr",
     "output_type": "stream",
     "text": [
      "| |   #                                           | 24116 Elapsed Time: 0:00:00\n",
      "- | #                                              | 6121 Elapsed Time: 0:00:00"
     ]
    },
    {
     "name": "stdout",
     "output_type": "stream",
     "text": [
      "Total Rows: 24198\n",
      "Train rows: 21778\n"
     ]
    },
    {
     "name": "stderr",
     "output_type": "stream",
     "text": [
      "| |   #                                           | 24197 Elapsed Time: 0:00:00\n",
      "- | #                                              | 6489 Elapsed Time: 0:00:00"
     ]
    },
    {
     "name": "stdout",
     "output_type": "stream",
     "text": [
      "Total Rows: 23989\n",
      "Train rows: 21590\n"
     ]
    },
    {
     "name": "stderr",
     "output_type": "stream",
     "text": [
      "| |   #                                           | 23988 Elapsed Time: 0:00:00\n",
      "- | #                                              | 6266 Elapsed Time: 0:00:00"
     ]
    },
    {
     "name": "stdout",
     "output_type": "stream",
     "text": [
      "Total Rows: 24108\n",
      "Train rows: 21697\n"
     ]
    },
    {
     "name": "stderr",
     "output_type": "stream",
     "text": [
      "| |   #                                           | 24107 Elapsed Time: 0:00:00\n",
      "- | #                                              | 6518 Elapsed Time: 0:00:00"
     ]
    },
    {
     "name": "stdout",
     "output_type": "stream",
     "text": [
      "Total Rows: 24046\n",
      "Train rows: 21641\n"
     ]
    },
    {
     "name": "stderr",
     "output_type": "stream",
     "text": [
      "| |   #                                           | 24045 Elapsed Time: 0:00:00\n",
      "- | #                                              | 6495 Elapsed Time: 0:00:00"
     ]
    },
    {
     "name": "stdout",
     "output_type": "stream",
     "text": [
      "Total Rows: 24035\n",
      "Train rows: 21631\n"
     ]
    },
    {
     "name": "stderr",
     "output_type": "stream",
     "text": [
      "| |   #                                           | 24034 Elapsed Time: 0:00:00\n",
      "- | #                                              | 6573 Elapsed Time: 0:00:00"
     ]
    },
    {
     "name": "stdout",
     "output_type": "stream",
     "text": [
      "Total Rows: 23998\n",
      "Train rows: 21598\n"
     ]
    },
    {
     "name": "stderr",
     "output_type": "stream",
     "text": [
      "| |   #                                           | 23997 Elapsed Time: 0:00:00\n",
      "- | #                                              | 6104 Elapsed Time: 0:00:00"
     ]
    },
    {
     "name": "stdout",
     "output_type": "stream",
     "text": [
      "Total Rows: 24218\n",
      "Train rows: 21796\n"
     ]
    },
    {
     "name": "stderr",
     "output_type": "stream",
     "text": [
      "| |   #                                           | 24217 Elapsed Time: 0:00:00\n",
      "- | #                                              | 6302 Elapsed Time: 0:00:00"
     ]
    },
    {
     "name": "stdout",
     "output_type": "stream",
     "text": [
      "Total Rows: 24078\n",
      "Train rows: 21670\n"
     ]
    },
    {
     "name": "stderr",
     "output_type": "stream",
     "text": [
      "| |   #                                           | 24077 Elapsed Time: 0:00:00\n",
      "- | #                                              | 6214 Elapsed Time: 0:00:00"
     ]
    },
    {
     "name": "stdout",
     "output_type": "stream",
     "text": [
      "Total Rows: 24005\n",
      "Train rows: 21604\n"
     ]
    },
    {
     "name": "stderr",
     "output_type": "stream",
     "text": [
      "| |   #                                           | 24004 Elapsed Time: 0:00:00\n",
      "- | #                                              | 6167 Elapsed Time: 0:00:00"
     ]
    },
    {
     "name": "stdout",
     "output_type": "stream",
     "text": [
      "Total Rows: 24042\n",
      "Train rows: 21637\n"
     ]
    },
    {
     "name": "stderr",
     "output_type": "stream",
     "text": [
      "| |   #                                           | 24041 Elapsed Time: 0:00:00\n",
      "- | #                                              | 6274 Elapsed Time: 0:00:00"
     ]
    },
    {
     "name": "stdout",
     "output_type": "stream",
     "text": [
      "Total Rows: 24319\n",
      "Train rows: 21887\n"
     ]
    },
    {
     "name": "stderr",
     "output_type": "stream",
     "text": [
      "| |   #                                           | 24318 Elapsed Time: 0:00:00\n",
      "- | #                                              | 6638 Elapsed Time: 0:00:00"
     ]
    },
    {
     "name": "stdout",
     "output_type": "stream",
     "text": [
      "Total Rows: 24002\n",
      "Train rows: 21601\n"
     ]
    },
    {
     "name": "stderr",
     "output_type": "stream",
     "text": [
      "| |   #                                           | 24001 Elapsed Time: 0:00:00\n",
      "- | #                                              | 5973 Elapsed Time: 0:00:00"
     ]
    },
    {
     "name": "stdout",
     "output_type": "stream",
     "text": [
      "Total Rows: 24265\n",
      "Train rows: 21838\n"
     ]
    },
    {
     "name": "stderr",
     "output_type": "stream",
     "text": [
      "| |    #                                          | 24264 Elapsed Time: 0:00:00\n",
      "- | #                                              | 6123 Elapsed Time: 0:00:00"
     ]
    },
    {
     "name": "stdout",
     "output_type": "stream",
     "text": [
      "Total Rows: 23996\n",
      "Train rows: 21596\n"
     ]
    },
    {
     "name": "stderr",
     "output_type": "stream",
     "text": [
      "| |   #                                           | 23995 Elapsed Time: 0:00:00\n",
      "- | #                                              | 6540 Elapsed Time: 0:00:00"
     ]
    },
    {
     "name": "stdout",
     "output_type": "stream",
     "text": [
      "Total Rows: 13573\n",
      "Train rows: 12215\n"
     ]
    },
    {
     "name": "stderr",
     "output_type": "stream",
     "text": [
      "| |  #                                            | 13572 Elapsed Time: 0:00:00\n",
      "- | #                                              | 6420 Elapsed Time: 0:00:00"
     ]
    },
    {
     "name": "stdout",
     "output_type": "stream",
     "text": [
      "Total Rows: 13730\n",
      "Train rows: 12357\n"
     ]
    },
    {
     "name": "stderr",
     "output_type": "stream",
     "text": [
      "| |  #                                            | 13729 Elapsed Time: 0:00:00\n",
      "- | #                                              | 5991 Elapsed Time: 0:00:00"
     ]
    },
    {
     "name": "stdout",
     "output_type": "stream",
     "text": [
      "Total Rows: 13583\n",
      "Train rows: 12224\n"
     ]
    },
    {
     "name": "stderr",
     "output_type": "stream",
     "text": [
      "| |  #                                            | 13582 Elapsed Time: 0:00:00\n",
      "/ |#                                                  | 0 Elapsed Time: 0:00:00"
     ]
    },
    {
     "name": "stdout",
     "output_type": "stream",
     "text": [
      "Fold 15 done!\n",
      "[1, 2, 3, 4, 5, 6, 7, 8, 9, 10, 11, 12, 13, 14, 15, 16, 17, 18, 19, 20, 21, 22, 23, 24, 25, 26]\n",
      "[1, 2, 3, 5, 6, 7, 8, 9, 10, 11, 12, 13, 14, 15, 16, 17, 18, 19, 20, 21, 22, 23, 26]\n",
      "subjects_per_fold  1\n",
      "Fold: 16\n",
      "Train: [1, 2, 3, 5, 6, 7, 8, 9, 10, 11, 12, 13, 14, 15, 16, 18, 19, 20, 21, 22, 23, 26]\n",
      "Test: [17]\n",
      "Total Rows: 24002\n",
      "Train rows: 21601\n"
     ]
    },
    {
     "name": "stderr",
     "output_type": "stream",
     "text": [
      "| |   #                                           | 24001 Elapsed Time: 0:00:00\n",
      "- | #                                              | 5882 Elapsed Time: 0:00:00"
     ]
    },
    {
     "name": "stdout",
     "output_type": "stream",
     "text": [
      "Total Rows: 24265\n",
      "Train rows: 21838\n"
     ]
    },
    {
     "name": "stderr",
     "output_type": "stream",
     "text": [
      "| |    #                                          | 24264 Elapsed Time: 0:00:00\n",
      "- | #                                              | 6233 Elapsed Time: 0:00:00"
     ]
    },
    {
     "name": "stdout",
     "output_type": "stream",
     "text": [
      "Total Rows: 23996\n",
      "Train rows: 21596\n"
     ]
    },
    {
     "name": "stderr",
     "output_type": "stream",
     "text": [
      "| |   #                                           | 23995 Elapsed Time: 0:00:00\n",
      "- | #                                              | 6399 Elapsed Time: 0:00:00"
     ]
    },
    {
     "name": "stdout",
     "output_type": "stream",
     "text": [
      "Total Rows: 24131\n",
      "Train rows: 21717\n"
     ]
    },
    {
     "name": "stderr",
     "output_type": "stream",
     "text": [
      "| |   #                                           | 24130 Elapsed Time: 0:00:00\n",
      "- | #                                              | 6485 Elapsed Time: 0:00:00"
     ]
    },
    {
     "name": "stdout",
     "output_type": "stream",
     "text": [
      "Total Rows: 24117\n",
      "Train rows: 21705\n"
     ]
    },
    {
     "name": "stderr",
     "output_type": "stream",
     "text": [
      "| |   #                                           | 24116 Elapsed Time: 0:00:00\n",
      "- | #                                              | 6574 Elapsed Time: 0:00:00"
     ]
    },
    {
     "name": "stdout",
     "output_type": "stream",
     "text": [
      "Total Rows: 24198\n",
      "Train rows: 21778\n"
     ]
    },
    {
     "name": "stderr",
     "output_type": "stream",
     "text": [
      "| |   #                                           | 24197 Elapsed Time: 0:00:00\n",
      "- | #                                              | 6294 Elapsed Time: 0:00:00"
     ]
    },
    {
     "name": "stdout",
     "output_type": "stream",
     "text": [
      "Total Rows: 23989\n",
      "Train rows: 21590\n"
     ]
    },
    {
     "name": "stderr",
     "output_type": "stream",
     "text": [
      "| |   #                                           | 23988 Elapsed Time: 0:00:00\n",
      "- | #                                              | 6566 Elapsed Time: 0:00:00"
     ]
    },
    {
     "name": "stdout",
     "output_type": "stream",
     "text": [
      "Total Rows: 24108\n",
      "Train rows: 21697\n"
     ]
    },
    {
     "name": "stderr",
     "output_type": "stream",
     "text": [
      "| |   #                                           | 24107 Elapsed Time: 0:00:00\n",
      "- | #                                              | 6080 Elapsed Time: 0:00:00"
     ]
    },
    {
     "name": "stdout",
     "output_type": "stream",
     "text": [
      "Total Rows: 24046\n",
      "Train rows: 21641\n"
     ]
    },
    {
     "name": "stderr",
     "output_type": "stream",
     "text": [
      "| |   #                                           | 24045 Elapsed Time: 0:00:00\n",
      "- | #                                              | 6460 Elapsed Time: 0:00:00"
     ]
    },
    {
     "name": "stdout",
     "output_type": "stream",
     "text": [
      "Total Rows: 24035\n",
      "Train rows: 21631\n"
     ]
    },
    {
     "name": "stderr",
     "output_type": "stream",
     "text": [
      "| |   #                                           | 24034 Elapsed Time: 0:00:00\n",
      "- | #                                              | 6353 Elapsed Time: 0:00:00"
     ]
    },
    {
     "name": "stdout",
     "output_type": "stream",
     "text": [
      "Total Rows: 23998\n",
      "Train rows: 21598\n"
     ]
    },
    {
     "name": "stderr",
     "output_type": "stream",
     "text": [
      "| |   #                                           | 23997 Elapsed Time: 0:00:00\n",
      "- | #                                              | 6160 Elapsed Time: 0:00:00"
     ]
    },
    {
     "name": "stdout",
     "output_type": "stream",
     "text": [
      "Total Rows: 24218\n",
      "Train rows: 21796\n"
     ]
    },
    {
     "name": "stderr",
     "output_type": "stream",
     "text": [
      "| |   #                                           | 24217 Elapsed Time: 0:00:00\n",
      "- | #                                              | 6535 Elapsed Time: 0:00:00"
     ]
    },
    {
     "name": "stdout",
     "output_type": "stream",
     "text": [
      "Total Rows: 24078\n",
      "Train rows: 21670\n"
     ]
    },
    {
     "name": "stderr",
     "output_type": "stream",
     "text": [
      "| |   #                                           | 24077 Elapsed Time: 0:00:00\n",
      "- | #                                              | 6622 Elapsed Time: 0:00:00"
     ]
    },
    {
     "name": "stdout",
     "output_type": "stream",
     "text": [
      "Total Rows: 24005\n",
      "Train rows: 21604\n"
     ]
    },
    {
     "name": "stderr",
     "output_type": "stream",
     "text": [
      "| |   #                                           | 24004 Elapsed Time: 0:00:00\n",
      "- | #                                              | 6495 Elapsed Time: 0:00:00"
     ]
    },
    {
     "name": "stdout",
     "output_type": "stream",
     "text": [
      "Total Rows: 24010\n",
      "Train rows: 21609\n"
     ]
    },
    {
     "name": "stderr",
     "output_type": "stream",
     "text": [
      "| |   #                                           | 24009 Elapsed Time: 0:00:00\n",
      "- | #                                              | 6604 Elapsed Time: 0:00:00"
     ]
    },
    {
     "name": "stdout",
     "output_type": "stream",
     "text": [
      "Total Rows: 24319\n",
      "Train rows: 21887\n"
     ]
    },
    {
     "name": "stderr",
     "output_type": "stream",
     "text": [
      "| |   #                                           | 24318 Elapsed Time: 0:00:00\n",
      "- | #                                              | 6570 Elapsed Time: 0:00:00"
     ]
    },
    {
     "name": "stdout",
     "output_type": "stream",
     "text": [
      "Total Rows: 24002\n",
      "Train rows: 21601\n"
     ]
    },
    {
     "name": "stderr",
     "output_type": "stream",
     "text": [
      "| |   #                                           | 24001 Elapsed Time: 0:00:00\n",
      "- | #                                              | 6593 Elapsed Time: 0:00:00"
     ]
    },
    {
     "name": "stdout",
     "output_type": "stream",
     "text": [
      "Total Rows: 24265\n",
      "Train rows: 21838\n"
     ]
    },
    {
     "name": "stderr",
     "output_type": "stream",
     "text": [
      "| |   #                                           | 24264 Elapsed Time: 0:00:00\n",
      "- | #                                              | 6456 Elapsed Time: 0:00:00"
     ]
    },
    {
     "name": "stdout",
     "output_type": "stream",
     "text": [
      "Total Rows: 23996\n",
      "Train rows: 21596\n"
     ]
    },
    {
     "name": "stderr",
     "output_type": "stream",
     "text": [
      "| |   #                                           | 23995 Elapsed Time: 0:00:00\n",
      "- | #                                              | 6452 Elapsed Time: 0:00:00"
     ]
    },
    {
     "name": "stdout",
     "output_type": "stream",
     "text": [
      "Total Rows: 13573\n",
      "Train rows: 12215\n"
     ]
    },
    {
     "name": "stderr",
     "output_type": "stream",
     "text": [
      "| |  #                                            | 13572 Elapsed Time: 0:00:00\n",
      "- | #                                              | 6590 Elapsed Time: 0:00:00"
     ]
    },
    {
     "name": "stdout",
     "output_type": "stream",
     "text": [
      "Total Rows: 13730\n",
      "Train rows: 12357\n"
     ]
    },
    {
     "name": "stderr",
     "output_type": "stream",
     "text": [
      "| |  #                                            | 13729 Elapsed Time: 0:00:00\n",
      "- | #                                              | 6274 Elapsed Time: 0:00:00"
     ]
    },
    {
     "name": "stdout",
     "output_type": "stream",
     "text": [
      "Total Rows: 13583\n",
      "Train rows: 12224\n"
     ]
    },
    {
     "name": "stderr",
     "output_type": "stream",
     "text": [
      "| |  #                                            | 13582 Elapsed Time: 0:00:00\n",
      "/ |#                                                  | 0 Elapsed Time: 0:00:00"
     ]
    },
    {
     "name": "stdout",
     "output_type": "stream",
     "text": [
      "Fold 16 done!\n",
      "[1, 2, 3, 4, 5, 6, 7, 8, 9, 10, 11, 12, 13, 14, 15, 16, 17, 18, 19, 20, 21, 22, 23, 24, 25, 26]\n",
      "[1, 2, 3, 5, 6, 7, 8, 9, 10, 11, 12, 13, 14, 15, 16, 17, 18, 19, 20, 21, 22, 23, 26]\n",
      "subjects_per_fold  1\n",
      "Fold: 17\n",
      "Train: [1, 2, 3, 5, 6, 7, 8, 9, 10, 11, 12, 13, 14, 15, 16, 17, 19, 20, 21, 22, 23, 26]\n",
      "Test: [18]\n",
      "Total Rows: 24002\n",
      "Train rows: 21601\n"
     ]
    },
    {
     "name": "stderr",
     "output_type": "stream",
     "text": [
      "| |   #                                           | 24001 Elapsed Time: 0:00:00\n",
      "- | #                                              | 5849 Elapsed Time: 0:00:00"
     ]
    },
    {
     "name": "stdout",
     "output_type": "stream",
     "text": [
      "Total Rows: 24265\n",
      "Train rows: 21838\n"
     ]
    },
    {
     "name": "stderr",
     "output_type": "stream",
     "text": [
      "| |    #                                          | 24264 Elapsed Time: 0:00:00\n",
      "- | #                                              | 6013 Elapsed Time: 0:00:00"
     ]
    },
    {
     "name": "stdout",
     "output_type": "stream",
     "text": [
      "Total Rows: 23996\n",
      "Train rows: 21596\n"
     ]
    },
    {
     "name": "stderr",
     "output_type": "stream",
     "text": [
      "| |   #                                           | 23995 Elapsed Time: 0:00:00\n",
      "- | #                                              | 6431 Elapsed Time: 0:00:00"
     ]
    },
    {
     "name": "stdout",
     "output_type": "stream",
     "text": [
      "Total Rows: 24131\n",
      "Train rows: 21717\n"
     ]
    },
    {
     "name": "stderr",
     "output_type": "stream",
     "text": [
      "| |    #                                          | 24130 Elapsed Time: 0:00:00\n",
      "- | #                                              | 6420 Elapsed Time: 0:00:00"
     ]
    },
    {
     "name": "stdout",
     "output_type": "stream",
     "text": [
      "Total Rows: 24117\n",
      "Train rows: 21705\n"
     ]
    },
    {
     "name": "stderr",
     "output_type": "stream",
     "text": [
      "| |   #                                           | 24116 Elapsed Time: 0:00:00\n",
      "- | #                                              | 5978 Elapsed Time: 0:00:00"
     ]
    },
    {
     "name": "stdout",
     "output_type": "stream",
     "text": [
      "Total Rows: 24198\n",
      "Train rows: 21778\n"
     ]
    },
    {
     "name": "stderr",
     "output_type": "stream",
     "text": [
      "| |   #                                           | 24197 Elapsed Time: 0:00:00\n",
      "- | #                                              | 6130 Elapsed Time: 0:00:00"
     ]
    },
    {
     "name": "stdout",
     "output_type": "stream",
     "text": [
      "Total Rows: 23989\n",
      "Train rows: 21590\n"
     ]
    },
    {
     "name": "stderr",
     "output_type": "stream",
     "text": [
      "| |    #                                          | 23988 Elapsed Time: 0:00:00\n",
      "- | #                                              | 6034 Elapsed Time: 0:00:00"
     ]
    },
    {
     "name": "stdout",
     "output_type": "stream",
     "text": [
      "Total Rows: 24108\n",
      "Train rows: 21697\n"
     ]
    },
    {
     "name": "stderr",
     "output_type": "stream",
     "text": [
      "| |   #                                           | 24107 Elapsed Time: 0:00:00\n",
      "- | #                                              | 6460 Elapsed Time: 0:00:00"
     ]
    },
    {
     "name": "stdout",
     "output_type": "stream",
     "text": [
      "Total Rows: 24046\n",
      "Train rows: 21641\n"
     ]
    },
    {
     "name": "stderr",
     "output_type": "stream",
     "text": [
      "| |   #                                           | 24045 Elapsed Time: 0:00:00\n",
      "- | #                                              | 6406 Elapsed Time: 0:00:00"
     ]
    },
    {
     "name": "stdout",
     "output_type": "stream",
     "text": [
      "Total Rows: 24035\n",
      "Train rows: 21631\n"
     ]
    },
    {
     "name": "stderr",
     "output_type": "stream",
     "text": [
      "| |   #                                           | 24034 Elapsed Time: 0:00:00\n",
      "- | #                                              | 5856 Elapsed Time: 0:00:00"
     ]
    },
    {
     "name": "stdout",
     "output_type": "stream",
     "text": [
      "Total Rows: 23998\n",
      "Train rows: 21598\n"
     ]
    },
    {
     "name": "stderr",
     "output_type": "stream",
     "text": [
      "| |    #                                          | 23997 Elapsed Time: 0:00:00\n",
      "- | #                                              | 6193 Elapsed Time: 0:00:00"
     ]
    },
    {
     "name": "stdout",
     "output_type": "stream",
     "text": [
      "Total Rows: 24218\n",
      "Train rows: 21796\n"
     ]
    },
    {
     "name": "stderr",
     "output_type": "stream",
     "text": [
      "| |   #                                           | 24217 Elapsed Time: 0:00:00\n",
      "- | #                                              | 6319 Elapsed Time: 0:00:00"
     ]
    },
    {
     "name": "stdout",
     "output_type": "stream",
     "text": [
      "Total Rows: 24078\n",
      "Train rows: 21670\n"
     ]
    },
    {
     "name": "stderr",
     "output_type": "stream",
     "text": [
      "| |   #                                           | 24077 Elapsed Time: 0:00:00\n",
      "- | #                                              | 6552 Elapsed Time: 0:00:00"
     ]
    },
    {
     "name": "stdout",
     "output_type": "stream",
     "text": [
      "Total Rows: 24005\n",
      "Train rows: 21604\n"
     ]
    },
    {
     "name": "stderr",
     "output_type": "stream",
     "text": [
      "| |   #                                           | 24004 Elapsed Time: 0:00:00\n",
      "- | #                                              | 6517 Elapsed Time: 0:00:00"
     ]
    },
    {
     "name": "stdout",
     "output_type": "stream",
     "text": [
      "Total Rows: 24010\n",
      "Train rows: 21609\n"
     ]
    },
    {
     "name": "stderr",
     "output_type": "stream",
     "text": [
      "| |   #                                           | 24009 Elapsed Time: 0:00:00\n",
      "- | #                                              | 6460 Elapsed Time: 0:00:00"
     ]
    },
    {
     "name": "stdout",
     "output_type": "stream",
     "text": [
      "Total Rows: 24042\n",
      "Train rows: 21637\n"
     ]
    },
    {
     "name": "stderr",
     "output_type": "stream",
     "text": [
      "| |   #                                           | 24041 Elapsed Time: 0:00:00\n",
      "- | #                                              | 6402 Elapsed Time: 0:00:00"
     ]
    },
    {
     "name": "stdout",
     "output_type": "stream",
     "text": [
      "Total Rows: 24002\n",
      "Train rows: 21601\n"
     ]
    },
    {
     "name": "stderr",
     "output_type": "stream",
     "text": [
      "| |   #                                           | 24001 Elapsed Time: 0:00:00\n",
      "- | #                                              | 6024 Elapsed Time: 0:00:00"
     ]
    },
    {
     "name": "stdout",
     "output_type": "stream",
     "text": [
      "Total Rows: 24265\n",
      "Train rows: 21838\n"
     ]
    },
    {
     "name": "stderr",
     "output_type": "stream",
     "text": [
      "| |    #                                          | 24264 Elapsed Time: 0:00:00\n",
      "- | #                                              | 6123 Elapsed Time: 0:00:00"
     ]
    },
    {
     "name": "stdout",
     "output_type": "stream",
     "text": [
      "Total Rows: 23996\n",
      "Train rows: 21596\n"
     ]
    },
    {
     "name": "stderr",
     "output_type": "stream",
     "text": [
      "| |   #                                           | 23995 Elapsed Time: 0:00:00\n",
      "- | #                                              | 6567 Elapsed Time: 0:00:00"
     ]
    },
    {
     "name": "stdout",
     "output_type": "stream",
     "text": [
      "Total Rows: 13573\n",
      "Train rows: 12215\n"
     ]
    },
    {
     "name": "stderr",
     "output_type": "stream",
     "text": [
      "| |  #                                            | 13572 Elapsed Time: 0:00:00\n",
      "- | #                                              | 6077 Elapsed Time: 0:00:00"
     ]
    },
    {
     "name": "stdout",
     "output_type": "stream",
     "text": [
      "Total Rows: 13730\n",
      "Train rows: 12357\n"
     ]
    },
    {
     "name": "stderr",
     "output_type": "stream",
     "text": [
      "| |  #                                            | 13729 Elapsed Time: 0:00:00\n",
      "- | #                                              | 6513 Elapsed Time: 0:00:00"
     ]
    },
    {
     "name": "stdout",
     "output_type": "stream",
     "text": [
      "Total Rows: 13583\n",
      "Train rows: 12224\n"
     ]
    },
    {
     "name": "stderr",
     "output_type": "stream",
     "text": [
      "| |  #                                            | 13582 Elapsed Time: 0:00:00\n",
      "/ |#                                                  | 0 Elapsed Time: 0:00:00"
     ]
    },
    {
     "name": "stdout",
     "output_type": "stream",
     "text": [
      "Fold 17 done!\n",
      "[1, 2, 3, 4, 5, 6, 7, 8, 9, 10, 11, 12, 13, 14, 15, 16, 17, 18, 19, 20, 21, 22, 23, 24, 25, 26]\n",
      "[1, 2, 3, 5, 6, 7, 8, 9, 10, 11, 12, 13, 14, 15, 16, 17, 18, 19, 20, 21, 22, 23, 26]\n",
      "subjects_per_fold  1\n",
      "Fold: 18\n",
      "Train: [1, 2, 3, 5, 6, 7, 8, 9, 10, 11, 12, 13, 14, 15, 16, 17, 18, 20, 21, 22, 23, 26]\n",
      "Test: [19]\n",
      "Total Rows: 24002\n",
      "Train rows: 21601\n"
     ]
    },
    {
     "name": "stderr",
     "output_type": "stream",
     "text": [
      "| |   #                                           | 24001 Elapsed Time: 0:00:00\n",
      "- | #                                              | 5925 Elapsed Time: 0:00:00"
     ]
    },
    {
     "name": "stdout",
     "output_type": "stream",
     "text": [
      "Total Rows: 24265\n",
      "Train rows: 21838\n"
     ]
    },
    {
     "name": "stderr",
     "output_type": "stream",
     "text": [
      "| |    #                                          | 24264 Elapsed Time: 0:00:00\n",
      "- | #                                              | 6366 Elapsed Time: 0:00:00"
     ]
    },
    {
     "name": "stdout",
     "output_type": "stream",
     "text": [
      "Total Rows: 23996\n",
      "Train rows: 21596\n"
     ]
    },
    {
     "name": "stderr",
     "output_type": "stream",
     "text": [
      "| |   #                                           | 23995 Elapsed Time: 0:00:00\n",
      "- | #                                              | 5612 Elapsed Time: 0:00:00"
     ]
    },
    {
     "name": "stdout",
     "output_type": "stream",
     "text": [
      "Total Rows: 24131\n",
      "Train rows: 21717\n"
     ]
    },
    {
     "name": "stderr",
     "output_type": "stream",
     "text": [
      "| |   #                                           | 24130 Elapsed Time: 0:00:00\n",
      "- | #                                              | 6564 Elapsed Time: 0:00:00"
     ]
    },
    {
     "name": "stdout",
     "output_type": "stream",
     "text": [
      "Total Rows: 24117\n",
      "Train rows: 21705\n"
     ]
    },
    {
     "name": "stderr",
     "output_type": "stream",
     "text": [
      "| |   #                                           | 24116 Elapsed Time: 0:00:00\n",
      "- | #                                              | 6584 Elapsed Time: 0:00:00"
     ]
    },
    {
     "name": "stdout",
     "output_type": "stream",
     "text": [
      "Total Rows: 24198\n",
      "Train rows: 21778\n"
     ]
    },
    {
     "name": "stderr",
     "output_type": "stream",
     "text": [
      "| |   #                                           | 24197 Elapsed Time: 0:00:00\n",
      "- | #                                              | 6063 Elapsed Time: 0:00:00"
     ]
    },
    {
     "name": "stdout",
     "output_type": "stream",
     "text": [
      "Total Rows: 23989\n",
      "Train rows: 21590\n"
     ]
    },
    {
     "name": "stderr",
     "output_type": "stream",
     "text": [
      "| |    #                                          | 23988 Elapsed Time: 0:00:00\n",
      "- | #                                              | 6003 Elapsed Time: 0:00:00"
     ]
    },
    {
     "name": "stdout",
     "output_type": "stream",
     "text": [
      "Total Rows: 24108\n",
      "Train rows: 21697\n"
     ]
    },
    {
     "name": "stderr",
     "output_type": "stream",
     "text": [
      "| |   #                                           | 24107 Elapsed Time: 0:00:00\n",
      "- | #                                              | 6090 Elapsed Time: 0:00:00"
     ]
    },
    {
     "name": "stdout",
     "output_type": "stream",
     "text": [
      "Total Rows: 24046\n",
      "Train rows: 21641\n"
     ]
    },
    {
     "name": "stderr",
     "output_type": "stream",
     "text": [
      "| |   #                                           | 24045 Elapsed Time: 0:00:00\n",
      "- | #                                              | 6073 Elapsed Time: 0:00:00"
     ]
    },
    {
     "name": "stdout",
     "output_type": "stream",
     "text": [
      "Total Rows: 24035\n",
      "Train rows: 21631\n"
     ]
    },
    {
     "name": "stderr",
     "output_type": "stream",
     "text": [
      "| |   #                                           | 24034 Elapsed Time: 0:00:00\n",
      "- | #                                              | 6136 Elapsed Time: 0:00:00"
     ]
    },
    {
     "name": "stdout",
     "output_type": "stream",
     "text": [
      "Total Rows: 23998\n",
      "Train rows: 21598\n"
     ]
    },
    {
     "name": "stderr",
     "output_type": "stream",
     "text": [
      "| |   #                                           | 23997 Elapsed Time: 0:00:00\n",
      "- | #                                              | 6520 Elapsed Time: 0:00:00"
     ]
    },
    {
     "name": "stdout",
     "output_type": "stream",
     "text": [
      "Total Rows: 24218\n",
      "Train rows: 21796\n"
     ]
    },
    {
     "name": "stderr",
     "output_type": "stream",
     "text": [
      "| |   #                                           | 24217 Elapsed Time: 0:00:00\n",
      "- | #                                              | 6022 Elapsed Time: 0:00:00"
     ]
    },
    {
     "name": "stdout",
     "output_type": "stream",
     "text": [
      "Total Rows: 24078\n",
      "Train rows: 21670\n"
     ]
    },
    {
     "name": "stderr",
     "output_type": "stream",
     "text": [
      "| |   #                                           | 24077 Elapsed Time: 0:00:00\n",
      "- | #                                              | 6185 Elapsed Time: 0:00:00"
     ]
    },
    {
     "name": "stdout",
     "output_type": "stream",
     "text": [
      "Total Rows: 24005\n",
      "Train rows: 21604\n"
     ]
    },
    {
     "name": "stderr",
     "output_type": "stream",
     "text": [
      "| |   #                                           | 24004 Elapsed Time: 0:00:00\n",
      "- | #                                              | 6036 Elapsed Time: 0:00:00"
     ]
    },
    {
     "name": "stdout",
     "output_type": "stream",
     "text": [
      "Total Rows: 24010\n",
      "Train rows: 21609\n"
     ]
    },
    {
     "name": "stderr",
     "output_type": "stream",
     "text": [
      "| |   #                                           | 24009 Elapsed Time: 0:00:00\n",
      "- | #                                              | 6549 Elapsed Time: 0:00:00"
     ]
    },
    {
     "name": "stdout",
     "output_type": "stream",
     "text": [
      "Total Rows: 24042\n",
      "Train rows: 21637\n"
     ]
    },
    {
     "name": "stderr",
     "output_type": "stream",
     "text": [
      "| |   #                                           | 24041 Elapsed Time: 0:00:00\n",
      "- | #                                              | 6143 Elapsed Time: 0:00:00"
     ]
    },
    {
     "name": "stdout",
     "output_type": "stream",
     "text": [
      "Total Rows: 24319\n",
      "Train rows: 21887\n"
     ]
    },
    {
     "name": "stderr",
     "output_type": "stream",
     "text": [
      "| |   #                                           | 24318 Elapsed Time: 0:00:00\n",
      "- | #                                              | 6051 Elapsed Time: 0:00:00"
     ]
    },
    {
     "name": "stdout",
     "output_type": "stream",
     "text": [
      "Total Rows: 24265\n",
      "Train rows: 21838\n"
     ]
    },
    {
     "name": "stderr",
     "output_type": "stream",
     "text": [
      "| |   #                                           | 24264 Elapsed Time: 0:00:00\n",
      "- | #                                              | 6494 Elapsed Time: 0:00:00"
     ]
    },
    {
     "name": "stdout",
     "output_type": "stream",
     "text": [
      "Total Rows: 23996\n",
      "Train rows: 21596\n"
     ]
    },
    {
     "name": "stderr",
     "output_type": "stream",
     "text": [
      "| |   #                                           | 23995 Elapsed Time: 0:00:00\n",
      "- | #                                              | 6169 Elapsed Time: 0:00:00"
     ]
    },
    {
     "name": "stdout",
     "output_type": "stream",
     "text": [
      "Total Rows: 13573\n",
      "Train rows: 12215\n"
     ]
    },
    {
     "name": "stderr",
     "output_type": "stream",
     "text": [
      "| |  #                                            | 13572 Elapsed Time: 0:00:00\n",
      "- | #                                              | 6018 Elapsed Time: 0:00:00"
     ]
    },
    {
     "name": "stdout",
     "output_type": "stream",
     "text": [
      "Total Rows: 13730\n",
      "Train rows: 12357\n"
     ]
    },
    {
     "name": "stderr",
     "output_type": "stream",
     "text": [
      "| |  #                                            | 13729 Elapsed Time: 0:00:00\n",
      "- | #                                              | 6211 Elapsed Time: 0:00:00"
     ]
    },
    {
     "name": "stdout",
     "output_type": "stream",
     "text": [
      "Total Rows: 13583\n",
      "Train rows: 12224\n"
     ]
    },
    {
     "name": "stderr",
     "output_type": "stream",
     "text": [
      "| |  #                                            | 13582 Elapsed Time: 0:00:00\n",
      "/ |#                                                  | 0 Elapsed Time: 0:00:00"
     ]
    },
    {
     "name": "stdout",
     "output_type": "stream",
     "text": [
      "Fold 18 done!\n",
      "[1, 2, 3, 4, 5, 6, 7, 8, 9, 10, 11, 12, 13, 14, 15, 16, 17, 18, 19, 20, 21, 22, 23, 24, 25, 26]\n",
      "[1, 2, 3, 5, 6, 7, 8, 9, 10, 11, 12, 13, 14, 15, 16, 17, 18, 19, 20, 21, 22, 23, 26]\n",
      "subjects_per_fold  1\n",
      "Fold: 19\n",
      "Train: [1, 2, 3, 5, 6, 7, 8, 9, 10, 11, 12, 13, 14, 15, 16, 17, 18, 19, 21, 22, 23, 26]\n",
      "Test: [20]\n",
      "Total Rows: 24002\n",
      "Train rows: 21601\n"
     ]
    },
    {
     "name": "stderr",
     "output_type": "stream",
     "text": [
      "| |    #                                          | 24001 Elapsed Time: 0:00:00\n",
      "- | #                                              | 5855 Elapsed Time: 0:00:00"
     ]
    },
    {
     "name": "stdout",
     "output_type": "stream",
     "text": [
      "Total Rows: 24265\n",
      "Train rows: 21838\n"
     ]
    },
    {
     "name": "stderr",
     "output_type": "stream",
     "text": [
      "| |    #                                          | 24264 Elapsed Time: 0:00:00\n",
      "- | #                                              | 5280 Elapsed Time: 0:00:00"
     ]
    },
    {
     "name": "stdout",
     "output_type": "stream",
     "text": [
      "Total Rows: 23996\n",
      "Train rows: 21596\n"
     ]
    },
    {
     "name": "stderr",
     "output_type": "stream",
     "text": [
      "| |    #                                          | 23995 Elapsed Time: 0:00:00\n",
      "- | #                                              | 6015 Elapsed Time: 0:00:00"
     ]
    },
    {
     "name": "stdout",
     "output_type": "stream",
     "text": [
      "Total Rows: 24131\n",
      "Train rows: 21717\n"
     ]
    },
    {
     "name": "stderr",
     "output_type": "stream",
     "text": [
      "| |   #                                           | 24130 Elapsed Time: 0:00:00\n",
      "- | #                                              | 6003 Elapsed Time: 0:00:00"
     ]
    },
    {
     "name": "stdout",
     "output_type": "stream",
     "text": [
      "Total Rows: 24117\n",
      "Train rows: 21705\n"
     ]
    },
    {
     "name": "stderr",
     "output_type": "stream",
     "text": [
      "| |    #                                          | 24116 Elapsed Time: 0:00:00\n",
      "- | #                                              | 5975 Elapsed Time: 0:00:00"
     ]
    },
    {
     "name": "stdout",
     "output_type": "stream",
     "text": [
      "Total Rows: 24198\n",
      "Train rows: 21778\n"
     ]
    },
    {
     "name": "stderr",
     "output_type": "stream",
     "text": [
      "| |    #                                          | 24197 Elapsed Time: 0:00:00\n",
      "- | #                                              | 5966 Elapsed Time: 0:00:00"
     ]
    },
    {
     "name": "stdout",
     "output_type": "stream",
     "text": [
      "Total Rows: 23989\n",
      "Train rows: 21590\n"
     ]
    },
    {
     "name": "stderr",
     "output_type": "stream",
     "text": [
      "| |   #                                           | 23988 Elapsed Time: 0:00:00\n",
      "- | #                                              | 5948 Elapsed Time: 0:00:00"
     ]
    },
    {
     "name": "stdout",
     "output_type": "stream",
     "text": [
      "Total Rows: 24108\n",
      "Train rows: 21697\n"
     ]
    },
    {
     "name": "stderr",
     "output_type": "stream",
     "text": [
      "| |    #                                          | 24107 Elapsed Time: 0:00:00\n",
      "- | #                                              | 6027 Elapsed Time: 0:00:00"
     ]
    },
    {
     "name": "stdout",
     "output_type": "stream",
     "text": [
      "Total Rows: 24046\n",
      "Train rows: 21641\n"
     ]
    },
    {
     "name": "stderr",
     "output_type": "stream",
     "text": [
      "| |    #                                          | 24045 Elapsed Time: 0:00:00\n",
      "- | #                                              | 5991 Elapsed Time: 0:00:00"
     ]
    },
    {
     "name": "stdout",
     "output_type": "stream",
     "text": [
      "Total Rows: 24035\n",
      "Train rows: 21631\n"
     ]
    },
    {
     "name": "stderr",
     "output_type": "stream",
     "text": [
      "| |   #                                           | 24034 Elapsed Time: 0:00:00\n",
      "- | #                                              | 6424 Elapsed Time: 0:00:00"
     ]
    },
    {
     "name": "stdout",
     "output_type": "stream",
     "text": [
      "Total Rows: 23998\n",
      "Train rows: 21598\n"
     ]
    },
    {
     "name": "stderr",
     "output_type": "stream",
     "text": [
      "| |   #                                           | 23997 Elapsed Time: 0:00:00\n",
      "- | #                                              | 6070 Elapsed Time: 0:00:00"
     ]
    },
    {
     "name": "stdout",
     "output_type": "stream",
     "text": [
      "Total Rows: 24218\n",
      "Train rows: 21796\n"
     ]
    },
    {
     "name": "stderr",
     "output_type": "stream",
     "text": [
      "| |   #                                           | 24217 Elapsed Time: 0:00:00\n",
      "- | #                                              | 6413 Elapsed Time: 0:00:00"
     ]
    },
    {
     "name": "stdout",
     "output_type": "stream",
     "text": [
      "Total Rows: 24078\n",
      "Train rows: 21670\n"
     ]
    },
    {
     "name": "stderr",
     "output_type": "stream",
     "text": [
      "| |   #                                           | 24077 Elapsed Time: 0:00:00\n",
      "- | #                                              | 5971 Elapsed Time: 0:00:00"
     ]
    },
    {
     "name": "stdout",
     "output_type": "stream",
     "text": [
      "Total Rows: 24005\n",
      "Train rows: 21604\n"
     ]
    },
    {
     "name": "stderr",
     "output_type": "stream",
     "text": [
      "| |    #                                          | 24004 Elapsed Time: 0:00:00\n",
      "- | #                                              | 6092 Elapsed Time: 0:00:00"
     ]
    },
    {
     "name": "stdout",
     "output_type": "stream",
     "text": [
      "Total Rows: 24010\n",
      "Train rows: 21609\n"
     ]
    },
    {
     "name": "stderr",
     "output_type": "stream",
     "text": [
      "| |   #                                           | 24009 Elapsed Time: 0:00:00\n",
      "- | #                                              | 6438 Elapsed Time: 0:00:00"
     ]
    },
    {
     "name": "stdout",
     "output_type": "stream",
     "text": [
      "Total Rows: 24042\n",
      "Train rows: 21637\n"
     ]
    },
    {
     "name": "stderr",
     "output_type": "stream",
     "text": [
      "| |   #                                           | 24041 Elapsed Time: 0:00:00\n",
      "- | #                                              | 6095 Elapsed Time: 0:00:00"
     ]
    },
    {
     "name": "stdout",
     "output_type": "stream",
     "text": [
      "Total Rows: 24319\n",
      "Train rows: 21887\n"
     ]
    },
    {
     "name": "stderr",
     "output_type": "stream",
     "text": [
      "| |   #                                           | 24318 Elapsed Time: 0:00:00\n",
      "- | #                                              | 6107 Elapsed Time: 0:00:00"
     ]
    },
    {
     "name": "stdout",
     "output_type": "stream",
     "text": [
      "Total Rows: 24002\n",
      "Train rows: 21601\n"
     ]
    },
    {
     "name": "stderr",
     "output_type": "stream",
     "text": [
      "| |   #                                           | 24001 Elapsed Time: 0:00:00\n",
      "- | #                                              | 4831 Elapsed Time: 0:00:00"
     ]
    },
    {
     "name": "stdout",
     "output_type": "stream",
     "text": [
      "Total Rows: 23996\n",
      "Train rows: 21596\n"
     ]
    },
    {
     "name": "stderr",
     "output_type": "stream",
     "text": [
      "| |    #                                          | 23995 Elapsed Time: 0:00:00\n",
      "- | #                                              | 6073 Elapsed Time: 0:00:00"
     ]
    },
    {
     "name": "stdout",
     "output_type": "stream",
     "text": [
      "Total Rows: 13573\n",
      "Train rows: 12215\n"
     ]
    },
    {
     "name": "stderr",
     "output_type": "stream",
     "text": [
      "| |  #                                            | 13572 Elapsed Time: 0:00:00\n",
      "- | #                                              | 6359 Elapsed Time: 0:00:00"
     ]
    },
    {
     "name": "stdout",
     "output_type": "stream",
     "text": [
      "Total Rows: 13730\n",
      "Train rows: 12357\n"
     ]
    },
    {
     "name": "stderr",
     "output_type": "stream",
     "text": [
      "| |  #                                            | 13729 Elapsed Time: 0:00:00\n",
      "- | #                                              | 6563 Elapsed Time: 0:00:00"
     ]
    },
    {
     "name": "stdout",
     "output_type": "stream",
     "text": [
      "Total Rows: 13583\n",
      "Train rows: 12224\n"
     ]
    },
    {
     "name": "stderr",
     "output_type": "stream",
     "text": [
      "| |  #                                            | 13582 Elapsed Time: 0:00:00\n",
      "/ |#                                                  | 0 Elapsed Time: 0:00:00"
     ]
    },
    {
     "name": "stdout",
     "output_type": "stream",
     "text": [
      "Fold 19 done!\n",
      "[1, 2, 3, 4, 5, 6, 7, 8, 9, 10, 11, 12, 13, 14, 15, 16, 17, 18, 19, 20, 21, 22, 23, 24, 25, 26]\n",
      "[1, 2, 3, 5, 6, 7, 8, 9, 10, 11, 12, 13, 14, 15, 16, 17, 18, 19, 20, 21, 22, 23, 26]\n",
      "subjects_per_fold  1\n",
      "Fold: 20\n",
      "Train: [1, 2, 3, 5, 6, 7, 8, 9, 10, 11, 12, 13, 14, 15, 16, 17, 18, 19, 20, 22, 23, 26]\n",
      "Test: [21]\n",
      "Total Rows: 24002\n",
      "Train rows: 21601\n"
     ]
    },
    {
     "name": "stderr",
     "output_type": "stream",
     "text": [
      "| |   #                                           | 24001 Elapsed Time: 0:00:00\n",
      "- | #                                              | 5793 Elapsed Time: 0:00:00"
     ]
    },
    {
     "name": "stdout",
     "output_type": "stream",
     "text": [
      "Total Rows: 24265\n",
      "Train rows: 21838\n"
     ]
    },
    {
     "name": "stderr",
     "output_type": "stream",
     "text": [
      "| |    #                                          | 24264 Elapsed Time: 0:00:00\n",
      "- | #                                              | 5878 Elapsed Time: 0:00:00"
     ]
    },
    {
     "name": "stdout",
     "output_type": "stream",
     "text": [
      "Total Rows: 23996\n",
      "Train rows: 21596\n"
     ]
    },
    {
     "name": "stderr",
     "output_type": "stream",
     "text": [
      "| |    #                                          | 23995 Elapsed Time: 0:00:00\n",
      "- | #                                              | 6058 Elapsed Time: 0:00:00"
     ]
    },
    {
     "name": "stdout",
     "output_type": "stream",
     "text": [
      "Total Rows: 24131\n",
      "Train rows: 21717\n"
     ]
    },
    {
     "name": "stderr",
     "output_type": "stream",
     "text": [
      "| |   #                                           | 24130 Elapsed Time: 0:00:00\n",
      "- | #                                              | 6198 Elapsed Time: 0:00:00"
     ]
    },
    {
     "name": "stdout",
     "output_type": "stream",
     "text": [
      "Total Rows: 24117\n",
      "Train rows: 21705\n"
     ]
    },
    {
     "name": "stderr",
     "output_type": "stream",
     "text": [
      "| |   #                                           | 24116 Elapsed Time: 0:00:00\n",
      "- | #                                              | 6048 Elapsed Time: 0:00:00"
     ]
    },
    {
     "name": "stdout",
     "output_type": "stream",
     "text": [
      "Total Rows: 24198\n",
      "Train rows: 21778\n"
     ]
    },
    {
     "name": "stderr",
     "output_type": "stream",
     "text": [
      "| |   #                                           | 24197 Elapsed Time: 0:00:00\n",
      "- | #                                              | 6046 Elapsed Time: 0:00:00"
     ]
    },
    {
     "name": "stdout",
     "output_type": "stream",
     "text": [
      "Total Rows: 23989\n",
      "Train rows: 21590\n"
     ]
    },
    {
     "name": "stderr",
     "output_type": "stream",
     "text": [
      "| |   #                                           | 23988 Elapsed Time: 0:00:00\n",
      "- | #                                              | 6014 Elapsed Time: 0:00:00"
     ]
    },
    {
     "name": "stdout",
     "output_type": "stream",
     "text": [
      "Total Rows: 24108\n",
      "Train rows: 21697\n"
     ]
    },
    {
     "name": "stderr",
     "output_type": "stream",
     "text": [
      "| |   #                                           | 24107 Elapsed Time: 0:00:00\n",
      "- | #                                              | 6544 Elapsed Time: 0:00:00"
     ]
    },
    {
     "name": "stdout",
     "output_type": "stream",
     "text": [
      "Total Rows: 24046\n",
      "Train rows: 21641\n"
     ]
    },
    {
     "name": "stderr",
     "output_type": "stream",
     "text": [
      "| |   #                                           | 24045 Elapsed Time: 0:00:00\n",
      "- | #                                              | 6022 Elapsed Time: 0:00:00"
     ]
    },
    {
     "name": "stdout",
     "output_type": "stream",
     "text": [
      "Total Rows: 24035\n",
      "Train rows: 21631\n"
     ]
    },
    {
     "name": "stderr",
     "output_type": "stream",
     "text": [
      "| |   #                                           | 24034 Elapsed Time: 0:00:00\n",
      "- | #                                              | 6356 Elapsed Time: 0:00:00"
     ]
    },
    {
     "name": "stdout",
     "output_type": "stream",
     "text": [
      "Total Rows: 23998\n",
      "Train rows: 21598\n"
     ]
    },
    {
     "name": "stderr",
     "output_type": "stream",
     "text": [
      "| |   #                                           | 23997 Elapsed Time: 0:00:00\n",
      "- | #                                              | 6421 Elapsed Time: 0:00:00"
     ]
    },
    {
     "name": "stdout",
     "output_type": "stream",
     "text": [
      "Total Rows: 24218\n",
      "Train rows: 21796\n"
     ]
    },
    {
     "name": "stderr",
     "output_type": "stream",
     "text": [
      "| |   #                                           | 24217 Elapsed Time: 0:00:00\n",
      "- | #                                              | 6465 Elapsed Time: 0:00:00"
     ]
    },
    {
     "name": "stdout",
     "output_type": "stream",
     "text": [
      "Total Rows: 24078\n",
      "Train rows: 21670\n"
     ]
    },
    {
     "name": "stderr",
     "output_type": "stream",
     "text": [
      "| |   #                                           | 24077 Elapsed Time: 0:00:00\n",
      "- | #                                              | 6591 Elapsed Time: 0:00:00"
     ]
    },
    {
     "name": "stdout",
     "output_type": "stream",
     "text": [
      "Total Rows: 24005\n",
      "Train rows: 21604\n"
     ]
    },
    {
     "name": "stderr",
     "output_type": "stream",
     "text": [
      "| |   #                                           | 24004 Elapsed Time: 0:00:00\n",
      "- | #                                              | 6523 Elapsed Time: 0:00:00"
     ]
    },
    {
     "name": "stdout",
     "output_type": "stream",
     "text": [
      "Total Rows: 24010\n",
      "Train rows: 21609\n"
     ]
    },
    {
     "name": "stderr",
     "output_type": "stream",
     "text": [
      "| |   #                                           | 24009 Elapsed Time: 0:00:00\n",
      "- | #                                              | 6512 Elapsed Time: 0:00:00"
     ]
    },
    {
     "name": "stdout",
     "output_type": "stream",
     "text": [
      "Total Rows: 24042\n",
      "Train rows: 21637\n"
     ]
    },
    {
     "name": "stderr",
     "output_type": "stream",
     "text": [
      "| |   #                                           | 24041 Elapsed Time: 0:00:00\n",
      "- | #                                              | 6083 Elapsed Time: 0:00:00"
     ]
    },
    {
     "name": "stdout",
     "output_type": "stream",
     "text": [
      "Total Rows: 24319\n",
      "Train rows: 21887\n"
     ]
    },
    {
     "name": "stderr",
     "output_type": "stream",
     "text": [
      "| |    #                                          | 24318 Elapsed Time: 0:00:00\n",
      "- | #                                              | 6072 Elapsed Time: 0:00:00"
     ]
    },
    {
     "name": "stdout",
     "output_type": "stream",
     "text": [
      "Total Rows: 24002\n",
      "Train rows: 21601\n"
     ]
    },
    {
     "name": "stderr",
     "output_type": "stream",
     "text": [
      "| |   #                                           | 24001 Elapsed Time: 0:00:00\n",
      "- | #                                              | 6416 Elapsed Time: 0:00:00"
     ]
    },
    {
     "name": "stdout",
     "output_type": "stream",
     "text": [
      "Total Rows: 24265\n",
      "Train rows: 21838\n"
     ]
    },
    {
     "name": "stderr",
     "output_type": "stream",
     "text": [
      "| |   #                                           | 24264 Elapsed Time: 0:00:00\n",
      "- | #                                              | 6554 Elapsed Time: 0:00:00"
     ]
    },
    {
     "name": "stdout",
     "output_type": "stream",
     "text": [
      "Total Rows: 13573\n",
      "Train rows: 12215\n"
     ]
    },
    {
     "name": "stderr",
     "output_type": "stream",
     "text": [
      "| |  #                                            | 13572 Elapsed Time: 0:00:00\n",
      "- | #                                              | 6482 Elapsed Time: 0:00:00"
     ]
    },
    {
     "name": "stdout",
     "output_type": "stream",
     "text": [
      "Total Rows: 13730\n",
      "Train rows: 12357\n"
     ]
    },
    {
     "name": "stderr",
     "output_type": "stream",
     "text": [
      "| |  #                                            | 13729 Elapsed Time: 0:00:00\n",
      "- | #                                              | 6502 Elapsed Time: 0:00:00"
     ]
    },
    {
     "name": "stdout",
     "output_type": "stream",
     "text": [
      "Total Rows: 13583\n",
      "Train rows: 12224\n"
     ]
    },
    {
     "name": "stderr",
     "output_type": "stream",
     "text": [
      "| |  #                                            | 13582 Elapsed Time: 0:00:00\n",
      "/ |#                                                  | 0 Elapsed Time: 0:00:00"
     ]
    },
    {
     "name": "stdout",
     "output_type": "stream",
     "text": [
      "Fold 20 done!\n",
      "[1, 2, 3, 4, 5, 6, 7, 8, 9, 10, 11, 12, 13, 14, 15, 16, 17, 18, 19, 20, 21, 22, 23, 24, 25, 26]\n",
      "[1, 2, 3, 5, 6, 7, 8, 9, 10, 11, 12, 13, 14, 15, 16, 17, 18, 19, 20, 21, 22, 23, 26]\n",
      "subjects_per_fold  1\n",
      "Fold: 21\n",
      "Train: [1, 2, 3, 5, 6, 7, 8, 9, 10, 11, 12, 13, 14, 15, 16, 17, 18, 19, 20, 21, 23, 26]\n",
      "Test: [22]\n",
      "Total Rows: 24002\n",
      "Train rows: 21601\n"
     ]
    },
    {
     "name": "stderr",
     "output_type": "stream",
     "text": [
      "| |   #                                           | 24001 Elapsed Time: 0:00:00\n",
      "- | #                                              | 6101 Elapsed Time: 0:00:00"
     ]
    },
    {
     "name": "stdout",
     "output_type": "stream",
     "text": [
      "Total Rows: 24265\n",
      "Train rows: 21838\n"
     ]
    },
    {
     "name": "stderr",
     "output_type": "stream",
     "text": [
      "| |   #                                           | 24264 Elapsed Time: 0:00:00\n",
      "- | #                                              | 6490 Elapsed Time: 0:00:00"
     ]
    },
    {
     "name": "stdout",
     "output_type": "stream",
     "text": [
      "Total Rows: 23996\n",
      "Train rows: 21596\n"
     ]
    },
    {
     "name": "stderr",
     "output_type": "stream",
     "text": [
      "| |   #                                           | 23995 Elapsed Time: 0:00:00\n",
      "- | #                                              | 6062 Elapsed Time: 0:00:00"
     ]
    },
    {
     "name": "stdout",
     "output_type": "stream",
     "text": [
      "Total Rows: 24131\n",
      "Train rows: 21717\n"
     ]
    },
    {
     "name": "stderr",
     "output_type": "stream",
     "text": [
      "| |    #                                          | 24130 Elapsed Time: 0:00:00\n",
      "- | #                                              | 5956 Elapsed Time: 0:00:00"
     ]
    },
    {
     "name": "stdout",
     "output_type": "stream",
     "text": [
      "Total Rows: 24117\n",
      "Train rows: 21705\n"
     ]
    },
    {
     "name": "stderr",
     "output_type": "stream",
     "text": [
      "| |   #                                           | 24116 Elapsed Time: 0:00:00\n",
      "- | #                                              | 6418 Elapsed Time: 0:00:00"
     ]
    },
    {
     "name": "stdout",
     "output_type": "stream",
     "text": [
      "Total Rows: 24198\n",
      "Train rows: 21778\n"
     ]
    },
    {
     "name": "stderr",
     "output_type": "stream",
     "text": [
      "| |   #                                           | 24197 Elapsed Time: 0:00:00\n",
      "- | #                                              | 5918 Elapsed Time: 0:00:00"
     ]
    },
    {
     "name": "stdout",
     "output_type": "stream",
     "text": [
      "Total Rows: 23989\n",
      "Train rows: 21590\n"
     ]
    },
    {
     "name": "stderr",
     "output_type": "stream",
     "text": [
      "| |    #                                          | 23988 Elapsed Time: 0:00:00\n",
      "- | #                                              | 5836 Elapsed Time: 0:00:00"
     ]
    },
    {
     "name": "stdout",
     "output_type": "stream",
     "text": [
      "Total Rows: 24108\n",
      "Train rows: 21697\n"
     ]
    },
    {
     "name": "stderr",
     "output_type": "stream",
     "text": [
      "| |   #                                           | 24107 Elapsed Time: 0:00:00\n",
      "- | #                                              | 6293 Elapsed Time: 0:00:00"
     ]
    },
    {
     "name": "stdout",
     "output_type": "stream",
     "text": [
      "Total Rows: 24046\n",
      "Train rows: 21641\n"
     ]
    },
    {
     "name": "stderr",
     "output_type": "stream",
     "text": [
      "| |   #                                           | 24045 Elapsed Time: 0:00:00\n",
      "- | #                                              | 6478 Elapsed Time: 0:00:00"
     ]
    },
    {
     "name": "stdout",
     "output_type": "stream",
     "text": [
      "Total Rows: 24035\n",
      "Train rows: 21631\n"
     ]
    },
    {
     "name": "stderr",
     "output_type": "stream",
     "text": [
      "| |   #                                           | 24034 Elapsed Time: 0:00:00\n",
      "- | #                                              | 6126 Elapsed Time: 0:00:00"
     ]
    },
    {
     "name": "stdout",
     "output_type": "stream",
     "text": [
      "Total Rows: 23998\n",
      "Train rows: 21598\n"
     ]
    },
    {
     "name": "stderr",
     "output_type": "stream",
     "text": [
      "| |   #                                           | 23997 Elapsed Time: 0:00:00\n",
      "- | #                                              | 6616 Elapsed Time: 0:00:00"
     ]
    },
    {
     "name": "stdout",
     "output_type": "stream",
     "text": [
      "Total Rows: 24218\n",
      "Train rows: 21796\n"
     ]
    },
    {
     "name": "stderr",
     "output_type": "stream",
     "text": [
      "| |   #                                           | 24217 Elapsed Time: 0:00:00\n",
      "- | #                                              | 6384 Elapsed Time: 0:00:00"
     ]
    },
    {
     "name": "stdout",
     "output_type": "stream",
     "text": [
      "Total Rows: 24078\n",
      "Train rows: 21670\n"
     ]
    },
    {
     "name": "stderr",
     "output_type": "stream",
     "text": [
      "| |   #                                           | 24077 Elapsed Time: 0:00:00\n",
      "- | #                                              | 5871 Elapsed Time: 0:00:00"
     ]
    },
    {
     "name": "stdout",
     "output_type": "stream",
     "text": [
      "Total Rows: 24005\n",
      "Train rows: 21604\n"
     ]
    },
    {
     "name": "stderr",
     "output_type": "stream",
     "text": [
      "| |   #                                           | 24004 Elapsed Time: 0:00:00\n",
      "- | #                                              | 6401 Elapsed Time: 0:00:00"
     ]
    },
    {
     "name": "stdout",
     "output_type": "stream",
     "text": [
      "Total Rows: 24010\n",
      "Train rows: 21609\n"
     ]
    },
    {
     "name": "stderr",
     "output_type": "stream",
     "text": [
      "| |   #                                           | 24009 Elapsed Time: 0:00:00\n",
      "- | #                                              | 6384 Elapsed Time: 0:00:00"
     ]
    },
    {
     "name": "stdout",
     "output_type": "stream",
     "text": [
      "Total Rows: 24042\n",
      "Train rows: 21637\n"
     ]
    },
    {
     "name": "stderr",
     "output_type": "stream",
     "text": [
      "| |   #                                           | 24041 Elapsed Time: 0:00:00\n",
      "- | #                                              | 6405 Elapsed Time: 0:00:00"
     ]
    },
    {
     "name": "stdout",
     "output_type": "stream",
     "text": [
      "Total Rows: 24319\n",
      "Train rows: 21887\n"
     ]
    },
    {
     "name": "stderr",
     "output_type": "stream",
     "text": [
      "| |   #                                           | 24318 Elapsed Time: 0:00:00\n",
      "- | #                                              | 6582 Elapsed Time: 0:00:00"
     ]
    },
    {
     "name": "stdout",
     "output_type": "stream",
     "text": [
      "Total Rows: 24002\n",
      "Train rows: 21601\n"
     ]
    },
    {
     "name": "stderr",
     "output_type": "stream",
     "text": [
      "| |   #                                           | 24001 Elapsed Time: 0:00:00\n",
      "- | #                                              | 6579 Elapsed Time: 0:00:00"
     ]
    },
    {
     "name": "stdout",
     "output_type": "stream",
     "text": [
      "Total Rows: 24265\n",
      "Train rows: 21838\n"
     ]
    },
    {
     "name": "stderr",
     "output_type": "stream",
     "text": [
      "| |   #                                           | 24264 Elapsed Time: 0:00:00\n",
      "- | #                                              | 6557 Elapsed Time: 0:00:00"
     ]
    },
    {
     "name": "stdout",
     "output_type": "stream",
     "text": [
      "Total Rows: 23996\n",
      "Train rows: 21596\n"
     ]
    },
    {
     "name": "stderr",
     "output_type": "stream",
     "text": [
      "| |   #                                           | 23995 Elapsed Time: 0:00:00\n",
      "- | #                                              | 6543 Elapsed Time: 0:00:00"
     ]
    },
    {
     "name": "stdout",
     "output_type": "stream",
     "text": [
      "Total Rows: 13730\n",
      "Train rows: 12357\n"
     ]
    },
    {
     "name": "stderr",
     "output_type": "stream",
     "text": [
      "| |  #                                            | 13729 Elapsed Time: 0:00:00\n",
      "- | #                                              | 6567 Elapsed Time: 0:00:00"
     ]
    },
    {
     "name": "stdout",
     "output_type": "stream",
     "text": [
      "Total Rows: 13583\n",
      "Train rows: 12224\n"
     ]
    },
    {
     "name": "stderr",
     "output_type": "stream",
     "text": [
      "| |  #                                            | 13582 Elapsed Time: 0:00:00\n",
      "/ |#                                                  | 0 Elapsed Time: 0:00:00"
     ]
    },
    {
     "name": "stdout",
     "output_type": "stream",
     "text": [
      "Fold 21 done!\n",
      "[1, 2, 3, 4, 5, 6, 7, 8, 9, 10, 11, 12, 13, 14, 15, 16, 17, 18, 19, 20, 21, 22, 23, 24, 25, 26]\n",
      "[1, 2, 3, 5, 6, 7, 8, 9, 10, 11, 12, 13, 14, 15, 16, 17, 18, 19, 20, 21, 22, 23, 26]\n",
      "subjects_per_fold  1\n",
      "Fold: 22\n",
      "Train: [1, 2, 3, 5, 6, 7, 8, 9, 10, 11, 12, 13, 14, 15, 16, 17, 18, 19, 20, 21, 22, 26]\n",
      "Test: [23]\n",
      "Total Rows: 24002\n",
      "Train rows: 21601\n"
     ]
    },
    {
     "name": "stderr",
     "output_type": "stream",
     "text": [
      "| |   #                                           | 24001 Elapsed Time: 0:00:00\n",
      "- | #                                              | 5130 Elapsed Time: 0:00:00"
     ]
    },
    {
     "name": "stdout",
     "output_type": "stream",
     "text": [
      "Total Rows: 24265\n",
      "Train rows: 21838\n"
     ]
    },
    {
     "name": "stderr",
     "output_type": "stream",
     "text": [
      "| |    #                                          | 24264 Elapsed Time: 0:00:00\n",
      "- | #                                              | 6430 Elapsed Time: 0:00:00"
     ]
    },
    {
     "name": "stdout",
     "output_type": "stream",
     "text": [
      "Total Rows: 23996\n",
      "Train rows: 21596\n"
     ]
    },
    {
     "name": "stderr",
     "output_type": "stream",
     "text": [
      "| |   #                                           | 23995 Elapsed Time: 0:00:00\n",
      "- | #                                              | 6549 Elapsed Time: 0:00:00"
     ]
    },
    {
     "name": "stdout",
     "output_type": "stream",
     "text": [
      "Total Rows: 24131\n",
      "Train rows: 21717\n"
     ]
    },
    {
     "name": "stderr",
     "output_type": "stream",
     "text": [
      "| |   #                                           | 24130 Elapsed Time: 0:00:00\n",
      "- | #                                              | 6364 Elapsed Time: 0:00:00"
     ]
    },
    {
     "name": "stdout",
     "output_type": "stream",
     "text": [
      "Total Rows: 24117\n",
      "Train rows: 21705\n"
     ]
    },
    {
     "name": "stderr",
     "output_type": "stream",
     "text": [
      "| |   #                                           | 24116 Elapsed Time: 0:00:00\n",
      "- | #                                              | 6483 Elapsed Time: 0:00:00"
     ]
    },
    {
     "name": "stdout",
     "output_type": "stream",
     "text": [
      "Total Rows: 24198\n",
      "Train rows: 21778\n"
     ]
    },
    {
     "name": "stderr",
     "output_type": "stream",
     "text": [
      "| |   #                                           | 24197 Elapsed Time: 0:00:00\n",
      "- | #                                              | 6603 Elapsed Time: 0:00:00"
     ]
    },
    {
     "name": "stdout",
     "output_type": "stream",
     "text": [
      "Total Rows: 23989\n",
      "Train rows: 21590\n"
     ]
    },
    {
     "name": "stderr",
     "output_type": "stream",
     "text": [
      "| |   #                                           | 23988 Elapsed Time: 0:00:00\n",
      "- | #                                              | 6571 Elapsed Time: 0:00:00"
     ]
    },
    {
     "name": "stdout",
     "output_type": "stream",
     "text": [
      "Total Rows: 24108\n",
      "Train rows: 21697\n"
     ]
    },
    {
     "name": "stderr",
     "output_type": "stream",
     "text": [
      "| |   #                                           | 24107 Elapsed Time: 0:00:00\n",
      "- | #                                              | 6572 Elapsed Time: 0:00:00"
     ]
    },
    {
     "name": "stdout",
     "output_type": "stream",
     "text": [
      "Total Rows: 24046\n",
      "Train rows: 21641\n"
     ]
    },
    {
     "name": "stderr",
     "output_type": "stream",
     "text": [
      "| |   #                                           | 24045 Elapsed Time: 0:00:00\n",
      "- | #                                              | 6445 Elapsed Time: 0:00:00"
     ]
    },
    {
     "name": "stdout",
     "output_type": "stream",
     "text": [
      "Total Rows: 24035\n",
      "Train rows: 21631\n"
     ]
    },
    {
     "name": "stderr",
     "output_type": "stream",
     "text": [
      "| |   #                                           | 24034 Elapsed Time: 0:00:00\n",
      "- | #                                              | 6639 Elapsed Time: 0:00:00"
     ]
    },
    {
     "name": "stdout",
     "output_type": "stream",
     "text": [
      "Total Rows: 23998\n",
      "Train rows: 21598\n"
     ]
    },
    {
     "name": "stderr",
     "output_type": "stream",
     "text": [
      "| |   #                                           | 23997 Elapsed Time: 0:00:00\n",
      "- | #                                              | 6622 Elapsed Time: 0:00:00"
     ]
    },
    {
     "name": "stdout",
     "output_type": "stream",
     "text": [
      "Total Rows: 24218\n",
      "Train rows: 21796\n"
     ]
    },
    {
     "name": "stderr",
     "output_type": "stream",
     "text": [
      "| |   #                                           | 24217 Elapsed Time: 0:00:00\n",
      "- | #                                              | 6506 Elapsed Time: 0:00:00"
     ]
    },
    {
     "name": "stdout",
     "output_type": "stream",
     "text": [
      "Total Rows: 24078\n",
      "Train rows: 21670\n"
     ]
    },
    {
     "name": "stderr",
     "output_type": "stream",
     "text": [
      "| |    #                                          | 24077 Elapsed Time: 0:00:00\n",
      "- | #                                              | 6684 Elapsed Time: 0:00:00"
     ]
    },
    {
     "name": "stdout",
     "output_type": "stream",
     "text": [
      "Total Rows: 24005\n",
      "Train rows: 21604\n"
     ]
    },
    {
     "name": "stderr",
     "output_type": "stream",
     "text": [
      "| |   #                                           | 24004 Elapsed Time: 0:00:00\n",
      "- | #                                              | 6508 Elapsed Time: 0:00:00"
     ]
    },
    {
     "name": "stdout",
     "output_type": "stream",
     "text": [
      "Total Rows: 24010\n",
      "Train rows: 21609\n"
     ]
    },
    {
     "name": "stderr",
     "output_type": "stream",
     "text": [
      "| |   #                                           | 24009 Elapsed Time: 0:00:00\n",
      "- | #                                              | 6455 Elapsed Time: 0:00:00"
     ]
    },
    {
     "name": "stdout",
     "output_type": "stream",
     "text": [
      "Total Rows: 24042\n",
      "Train rows: 21637\n"
     ]
    },
    {
     "name": "stderr",
     "output_type": "stream",
     "text": [
      "| |   #                                           | 24041 Elapsed Time: 0:00:00\n",
      "- | #                                              | 6435 Elapsed Time: 0:00:00"
     ]
    },
    {
     "name": "stdout",
     "output_type": "stream",
     "text": [
      "Total Rows: 24319\n",
      "Train rows: 21887\n"
     ]
    },
    {
     "name": "stderr",
     "output_type": "stream",
     "text": [
      "| |   #                                           | 24318 Elapsed Time: 0:00:00\n",
      "- | #                                              | 6428 Elapsed Time: 0:00:00"
     ]
    },
    {
     "name": "stdout",
     "output_type": "stream",
     "text": [
      "Total Rows: 24002\n",
      "Train rows: 21601\n"
     ]
    },
    {
     "name": "stderr",
     "output_type": "stream",
     "text": [
      "| |   #                                           | 24001 Elapsed Time: 0:00:00\n",
      "- | #                                              | 5973 Elapsed Time: 0:00:00"
     ]
    },
    {
     "name": "stdout",
     "output_type": "stream",
     "text": [
      "Total Rows: 24265\n",
      "Train rows: 21838\n"
     ]
    },
    {
     "name": "stderr",
     "output_type": "stream",
     "text": [
      "| |   #                                           | 24264 Elapsed Time: 0:00:00\n",
      "- | #                                              | 6233 Elapsed Time: 0:00:00"
     ]
    },
    {
     "name": "stdout",
     "output_type": "stream",
     "text": [
      "Total Rows: 23996\n",
      "Train rows: 21596\n"
     ]
    },
    {
     "name": "stderr",
     "output_type": "stream",
     "text": [
      "| |   #                                           | 23995 Elapsed Time: 0:00:00\n",
      "- | #                                              | 6275 Elapsed Time: 0:00:00"
     ]
    },
    {
     "name": "stdout",
     "output_type": "stream",
     "text": [
      "Total Rows: 13573\n",
      "Train rows: 12215\n"
     ]
    },
    {
     "name": "stderr",
     "output_type": "stream",
     "text": [
      "| |  #                                            | 13572 Elapsed Time: 0:00:00\n",
      "- | #                                              | 6316 Elapsed Time: 0:00:00"
     ]
    },
    {
     "name": "stdout",
     "output_type": "stream",
     "text": [
      "Total Rows: 13583\n",
      "Train rows: 12224\n"
     ]
    },
    {
     "name": "stderr",
     "output_type": "stream",
     "text": [
      "| |  #                                            | 13582 Elapsed Time: 0:00:00\n",
      "/ |#                                                  | 0 Elapsed Time: 0:00:00"
     ]
    },
    {
     "name": "stdout",
     "output_type": "stream",
     "text": [
      "Fold 22 done!\n",
      "[1, 2, 3, 4, 5, 6, 7, 8, 9, 10, 11, 12, 13, 14, 15, 16, 17, 18, 19, 20, 21, 22, 23, 24, 25, 26]\n",
      "[1, 2, 3, 5, 6, 7, 8, 9, 10, 11, 12, 13, 14, 15, 16, 17, 18, 19, 20, 21, 22, 23, 26]\n",
      "subjects_per_fold  1\n",
      "Fold: 23\n",
      "Train: [1, 2, 3, 5, 6, 7, 8, 9, 10, 11, 12, 13, 14, 15, 16, 17, 18, 19, 20, 21, 22, 23]\n",
      "Test: [26]\n",
      "Total Rows: 24002\n",
      "Train rows: 21601\n"
     ]
    },
    {
     "name": "stderr",
     "output_type": "stream",
     "text": [
      "| |   #                                           | 24001 Elapsed Time: 0:00:00\n",
      "- | #                                              | 6028 Elapsed Time: 0:00:00"
     ]
    },
    {
     "name": "stdout",
     "output_type": "stream",
     "text": [
      "Total Rows: 24265\n",
      "Train rows: 21838\n"
     ]
    },
    {
     "name": "stderr",
     "output_type": "stream",
     "text": [
      "| |    #                                          | 24264 Elapsed Time: 0:00:00\n",
      "- | #                                              | 6258 Elapsed Time: 0:00:00"
     ]
    },
    {
     "name": "stdout",
     "output_type": "stream",
     "text": [
      "Total Rows: 23996\n",
      "Train rows: 21596\n"
     ]
    },
    {
     "name": "stderr",
     "output_type": "stream",
     "text": [
      "| |   #                                           | 23995 Elapsed Time: 0:00:00\n",
      "- | #                                              | 5499 Elapsed Time: 0:00:00"
     ]
    },
    {
     "name": "stdout",
     "output_type": "stream",
     "text": [
      "Total Rows: 24131\n",
      "Train rows: 21717\n"
     ]
    },
    {
     "name": "stderr",
     "output_type": "stream",
     "text": [
      "| |    #                                          | 24130 Elapsed Time: 0:00:00\n",
      "- | #                                              | 5166 Elapsed Time: 0:00:00"
     ]
    },
    {
     "name": "stdout",
     "output_type": "stream",
     "text": [
      "Total Rows: 24117\n",
      "Train rows: 21705\n"
     ]
    },
    {
     "name": "stderr",
     "output_type": "stream",
     "text": [
      "| |    #                                          | 24116 Elapsed Time: 0:00:00\n",
      "- | #                                              | 5800 Elapsed Time: 0:00:00"
     ]
    },
    {
     "name": "stdout",
     "output_type": "stream",
     "text": [
      "Total Rows: 24198\n",
      "Train rows: 21778\n"
     ]
    },
    {
     "name": "stderr",
     "output_type": "stream",
     "text": [
      "| |   #                                           | 24197 Elapsed Time: 0:00:00\n",
      "- | #                                              | 6043 Elapsed Time: 0:00:00"
     ]
    },
    {
     "name": "stdout",
     "output_type": "stream",
     "text": [
      "Total Rows: 23989\n",
      "Train rows: 21590\n"
     ]
    },
    {
     "name": "stderr",
     "output_type": "stream",
     "text": [
      "| |    #                                          | 23988 Elapsed Time: 0:00:00\n",
      "- | #                                              | 5778 Elapsed Time: 0:00:00"
     ]
    },
    {
     "name": "stdout",
     "output_type": "stream",
     "text": [
      "Total Rows: 24108\n",
      "Train rows: 21697\n"
     ]
    },
    {
     "name": "stderr",
     "output_type": "stream",
     "text": [
      "| |   #                                           | 24107 Elapsed Time: 0:00:00\n",
      "- | #                                              | 6345 Elapsed Time: 0:00:00"
     ]
    },
    {
     "name": "stdout",
     "output_type": "stream",
     "text": [
      "Total Rows: 24046\n",
      "Train rows: 21641\n"
     ]
    },
    {
     "name": "stderr",
     "output_type": "stream",
     "text": [
      "| |   #                                           | 24045 Elapsed Time: 0:00:00\n",
      "- | #                                              | 6324 Elapsed Time: 0:00:00"
     ]
    },
    {
     "name": "stdout",
     "output_type": "stream",
     "text": [
      "Total Rows: 24035\n",
      "Train rows: 21631\n"
     ]
    },
    {
     "name": "stderr",
     "output_type": "stream",
     "text": [
      "| |   #                                           | 24034 Elapsed Time: 0:00:00\n",
      "- | #                                              | 6460 Elapsed Time: 0:00:00"
     ]
    },
    {
     "name": "stdout",
     "output_type": "stream",
     "text": [
      "Total Rows: 23998\n",
      "Train rows: 21598\n"
     ]
    },
    {
     "name": "stderr",
     "output_type": "stream",
     "text": [
      "| |    #                                          | 23997 Elapsed Time: 0:00:00\n",
      "- | #                                              | 6314 Elapsed Time: 0:00:00"
     ]
    },
    {
     "name": "stdout",
     "output_type": "stream",
     "text": [
      "Total Rows: 24218\n",
      "Train rows: 21796\n"
     ]
    },
    {
     "name": "stderr",
     "output_type": "stream",
     "text": [
      "| |    #                                          | 24217 Elapsed Time: 0:00:00\n",
      "- | #                                              | 5250 Elapsed Time: 0:00:00"
     ]
    },
    {
     "name": "stdout",
     "output_type": "stream",
     "text": [
      "Total Rows: 24078\n",
      "Train rows: 21670\n"
     ]
    },
    {
     "name": "stderr",
     "output_type": "stream",
     "text": [
      "| |    #                                          | 24077 Elapsed Time: 0:00:00\n",
      "- | #                                              | 6037 Elapsed Time: 0:00:00"
     ]
    },
    {
     "name": "stdout",
     "output_type": "stream",
     "text": [
      "Total Rows: 24005\n",
      "Train rows: 21604\n"
     ]
    },
    {
     "name": "stderr",
     "output_type": "stream",
     "text": [
      "| |   #                                           | 24004 Elapsed Time: 0:00:00\n",
      "- | #                                              | 5350 Elapsed Time: 0:00:00"
     ]
    },
    {
     "name": "stdout",
     "output_type": "stream",
     "text": [
      "Total Rows: 24010\n",
      "Train rows: 21609\n"
     ]
    },
    {
     "name": "stderr",
     "output_type": "stream",
     "text": [
      "| |   #                                           | 24009 Elapsed Time: 0:00:00\n",
      "- | #                                              | 6188 Elapsed Time: 0:00:00"
     ]
    },
    {
     "name": "stdout",
     "output_type": "stream",
     "text": [
      "Total Rows: 24042\n",
      "Train rows: 21637\n"
     ]
    },
    {
     "name": "stderr",
     "output_type": "stream",
     "text": [
      "| |   #                                           | 24041 Elapsed Time: 0:00:00\n",
      "- | #                                              | 6442 Elapsed Time: 0:00:00"
     ]
    },
    {
     "name": "stdout",
     "output_type": "stream",
     "text": [
      "Total Rows: 24319\n",
      "Train rows: 21887\n"
     ]
    },
    {
     "name": "stderr",
     "output_type": "stream",
     "text": [
      "| |   #                                           | 24318 Elapsed Time: 0:00:00\n",
      "- | #                                              | 6476 Elapsed Time: 0:00:00"
     ]
    },
    {
     "name": "stdout",
     "output_type": "stream",
     "text": [
      "Total Rows: 24002\n",
      "Train rows: 21601\n"
     ]
    },
    {
     "name": "stderr",
     "output_type": "stream",
     "text": [
      "| |   #                                           | 24001 Elapsed Time: 0:00:00\n",
      "- | #                                              | 6088 Elapsed Time: 0:00:00"
     ]
    },
    {
     "name": "stdout",
     "output_type": "stream",
     "text": [
      "Total Rows: 24265\n",
      "Train rows: 21838\n"
     ]
    },
    {
     "name": "stderr",
     "output_type": "stream",
     "text": [
      "| |    #                                          | 24264 Elapsed Time: 0:00:00\n",
      "- | #                                              | 6428 Elapsed Time: 0:00:00"
     ]
    },
    {
     "name": "stdout",
     "output_type": "stream",
     "text": [
      "Total Rows: 23996\n",
      "Train rows: 21596\n"
     ]
    },
    {
     "name": "stderr",
     "output_type": "stream",
     "text": [
      "| |   #                                           | 23995 Elapsed Time: 0:00:00\n",
      "- | #                                              | 6183 Elapsed Time: 0:00:00"
     ]
    },
    {
     "name": "stdout",
     "output_type": "stream",
     "text": [
      "Total Rows: 13573\n",
      "Train rows: 12215\n"
     ]
    },
    {
     "name": "stderr",
     "output_type": "stream",
     "text": [
      "| |  #                                            | 13572 Elapsed Time: 0:00:00\n",
      "- | #                                              | 6463 Elapsed Time: 0:00:00"
     ]
    },
    {
     "name": "stdout",
     "output_type": "stream",
     "text": [
      "Total Rows: 13730\n",
      "Train rows: 12357\n"
     ]
    },
    {
     "name": "stderr",
     "output_type": "stream",
     "text": [
      "| |  #                                            | 13729 Elapsed Time: 0:00:00\n"
     ]
    },
    {
     "name": "stdout",
     "output_type": "stream",
     "text": [
      "Fold 23 done!\n"
     ]
    }
   ],
   "source": [
    "import csv\n",
    "from random import shuffle\n",
    "import os\n",
    "import progressbar\n",
    "import time\n",
    "import datetime\n",
    "\n",
    "total_patients = 26    # Numero di pazienti totali, inclusi quelli da escludere se presenti\n",
    "exclude_patients = [4,24,25] #Pazienti da escludere\n",
    "#exclude_patients = [] #Pazienti da escludere\n",
    "folds_offset = 1    # Poiché pesano tanto, conviene parametrizzare anche il \"lower bound\" del ciclo for\n",
    "num_folds = 23    # Numero di folds da creare\n",
    "perc_test = 20    # Percentuale di soggetti da includere nel TESTFOLD_UNLEARNED per ogni fold\n",
    "patients_test = int( ( total_patients / 100 ) * perc_test )     # Numero di soggetti da inserire nel TESTFOLD_UNLEARNED \n",
    "train_split_perc = 0.9    # Percentuale da utilizzare per creare il TRAINFOLD da 'traincount'             \n",
    "\n",
    "out_sub_folder = \"folds_inter\"\n",
    "\n",
    "random_assignment = False    # Se \"True\", sceglie in maniera randomica i \n",
    "                            # soggetti da mettere in train e quelli da mettere in test\n",
    "\n",
    "#prefix = \"s_bpf-20-450_rect_\"\n",
    "#suffix = \"_norm_windows_20\"\n",
    "prefix = \"s_\"\n",
    "suffix = \"_windows_200_features_norm\"\n",
    "\n",
    "#subjects_path = \"../subjects/min-max/windows_20/tr-False/\"\n",
    "#subjects_path = \"subjects/min-max/clean/windows_20-del_tr-True-slide-False-digits-3/\"\n",
    "#subjects_path = \"subjects/bpf-20-450_rect/min-max/windows_20-del_tr-False-slide-False-digits-3/\"\n",
    "#subjects_path = \"subjects/min-max/clean/windows_200-del_tr-True-slide-False-digits-3/\"\n",
    "subjects_path = \"subjects/bpf-20-450/windows_200-del_tr-False-slide-True-digits-3-pace-20/\"\n",
    "\n",
    "log = subjects_path + out_sub_folder + \"/folds_info.txt\"\n",
    "if not os.path.exists(subjects_path + out_sub_folder):\n",
    "    os.mkdir(subjects_path + out_sub_folder)\n",
    "\n",
    "with open(log, 'w') as f_log:\n",
    "    start_time = time.time()\n",
    "    # Divide il set totale in tre sottogruppi:\n",
    "        # Train\n",
    "        # Test Learned\n",
    "        # Test Unlearned\n",
    "    # Gli ultimi due sono quelli effettivamente da confrontare poi\n",
    "    for n in range(folds_offset,num_folds+1):\n",
    "        train_file = subjects_path + out_sub_folder + \"/TrainFold_\" + str(n) + \".csv\"\n",
    "        test_file_learned = subjects_path + out_sub_folder + \"/TestFold_L_\" + str(n) + \".csv\"\n",
    "        test_file_unlearned = subjects_path + out_sub_folder + \"/TestFold_U_\" + str(n) + \".csv\"\n",
    "        \n",
    "        # Se vogliamo prendere i soggetti in ordine casuale:\n",
    "        if random_assignment:\n",
    "            l = [i for i in range(1,total_patients+1)]    # Riempie il vettore 'l' con numeri da 1 a 'total_patients'\n",
    "            print(l)\n",
    "            [l.remove(x) for x in exclude_patients]\n",
    "            print(l)\n",
    "            shuffle(l)    # Li riordina a caso\n",
    "            l_test = l[:patients_test]    # Il TEST_FOLD è composto dai pazienti da 1 -> 'patient_test'\n",
    "            l_train = l[patients_test:]    # Il TRAIN_FOLD è composto dai pazienti da 'patients_test' -> fino alla fine\n",
    "        \n",
    "        # Se li vogliamo prendere sequenzialmente\n",
    "        else:\n",
    "            l = [i for i in range(1,total_patients+1)]    # Riempie il vettore 'l' con numeri da 1 a 'total_patients'\n",
    "            print(l)\n",
    "            [l.remove(x) for x in exclude_patients]\n",
    "            print(l)\n",
    "            subjects_per_fold = int(len(l)/num_folds)\n",
    "            print(\"subjects_per_fold \", subjects_per_fold)\n",
    "            l_test = []\n",
    "            for i in range(n - 1, n -1 + subjects_per_fold):\n",
    "                l_test.append(l[i])\n",
    "            l_train = []\n",
    "            for i in l:\n",
    "                if not i in l_test:\n",
    "                    l_train.append(i)\n",
    "                    \n",
    "        print(\"Fold: \" + str(n))    \n",
    "        print(\"Train: \" + str(l_train))\n",
    "        print(\"Test: \" + str(l_test))\n",
    "        \n",
    "        \n",
    "        with open(train_file, mode='w') as t_out:\n",
    "            csv_writer = csv.writer(t_out, delimiter=',')\n",
    "            with open(test_file_learned, mode='w') as t_out_test:\n",
    "                csv_writer_test = csv.writer(t_out_test, delimiter=',')\n",
    "                f_log.write(\"Subjects in Train Fold \" + str(n) + \": \" + str(l_train[:]) + \"\\n\") \n",
    "                for i in l_train:    # Apri il soggetto 'i' tra quelli selezionati per il TRAINFOLD\n",
    "                    with open(subjects_path + prefix + str(i) + suffix +'.csv', mode='r') as s_in:\n",
    "                        csv_reader = csv.reader(s_in, delimiter=',')\n",
    "                        row_count = sum(1 for row in csv_reader)\n",
    "                    train_count = int(row_count*train_split_perc)    # Indica la percentuale da utilizzare come TRAINFOLD - Default è 90%\n",
    "                    print(\"Total Rows: \" + str(row_count))\n",
    "                    print(\"Train rows: \" + str(train_count))\n",
    "                    count = 0\n",
    "                    with open(subjects_path + prefix + str(i) + suffix +'.csv', mode='r') as s_in:    # Apri il file originale del soggetto 'i' (quello \"finestrato\")\n",
    "                        csv_reader = csv.reader(s_in, delimiter=',')\n",
    "                        for line in progressbar.progressbar(csv_reader):\n",
    "                            #time.sleep(0.0001)\n",
    "                            count += 1    # Conta le righe (\"finestre\") nel file originale\n",
    "                            if (count<train_count):    # Finché non arriva alla percentuale desiderata\n",
    "                                csv_writer.writerow(line)    # Scrivi sul TRAINFOLD\n",
    "                            else:\n",
    "                                csv_writer_test.writerow(line)    # Altrimenti scrivi su TESTFOLD_LEARNED\n",
    "        with open(test_file_unlearned, mode='w') as t_out:\n",
    "            csv_writer = csv.writer(t_out, delimiter=',')\n",
    "            f_log.write(\"Subjects in Test Fold \" + str(n) + \": \" + str(l_test[:])+ \"\\n\\n\") \n",
    "            for i in l_test:    # Apri il soggetto 'i' tra quelli selezionati per il TESTFOLD_UNLEARNED\n",
    "                with open(subjects_path + prefix + str(i) + suffix +'.csv', mode='r') as s_in:    # Apri il file originale del soggetto 'i' (quello \"finestrato\")\n",
    "                    csv_reader = csv.reader(s_in, delimiter=',')\n",
    "                    for line in csv_reader:\n",
    "                        csv_writer.writerow(line) # Scrivi su TESTFOLD_UNLEARNED il soggetto 'i' \n",
    "        end_time = time.time()        \n",
    "        time_tot = int(end_time - start_time)\n",
    "        f_log.write(\"Elapsed time (Fold \" + str(n) + \"): \" + str(datetime.timedelta(seconds=time_tot)) + \"\\n\")\n",
    "        print(\"Fold \" + str(n) + \" done!\")        # verranno appesi tutti in un unico file alla fine!\n",
    "        \n",
    "        \n",
    "        \n"
   ]
  },
  {
   "cell_type": "code",
   "execution_count": null,
   "metadata": {
    "collapsed": true
   },
   "outputs": [],
   "source": []
  }
 ],
 "metadata": {
  "kernelspec": {
   "display_name": "Python 3",
   "language": "python",
   "name": "python3"
  },
  "language_info": {
   "codemirror_mode": {
    "name": "ipython",
    "version": 3
   },
   "file_extension": ".py",
   "mimetype": "text/x-python",
   "name": "python",
   "nbconvert_exporter": "python",
   "pygments_lexer": "ipython3",
   "version": "3.6.8"
  }
 },
 "nbformat": 4,
 "nbformat_minor": 2
}

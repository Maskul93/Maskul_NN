{
 "cells": [
  {
   "cell_type": "code",
   "execution_count": 15,
   "metadata": {},
   "outputs": [],
   "source": [
    "## -- This script is required to cut the original basographic signal according to\n",
    "## -- the cutting points. Evaluation of TP, FP etc. must be done AFTER this script has run\n",
    "\n",
    "import pandas as pd\n",
    "from numpy import genfromtxt\n",
    "\n",
    "\n",
    "#subject_select = 1\n",
    "in_path = '../subjects_intra/baso_real/'\n",
    "in_suffix = '_baso_real.csv'\n",
    "#out_path = '../subjects_intra/min-max/windows_20/tr-False/folds_intra/subject' + str(subject_select) + '/Predicted/'\n",
    "\n",
    "# Load cutting points and original basographic signal\n",
    "\n",
    "for subject_select in range(1, 26 + 1):\n",
    "    cutting_points = genfromtxt('../subjects_intra/min-max/windows_20/tr-False/folds_intra/subject' + str(subject_select) + '/cutting_points.csv', delimiter=',', dtype = int)\n",
    "    baso_real = genfromtxt(in_path + 's' + str(subject_select) + in_suffix, delimiter = \",\", dtype = int)\n",
    "    out_path = '../subjects_intra/min-max/windows_20/tr-False/folds_intra/subject' + str(subject_select) + '/Predicted/'\n",
    "    for i in range(0, 10):\n",
    "        temp = baso_real[cutting_points[i,0] - 1: cutting_points[i,1] - 1]\n",
    "        temp = pd.DataFrame(temp)\n",
    "        temp = temp.to_csv(out_path + str(i+1) + '_original.csv' , index = None, header = None)\n",
    "\n"
   ]
  }
 ],
 "metadata": {
  "kernelspec": {
   "display_name": "Python 3",
   "language": "python",
   "name": "python3"
  },
  "language_info": {
   "codemirror_mode": {
    "name": "ipython",
    "version": 3
   },
   "file_extension": ".py",
   "mimetype": "text/x-python",
   "name": "python",
   "nbconvert_exporter": "python",
   "pygments_lexer": "ipython3",
   "version": "3.7.4"
  }
 },
 "nbformat": 4,
 "nbformat_minor": 4
}

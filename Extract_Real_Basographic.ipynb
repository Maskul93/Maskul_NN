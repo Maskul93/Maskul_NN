{
 "cells": [
  {
   "cell_type": "code",
   "execution_count": 35,
   "metadata": {},
   "outputs": [
    {
     "name": "stdout",
     "output_type": "stream",
     "text": [
      "Swing Onset at sample 6348\n"
     ]
    },
    {
     "name": "stderr",
     "output_type": "stream",
     "text": [
      "/home/maskul/anaconda3/lib/python3.7/site-packages/ipykernel_launcher.py:50: FutureWarning: The signature of `Series.to_csv` was aligned to that of `DataFrame.to_csv`, and argument 'header' will change its default value from False to True: please pass an explicit value to suppress this warning.\n"
     ]
    },
    {
     "name": "stdout",
     "output_type": "stream",
     "text": [
      "Swing Onset at sample 1092\n",
      "Swing Onset at sample 6468\n",
      "Swing Onset at sample 6324\n",
      "Swing Onset at sample 3763\n",
      "Swing Onset at sample 4041\n",
      "Swing Onset at sample 2421\n",
      "Swing Onset at sample 6615\n",
      "Swing Onset at sample 4228\n",
      "Swing Onset at sample 5479\n",
      "Swing Onset at sample 5683\n",
      "Swing Onset at sample 6437\n",
      "Swing Onset at sample 2022\n",
      "Swing Onset at sample 4824\n",
      "Swing Onset at sample 6291\n",
      "Swing Onset at sample 6188\n",
      "Swing Onset at sample 5549\n",
      "Swing Onset at sample 1\n",
      "Swing Onset at sample 6348\n",
      "Swing Onset at sample 1092\n",
      "Swing Onset at sample 6468\n",
      "Swing Onset at sample 7886\n",
      "Swing Onset at sample 4745\n",
      "Swing Onset at sample 6601\n",
      "Swing Onset at sample 8324\n",
      "Swing Onset at sample 7683\n"
     ]
    }
   ],
   "source": [
    "## -- Extract Real Baographic\n",
    "# This function simply saves onto a file the original basographic signal\n",
    "\n",
    "## -- The aim is to delete everything until the first Swing has reached.\n",
    "\n",
    "import csv\n",
    "import statistics\n",
    "import pandas as pd\n",
    "import os\n",
    "import numpy as np\n",
    "\n",
    "in_path = \"../subjects/min-max/\"\n",
    "out_path = \"../subjects/min-max/Real_Baographics/\"\n",
    "prefix = 'Biphase_Subject'\n",
    "suffix = '_norm'\n",
    "out_suffix = \"_Original_Basographic_\"\n",
    "#create folders if not existing...\n",
    "if not os.path.exists(out_path):\n",
    "    os.makedirs(out_path)\n",
    "    \n",
    "first_subj = 1\n",
    "end_subj = 26\n",
    "\n",
    "label_column = 10    # Column of the label in the original .csv\n",
    "\n",
    "for subj in range(first_subj, end_subj+1):\n",
    "    ## -- Mi serve per eliminare tutto fino al primo Swing (il primo 1)\n",
    "    csv_swing = []\n",
    "    found = False    # Flag per stoppare il ciclo quando trova il primo Swing\n",
    "    with open(in_path + prefix + str(subj) + suffix + '.csv') as csv_file:\n",
    "        csv_reader = csv.reader(csv_file, delimiter=',')\n",
    "        swing_onset = 0\n",
    "        for line in csv_reader: \n",
    "            if not found:\n",
    "                csv_swing.append(line)\n",
    "                swing_onset += 1\n",
    "                if line[label_column] == '1.000000':\n",
    "                    found = True\n",
    "    print('Swing Onset at sample ' + str(swing_onset))\n",
    "    \n",
    "    ## -- Lo converto in dataframe\n",
    "    csv_in = []\n",
    "    with open(in_path + prefix + str(subj) + suffix + '.csv') as csv_file:\n",
    "        csv_reader = csv.reader(csv_file, delimiter=',')\n",
    "        for line in csv_reader:\n",
    "            csv_in.append(line)\n",
    "    \n",
    "    limit = len(csv_in)\n",
    "    \n",
    "    ## -- Lo salvo\n",
    "    complete = pd.DataFrame(csv_in)\n",
    "    complete = complete.iloc[swing_onset:limit,-1].to_csv(out_path + prefix + str(subj) + out_suffix + '.csv', index = False)"
   ]
  }
 ],
 "metadata": {
  "kernelspec": {
   "display_name": "Python 3",
   "language": "python",
   "name": "python3"
  },
  "language_info": {
   "codemirror_mode": {
    "name": "ipython",
    "version": 3
   },
   "file_extension": ".py",
   "mimetype": "text/x-python",
   "name": "python",
   "nbconvert_exporter": "python",
   "pygments_lexer": "ipython3",
   "version": "3.6.8"
  }
 },
 "nbformat": 4,
 "nbformat_minor": 2
}
